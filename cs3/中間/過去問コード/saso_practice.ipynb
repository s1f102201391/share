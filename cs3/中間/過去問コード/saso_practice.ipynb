{
 "cells": [
  {
   "cell_type": "code",
   "execution_count": 1,
   "id": "bc440d5f-758e-4461-b8f2-6ff175cfb4de",
   "metadata": {},
   "outputs": [],
   "source": [
    "import numpy as np\n",
    "import pandas as pd\n",
    "import matplotlib.pyplot as plt"
   ]
  },
  {
   "cell_type": "code",
   "execution_count": 2,
   "id": "1e652462-6a86-4dae-8efa-eb0eb53e4308",
   "metadata": {},
   "outputs": [],
   "source": [
    "csv_in='mid-p1.csv'\n",
    "df=df = pd.read_csv(csv_in, sep=\",\", skiprows=4, header=0)"
   ]
  },
  {
   "cell_type": "code",
   "execution_count": 3,
   "id": "4a834c14-8d0e-4807-a960-dd518655f0cb",
   "metadata": {},
   "outputs": [
    {
     "name": "stdout",
     "output_type": "stream",
     "text": [
      "(108, 4)\n",
      "<class 'pandas.core.frame.DataFrame'>\n",
      "RangeIndex: 108 entries, 0 to 107\n",
      "Data columns (total 4 columns):\n",
      " #   Column  Non-Null Count  Dtype  \n",
      "---  ------  --------------  -----  \n",
      " 0   d1      108 non-null    float64\n",
      " 1   d2      108 non-null    int64  \n",
      " 2   d3      108 non-null    object \n",
      " 3   d4      108 non-null    object \n",
      "dtypes: float64(1), int64(1), object(2)\n",
      "memory usage: 3.5+ KB\n",
      "None\n"
     ]
    },
    {
     "data": {
      "text/html": [
       "<div>\n",
       "<style scoped>\n",
       "    .dataframe tbody tr th:only-of-type {\n",
       "        vertical-align: middle;\n",
       "    }\n",
       "\n",
       "    .dataframe tbody tr th {\n",
       "        vertical-align: top;\n",
       "    }\n",
       "\n",
       "    .dataframe thead th {\n",
       "        text-align: right;\n",
       "    }\n",
       "</style>\n",
       "<table border=\"1\" class=\"dataframe\">\n",
       "  <thead>\n",
       "    <tr style=\"text-align: right;\">\n",
       "      <th></th>\n",
       "      <th>d1</th>\n",
       "      <th>d2</th>\n",
       "      <th>d3</th>\n",
       "      <th>d4</th>\n",
       "    </tr>\n",
       "  </thead>\n",
       "  <tbody>\n",
       "    <tr>\n",
       "      <th>0</th>\n",
       "      <td>1.75</td>\n",
       "      <td>22</td>\n",
       "      <td>S</td>\n",
       "      <td>j</td>\n",
       "    </tr>\n",
       "    <tr>\n",
       "      <th>1</th>\n",
       "      <td>-0.29</td>\n",
       "      <td>0</td>\n",
       "      <td>D</td>\n",
       "      <td>t</td>\n",
       "    </tr>\n",
       "    <tr>\n",
       "      <th>2</th>\n",
       "      <td>-0.48</td>\n",
       "      <td>19</td>\n",
       "      <td>S</td>\n",
       "      <td>p</td>\n",
       "    </tr>\n",
       "    <tr>\n",
       "      <th>3</th>\n",
       "      <td>-2.65</td>\n",
       "      <td>19</td>\n",
       "      <td>S</td>\n",
       "      <td>p</td>\n",
       "    </tr>\n",
       "    <tr>\n",
       "      <th>4</th>\n",
       "      <td>-0.01</td>\n",
       "      <td>20</td>\n",
       "      <td>D</td>\n",
       "      <td>e</td>\n",
       "    </tr>\n",
       "  </tbody>\n",
       "</table>\n",
       "</div>"
      ],
      "text/plain": [
       "     d1  d2 d3 d4\n",
       "0  1.75  22  S  j\n",
       "1 -0.29   0  D  t\n",
       "2 -0.48  19  S  p\n",
       "3 -2.65  19  S  p\n",
       "4 -0.01  20  D  e"
      ]
     },
     "metadata": {},
     "output_type": "display_data"
    }
   ],
   "source": [
    "print(df.shape)\n",
    "print(df.info())\n",
    "display(df.head())"
   ]
  },
  {
   "cell_type": "code",
   "execution_count": 4,
   "id": "f0348e84-a33b-4aaa-a393-4c20d704aa31",
   "metadata": {},
   "outputs": [
    {
     "name": "stdout",
     "output_type": "stream",
     "text": [
      "0    1.75\n",
      "1   -0.29\n",
      "2   -0.48\n",
      "3   -2.65\n",
      "4   -0.01\n",
      "Name: d1, dtype: float64\n"
     ]
    }
   ],
   "source": [
    "print(df['d1'].head())"
   ]
  },
  {
   "cell_type": "code",
   "execution_count": 5,
   "id": "e5c0efd7-f72f-4ece-ba43-8af47e137bee",
   "metadata": {},
   "outputs": [
    {
     "name": "stdout",
     "output_type": "stream",
     "text": [
      "-2.65\n"
     ]
    }
   ],
   "source": [
    "print(df['d1'].min())"
   ]
  },
  {
   "cell_type": "code",
   "execution_count": 6,
   "id": "0a822877-462f-416a-8da2-62cd8f1e1d04",
   "metadata": {},
   "outputs": [
    {
     "data": {
      "text/html": [
       "<div>\n",
       "<style scoped>\n",
       "    .dataframe tbody tr th:only-of-type {\n",
       "        vertical-align: middle;\n",
       "    }\n",
       "\n",
       "    .dataframe tbody tr th {\n",
       "        vertical-align: top;\n",
       "    }\n",
       "\n",
       "    .dataframe thead th {\n",
       "        text-align: right;\n",
       "    }\n",
       "</style>\n",
       "<table border=\"1\" class=\"dataframe\">\n",
       "  <thead>\n",
       "    <tr style=\"text-align: right;\">\n",
       "      <th></th>\n",
       "      <th>d1</th>\n",
       "      <th>d2</th>\n",
       "      <th>d3</th>\n",
       "      <th>d4</th>\n",
       "    </tr>\n",
       "  </thead>\n",
       "  <tbody>\n",
       "    <tr>\n",
       "      <th>107</th>\n",
       "      <td>1.79</td>\n",
       "      <td>0</td>\n",
       "      <td>D</td>\n",
       "      <td>p</td>\n",
       "    </tr>\n",
       "    <tr>\n",
       "      <th>79</th>\n",
       "      <td>-1.91</td>\n",
       "      <td>0</td>\n",
       "      <td>N</td>\n",
       "      <td>p</td>\n",
       "    </tr>\n",
       "    <tr>\n",
       "      <th>83</th>\n",
       "      <td>1.85</td>\n",
       "      <td>0</td>\n",
       "      <td>N</td>\n",
       "      <td>t</td>\n",
       "    </tr>\n",
       "    <tr>\n",
       "      <th>87</th>\n",
       "      <td>0.83</td>\n",
       "      <td>0</td>\n",
       "      <td>S</td>\n",
       "      <td>e</td>\n",
       "    </tr>\n",
       "    <tr>\n",
       "      <th>17</th>\n",
       "      <td>1.57</td>\n",
       "      <td>0</td>\n",
       "      <td>H</td>\n",
       "      <td>p</td>\n",
       "    </tr>\n",
       "    <tr>\n",
       "      <th>...</th>\n",
       "      <td>...</td>\n",
       "      <td>...</td>\n",
       "      <td>...</td>\n",
       "      <td>...</td>\n",
       "    </tr>\n",
       "    <tr>\n",
       "      <th>3</th>\n",
       "      <td>-2.65</td>\n",
       "      <td>19</td>\n",
       "      <td>S</td>\n",
       "      <td>p</td>\n",
       "    </tr>\n",
       "    <tr>\n",
       "      <th>106</th>\n",
       "      <td>-0.05</td>\n",
       "      <td>19</td>\n",
       "      <td>N</td>\n",
       "      <td>j</td>\n",
       "    </tr>\n",
       "    <tr>\n",
       "      <th>2</th>\n",
       "      <td>-0.48</td>\n",
       "      <td>19</td>\n",
       "      <td>S</td>\n",
       "      <td>p</td>\n",
       "    </tr>\n",
       "    <tr>\n",
       "      <th>4</th>\n",
       "      <td>-0.01</td>\n",
       "      <td>20</td>\n",
       "      <td>D</td>\n",
       "      <td>e</td>\n",
       "    </tr>\n",
       "    <tr>\n",
       "      <th>0</th>\n",
       "      <td>1.75</td>\n",
       "      <td>22</td>\n",
       "      <td>S</td>\n",
       "      <td>j</td>\n",
       "    </tr>\n",
       "  </tbody>\n",
       "</table>\n",
       "<p>108 rows × 4 columns</p>\n",
       "</div>"
      ],
      "text/plain": [
       "       d1  d2 d3 d4\n",
       "107  1.79   0  D  p\n",
       "79  -1.91   0  N  p\n",
       "83   1.85   0  N  t\n",
       "87   0.83   0  S  e\n",
       "17   1.57   0  H  p\n",
       "..    ...  .. .. ..\n",
       "3   -2.65  19  S  p\n",
       "106 -0.05  19  N  j\n",
       "2   -0.48  19  S  p\n",
       "4   -0.01  20  D  e\n",
       "0    1.75  22  S  j\n",
       "\n",
       "[108 rows x 4 columns]"
      ]
     },
     "metadata": {},
     "output_type": "display_data"
    }
   ],
   "source": [
    "display(df.sort_values(by='d2',ascending = True))"
   ]
  },
  {
   "cell_type": "code",
   "execution_count": 7,
   "id": "eea31aff-b3c9-49f7-8d9a-2f7bf50754b3",
   "metadata": {},
   "outputs": [
    {
     "name": "stdout",
     "output_type": "stream",
     "text": [
      "N    29\n",
      "D    28\n",
      "H    27\n",
      "S    24\n",
      "Name: d3, dtype: int64\n"
     ]
    }
   ],
   "source": [
    "print(df['d3'].value_counts())"
   ]
  },
  {
   "cell_type": "code",
   "execution_count": 19,
   "id": "26254373-3299-4ea8-9754-10ef9dab5410",
   "metadata": {},
   "outputs": [
    {
     "data": {
      "text/html": [
       "<div>\n",
       "<style scoped>\n",
       "    .dataframe tbody tr th:only-of-type {\n",
       "        vertical-align: middle;\n",
       "    }\n",
       "\n",
       "    .dataframe tbody tr th {\n",
       "        vertical-align: top;\n",
       "    }\n",
       "\n",
       "    .dataframe thead th {\n",
       "        text-align: right;\n",
       "    }\n",
       "</style>\n",
       "<table border=\"1\" class=\"dataframe\">\n",
       "  <thead>\n",
       "    <tr style=\"text-align: right;\">\n",
       "      <th></th>\n",
       "      <th>d1</th>\n",
       "      <th>d2</th>\n",
       "      <th>d_tot</th>\n",
       "    </tr>\n",
       "    <tr>\n",
       "      <th>d3</th>\n",
       "      <th></th>\n",
       "      <th></th>\n",
       "      <th></th>\n",
       "    </tr>\n",
       "  </thead>\n",
       "  <tbody>\n",
       "    <tr>\n",
       "      <th>D</th>\n",
       "      <td>1.79</td>\n",
       "      <td>20</td>\n",
       "      <td>19.99</td>\n",
       "    </tr>\n",
       "    <tr>\n",
       "      <th>H</th>\n",
       "      <td>1.57</td>\n",
       "      <td>16</td>\n",
       "      <td>16.39</td>\n",
       "    </tr>\n",
       "    <tr>\n",
       "      <th>N</th>\n",
       "      <td>2.16</td>\n",
       "      <td>19</td>\n",
       "      <td>18.95</td>\n",
       "    </tr>\n",
       "    <tr>\n",
       "      <th>S</th>\n",
       "      <td>1.75</td>\n",
       "      <td>22</td>\n",
       "      <td>23.75</td>\n",
       "    </tr>\n",
       "  </tbody>\n",
       "</table>\n",
       "</div>"
      ],
      "text/plain": [
       "      d1  d2  d_tot\n",
       "d3                 \n",
       "D   1.79  20  19.99\n",
       "H   1.57  16  16.39\n",
       "N   2.16  19  18.95\n",
       "S   1.75  22  23.75"
      ]
     },
     "metadata": {},
     "output_type": "display_data"
    }
   ],
   "source": [
    "df2=df.drop(columns='d4')\n",
    "display(df2.groupby('d3').max())"
   ]
  },
  {
   "cell_type": "code",
   "execution_count": 20,
   "id": "20b79fc1-669e-4e5f-acb6-720246693a11",
   "metadata": {},
   "outputs": [
    {
     "data": {
      "text/html": [
       "<div>\n",
       "<style scoped>\n",
       "    .dataframe tbody tr th:only-of-type {\n",
       "        vertical-align: middle;\n",
       "    }\n",
       "\n",
       "    .dataframe tbody tr th {\n",
       "        vertical-align: top;\n",
       "    }\n",
       "\n",
       "    .dataframe thead th {\n",
       "        text-align: right;\n",
       "    }\n",
       "</style>\n",
       "<table border=\"1\" class=\"dataframe\">\n",
       "  <thead>\n",
       "    <tr style=\"text-align: right;\">\n",
       "      <th></th>\n",
       "      <th>d1</th>\n",
       "      <th>d2</th>\n",
       "      <th>d3</th>\n",
       "      <th>d4</th>\n",
       "      <th>d_tot</th>\n",
       "    </tr>\n",
       "  </thead>\n",
       "  <tbody>\n",
       "    <tr>\n",
       "      <th>0</th>\n",
       "      <td>1.75</td>\n",
       "      <td>22</td>\n",
       "      <td>S</td>\n",
       "      <td>j</td>\n",
       "      <td>23.75</td>\n",
       "    </tr>\n",
       "    <tr>\n",
       "      <th>1</th>\n",
       "      <td>-0.29</td>\n",
       "      <td>0</td>\n",
       "      <td>D</td>\n",
       "      <td>t</td>\n",
       "      <td>-0.29</td>\n",
       "    </tr>\n",
       "    <tr>\n",
       "      <th>2</th>\n",
       "      <td>-0.48</td>\n",
       "      <td>19</td>\n",
       "      <td>S</td>\n",
       "      <td>p</td>\n",
       "      <td>18.52</td>\n",
       "    </tr>\n",
       "    <tr>\n",
       "      <th>3</th>\n",
       "      <td>-2.65</td>\n",
       "      <td>19</td>\n",
       "      <td>S</td>\n",
       "      <td>p</td>\n",
       "      <td>16.35</td>\n",
       "    </tr>\n",
       "    <tr>\n",
       "      <th>4</th>\n",
       "      <td>-0.01</td>\n",
       "      <td>20</td>\n",
       "      <td>D</td>\n",
       "      <td>e</td>\n",
       "      <td>19.99</td>\n",
       "    </tr>\n",
       "  </tbody>\n",
       "</table>\n",
       "</div>"
      ],
      "text/plain": [
       "     d1  d2 d3 d4  d_tot\n",
       "0  1.75  22  S  j  23.75\n",
       "1 -0.29   0  D  t  -0.29\n",
       "2 -0.48  19  S  p  18.52\n",
       "3 -2.65  19  S  p  16.35\n",
       "4 -0.01  20  D  e  19.99"
      ]
     },
     "metadata": {},
     "output_type": "display_data"
    }
   ],
   "source": [
    "df['d_tot']=df['d1']+df['d2']\n",
    "display(df.head())"
   ]
  },
  {
   "cell_type": "code",
   "execution_count": 23,
   "id": "7cb3dd23-e675-4b13-916b-dda8abb82a1b",
   "metadata": {},
   "outputs": [
    {
     "data": {
      "image/png": "[encoded data removed]",
      "text/plain": [
       "<Figure size 640x480 with 1 Axes>"
      ]
     },
     "metadata": {},
     "output_type": "display_data"
    }
   ],
   "source": [
    "df3=df[['d1','d2','d_tot']]\n",
    "plt.boxplot(df3,labels=df3.columns)\n",
    "plt.show()"
   ]
  },
  {
   "cell_type": "code",
   "execution_count": null,
   "id": "395565f6-c1e7-404d-9974-f41bfa362dce",
   "metadata": {},
   "outputs": [],
   "source": []
  }
 ],
 "metadata": {
  "kernelspec": {
   "display_name": "Python 3 (ipykernel)",
   "language": "python",
   "name": "python3"
  },
  "language_info": {
   "codemirror_mode": {
    "name": "ipython",
    "version": 3
   },
   "file_extension": ".py",
   "mimetype": "text/x-python",
   "name": "python",
   "nbconvert_exporter": "python",
   "pygments_lexer": "ipython3",
   "version": "3.8.16"
  }
 },
 "nbformat": 4,
 "nbformat_minor": 5
}
