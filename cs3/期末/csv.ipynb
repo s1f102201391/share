{
 "cells": [
  {
   "cell_type": "markdown",
   "id": "053a0e59-9b36-49c8-9156-49fb98658927",
   "metadata": {},
   "source": [
    "# ライブラリimport\n",
    "##### import numpy as np\n",
    "##### import pandas as pd"
   ]
  },
  {
   "cell_type": "markdown",
   "id": "4d79fe99-2832-4922-8a87-29b5ea12c3f6",
   "metadata": {},
   "source": [
    "# csv読み込み\n",
    "##### csv_in = '***'\n",
    "##### df = pd.read_csv(csv_in,sep=',', skiprows=0, header=0)"
   ]
  },
  {
   "cell_type": "markdown",
   "id": "2361b195-f590-4773-a1ef-ecc76f4b7441",
   "metadata": {},
   "source": [
    "# データ確認\n",
    "##### print(df.shape)\n",
    "##### print(df.info())\n",
    "##### display(df.head())\n",
    "#####\n",
    "##### display(df.tail())\n",
    "###### 末尾表示"
   ]
  },
  {
   "cell_type": "markdown",
   "id": "1d7a643f-f53b-49a5-93f0-fd98717e2f74",
   "metadata": {},
   "source": [
    "# データ取り出し\n",
    "##### df1 = df[[\"///\",\"///\"]]\n",
    "##### df2 = df.loc[\"//\":\"//\", \"//\":\"//\"]\n",
    "##### df3 = df.iloc[1:9,1:9]"
   ]
  },
  {
   "cell_type": "markdown",
   "id": "d06b2639-2391-4308-85d1-4c4dafaf1472",
   "metadata": {},
   "source": [
    "# データ数表示\n",
    "##### print(df[\"/////\"].value_counts())"
   ]
  },
  {
   "cell_type": "markdown",
   "id": "0062ddf9-c62c-4e70-a050-4e2ee30e0da5",
   "metadata": {},
   "source": [
    "# 各列、各行の総和\n",
    "##### df_num = df.loc[:,\"///\":]\n",
    "##### print(df_num.sum(axis=0))\n",
    "###### axis:0=縦　1=横\n",
    "### Numpyの統計\n",
    "##### print(np.sum(df_num,axis=0))"
   ]
  },
  {
   "cell_type": "markdown",
   "id": "5c721ac2-4177-40a3-9cfc-1c2e016cdadd",
   "metadata": {},
   "source": [
    "# pandasの統計用関数\n",
    "##### ・総和：sum()\n",
    "##### ・最小値：min()   \n",
    "###### Numpy:amin\n",
    "##### ・最大値：max()   \n",
    "###### Numpy:amax\n",
    "##### ・平均値：mean()\n",
    "##### ・中央値：median()\n",
    "##### ・分散：var()\n",
    "##### ・不変分散：var(ddof=0)   \n",
    "###### Numpy:ddof=1\n",
    "##### ・標準偏差：std()\n",
    "##### ・不変標準偏差：std(ddof=0)   \n",
    "###### Numpy:ddof=1"
   ]
  },
  {
   "cell_type": "markdown",
   "id": "c05106b1-0f2e-4a08-8ee6-1f71410d185e",
   "metadata": {},
   "source": [
    "# まとめてデータ把握\n",
    "##### display(df.describe())\n",
    "##### display(de.describe(exclude=[np.number]))"
   ]
  },
  {
   "cell_type": "markdown",
   "id": "32b5352d-e2d5-411b-b796-ec001b447d31",
   "metadata": {},
   "source": [
    "# データ型の変更\n",
    "##### df['///'] = df['///'].astype(\"データ型\")"
   ]
  },
  {
   "cell_type": "markdown",
   "id": "950e2b62-3f64-4777-8528-224be231c8d8",
   "metadata": {},
   "source": [
    "# はこひげ図を描く\n",
    "##### import matplotlib.pyplot as plt\n",
    "##### plt.boxplot(df_num,labels=df_num.columns)\n",
    "##### plt.xticks(rotation=90)\n",
    "##### plt.ylabel('///')\n",
    "##### plt,show()\n",
    "###### ---------------------------------------\n",
    "###### matplotlibをimport\n",
    "###### x軸目盛ラベルを90度回転\n",
    "###### y軸ラベルを設定\n",
    "###### グラフ全体を描画\n",
    "###### ---------------------------------------\n",
    "#### ヒストグラムの場合\n",
    "##### plt.hist(df_num['///'])"
   ]
  },
  {
   "cell_type": "markdown",
   "id": "52a3b47c-af1c-41b1-94dd-b8270ca577f2",
   "metadata": {},
   "source": [
    "# 列の演算\n",
    "##### df1 = 2 * df['///'] + df['\\\\\\'] - 20000\n",
    "##### df[\"新しい列名\"] = df1\n",
    "###### ＃df[\"新しい列名\"] = 2 * df['///'] + df['\\\\\\'] - 20000\n",
    "##### display(df.head())"
   ]
  },
  {
   "cell_type": "markdown",
   "id": "079a2197-d196-437a-83fd-4bc6c0ceafac",
   "metadata": {},
   "source": [
    "# 列・行の削除\n",
    "##### df1 = df.drop(columns='列名')\n",
    "##### df1 = df.drop('列名',axis=1)\n",
    "##### df2 = df.drop(index=行番号)\n",
    "##### df2 = df.drop(行番号)\n",
    "#### 範囲指定\n",
    "##### df3 = df.drop(df.loc[:,'///':'\\\\\\'],axis=1)\n",
    "##### df3 = df.drop(df.index[1:3])\n",
    "###### --------------------------------------------\n",
    "#### inplaceオプション\n",
    "##### df.drop(colimns='新しい列名',inplace=True)\n",
    "###### 変更後の変数が必要なくなる"
   ]
  },
  {
   "cell_type": "markdown",
   "id": "f550ce02-6451-4297-adc1-c45d2a4e743d",
   "metadata": {},
   "source": [
    "# 条件にマッチするデータ\n",
    "##### df['列名']==値1,　df['列名']!=値1\n",
    "###### 列の値が「値1」に一致、不一致\n",
    "##### df['列名']>値1, df['列名']<=値1\n",
    "###### 列の値が「値1」より大、以下\n",
    "##### df['列名'].str.match(r'正規表現パターン')\n",
    "###### 列の値が「正規表現パターン」にマッチ\n",
    "##### df['列名'].isin(['値1','値2'…])\n",
    "###### 列の値が、値1、値2、…のいずれかである\n",
    "###### ------------------------------------------------------\n",
    "### 例\n",
    "##### 変数 = df[(df['Region']=='Other')&(df['Fresh']>1000)]\n",
    "##### 変数 = df[~(df['Region']=='Other')|(df['Fresh']>100)]\n",
    "###### &(かつ)、|(または)、~(否定)"
   ]
  },
  {
   "cell_type": "markdown",
   "id": "f53cedd8-3d54-4ef0-b80e-2a6a82f812fc",
   "metadata": {},
   "source": [
    "# 行番号のリセット\n",
    "##### df_ret2 = df_ret.reset_index()\n",
    "##### display(df_ret2.head())"
   ]
  },
  {
   "cell_type": "markdown",
   "id": "4e8936ca-00f1-4996-9d4a-23d50361f911",
   "metadata": {},
   "source": [
    "# 列のソート\n",
    "##### 変数 = df.sort_values(by='列名',ascending = True(False))\n",
    "###### 昇順(ascending=True),降順(ascending=False)\n",
    "###### ascendingを省略するとascending=Trueとみなされる"
   ]
  },
  {
   "cell_type": "markdown",
   "id": "97001f25-b1f0-4ccc-913c-5e08bef416d3",
   "metadata": {},
   "source": [
    "# 最大値・最小値の行番号の取得\n",
    "##### 変数 = df['列名'].idxmax()\n",
    "##### 変数 = df['列名'].idxmin()"
   ]
  },
  {
   "cell_type": "markdown",
   "id": "154c25a7-88df-4dcb-a7f6-8647cbbc85aa",
   "metadata": {},
   "source": [
    "# データ重複のチェック、削除\n",
    "##### display(df[df.duplicated(keep=False)])\n",
    "###### keep=Falseとすると重複している行すべてがTrueになる\n",
    "######\n",
    "##### df = df.drop_duplicates().reset_index(drop=True)\n",
    "###### keepオプションを選択しなければ最初の行を残して削除\n",
    "###### drop=Trueをつけるとindex列が生成されない"
   ]
  },
  {
   "cell_type": "markdown",
   "id": "ff7513e3-8ef7-40d6-be27-4ea4c1d2e286",
   "metadata": {},
   "source": [
    "# 欠損値\n",
    "#### print(df.isna().sum())\n",
    "###### 列ごとの欠損値の数を取得\n",
    "###### isna()はisnull()でもいい\n",
    "###### \n",
    "##### display(df[df.isna().any(axis=1)])\n",
    "###### 欠損値を1つでも含む行を表示\n",
    "######\n",
    "##### 変数 = df.fillna(埋める値やSeriesなど)\n",
    "###### 指定した値で欠損値を埋める\n",
    "##### 変数 = df.fillna(method='bfill')\n",
    "###### 1つ先の非欠損値で埋める\n",
    "##### 変数 = df.fillna(method='ffill')\n",
    "###### 1つ手前の非欠損値で埋める\n",
    "######\n",
    "##### mu = df.mean(numeric_only=True)\n",
    "##### df_filled df.fillna(mu)\n",
    "###### 各列の平均で欠損値を埋める\n",
    "######\n",
    "##### df['列名'] = df['列名'].fillna(埋める値)\n",
    "###### 列ごとに欠損値を埋めることもできる\n",
    "######\n",
    "##### 変数 = df.dropna()\n",
    "###### 一つでも欠損値を含む行を削除\n",
    "##### 変数 = df.dropna(how='all')\n",
    "###### 全ての値が欠損値の行を削除\n",
    "##### 変数 = df.dropna(axis=1)\n",
    "###### 一つでも欠損値を含む列を削除"
   ]
  },
  {
   "cell_type": "markdown",
   "id": "16fc38ef-90db-4809-9211-33a0f3c045d3",
   "metadata": {},
   "source": [
    "# 表記ゆれ\n",
    "##### 変数 = df['列名'].replace(古い値、新しい値)\n",
    "##### 変数 = df['列名'].replace([古い値1、古い値2、…],新しい値)\n",
    "##### 変数 = df['列名'].replace({古い値1:新しい値1,古い値2:新しい値2,…})"
   ]
  },
  {
   "cell_type": "markdown",
   "id": "2f592dec-f89f-4c75-80a3-6cb6d65dc629",
   "metadata": {},
   "source": [
    "# 5"
   ]
  },
  {
   "cell_type": "markdown",
   "id": "9717b469-8a1d-4073-b8be-1021f5bcdcfe",
   "metadata": {},
   "source": [
    "# データの集計\n",
    "##### 変数 = df.groupby('列名').統計関数()\n",
    "###### 適用できない非数値列を含む場合は削除するか統計関数にnumeric_only=Trueをつける\n",
    "######\n",
    "##### 変数 = pd.crosstab(df['列名'],df['列名2'])\n",
    "###### 2列の値によって分類、カウント\n",
    "##### 変数 = pd.crosstab(df['列名'],df['列名2'],margins=True)\n",
    "###### 行・列ごとの合計の列を追加\n",
    "##### 変数 = pd.crosstab(df['列名'],df['列名2'],normalize='columns')\n",
    "###### 和が1になるように正規化"
   ]
  },
  {
   "cell_type": "markdown",
   "id": "60b94fe5-2b86-4a73-afa4-47bc48b23d55",
   "metadata": {},
   "source": [
    "# 時系列データの扱い\n",
    "##### 省略　week5のスライド、課題参照"
   ]
  },
  {
   "cell_type": "markdown",
   "id": "611d2493-8cbc-4c12-8ebc-b747cb3731cb",
   "metadata": {},
   "source": [
    "# 6"
   ]
  },
  {
   "cell_type": "markdown",
   "id": "035a6329-aa58-4c45-8e2a-997954da0a70",
   "metadata": {},
   "source": [
    "# データ表示を省略したくない場合\n",
    "##### pd.options.display.max_columns = 999\n",
    "##### pd.options.display.max_rows = 999\n",
    "###### Pandasは20列、60行を超えるデータフレームを表示すると途中が「…」で省略される"
   ]
  },
  {
   "cell_type": "markdown",
   "id": "7bed020a-546e-4dca-b5ce-224ad7cca138",
   "metadata": {},
   "source": [
    "# データフレームのマージ\n",
    "### 例　df_dataとdf_countryのマージ\n",
    "##### 変数 = pd.merge(df_data, df_country, how='マージ方法', left_on='df_dataの列名', right_on='df_countryの列名')\n",
    "### howで指定できるマージ方法\n",
    "##### left:左外結合\n",
    "##### right:右外結合\n",
    "##### outer:完全外結合\n",
    "##### inner:内結合\n",
    "##### cross:直積(左テーブルと右テーブルのすべての行の組み合わせを出力)"
   ]
  },
  {
   "cell_type": "markdown",
   "id": "808ce563-04ff-4af8-9f0a-61228015fb1d",
   "metadata": {},
   "source": [
    "# 列の順序変更\n",
    "##### リストA.insert(index,値B)\n",
    "##### リストA[index:index] = リストB\n",
    "###### 「リストAのindexの位置に値B(リストB)を挿入」\n",
    "### 例\n",
    "##### cols = list(df.columns)[:-2]\n",
    "##### cols.insert(1,'Country Name')\n",
    "##### print(cols)\n",
    "###### -------------------------------------------------\n",
    "##### df.columnsをリストに変換し、右端から2列目のさらに一つ手前までの列をcolsに代入\n",
    "##### リストcolsのindexの左から2番目の位置(左端は0)に'Country Name'を挿入"
   ]
  },
  {
   "cell_type": "markdown",
   "id": "3e8af437-d99f-41d8-8800-d26f25c329b9",
   "metadata": {},
   "source": [
    "# ライブラリimport\n",
    "##### import os\n",
    "##### os.environ['OMP_NUM_THREADS'] = '1'\n",
    "##### import numpy as np\n",
    "##### import pandas as pd\n",
    "##### import matplotlib.pyplot as plt\n",
    "##### from sklearn.cluster import KMeans\n",
    "##### from sklearn.preprocessing import scale\n",
    "###### ----------------------------------------------\n",
    "##### バグに対する警告が出ないようにする\n",
    "##### numpy,pandas,matplotlibのimport\n",
    "##### KMeans法\n",
    "##### データの標準化用\n"
   ]
  },
  {
   "cell_type": "markdown",
   "id": "9b826276-a8ea-4dd1-ac29-0714d9c26599",
   "metadata": {},
   "source": [
    "# データの標準化\n",
    "##### X_scaled = scale(dfX)\n",
    "### データ標準化後のデータフレームの作成\n",
    "##### dfX_scaled = pd.DataFrame(X_scaled,columns=dfX.columns)\n",
    "###### columns=dfX.columnsによってdfXの列名を復活"
   ]
  },
  {
   "cell_type": "markdown",
   "id": "2c6b991c-2e62-4f4b-a27d-2437ee855c97",
   "metadata": {},
   "source": [
    "# 散布図の描画\n",
    "##### plt.scatter(x軸用データ,y軸洋データ,オプション引数)\n",
    "### オプション引数の例\n",
    "###### marker='マーカー指定' ('0': 丸、's':四角、'X':x印、'':点 ...)\n",
    "###### s=マーカーサイズ (float型)\n",
    "###### color='マーカー色(facecolor)' 'red', 'green', 'blue' などの色名) \n",
    "###### cmap = ' カラーマップ'\n",
    "###### c=マーカー色指定用数値(float型):0から1までをカラーマップに対応させたグラデーション色になる\n",
    "###### edgecolors='輪郭色' 'red', 'green', 'blue' などの色名, 'face' ならfacecolorと同色)\n",
    "###### alpha=透明度 (float型):0以上1以下のfloatを指定。 0が完全に透明、 1が完全に不透明\n"
   ]
  },
  {
   "cell_type": "markdown",
   "id": "c6400181-184b-4404-a245-f5a27e29558d",
   "metadata": {},
   "source": [
    "# クラスタリングの実行\n",
    "##### オブジェクト = KMeans(n_clusters=クラスタ数, n_init=10, random_state=適当な整数)\n",
    "##### クラスタリング結果 = オブジェクト.fit_predict(入力データ)\n",
    "###### ------------------------------------------------------------------------------\n",
    "###### n_initはクラスタ中心の初期位置を変えて繰り返し実行する回数\n",
    "###### random_stateは毎回同じ結果が得られるように乱数列を固定\n",
    "###### 得られた結果は「〇データそれぞれがどのクラスタに分類されたかの配列」\n",
    "### クラスタリング結果を新しい列として保存\n",
    "##### df['列名'] = クラスタリング結果\n",
    "##### display(df.head())\n",
    "###### -------------------------------------------------------------------------------\n",
    "### 例\n",
    "##### n_cls = 4\n",
    "##### km = KMeans(n_clusters=n,n_init=10,random_state=7)\n",
    "##### cls = km.fit_predict(dfX_scaled)\n",
    "##### print(cls)\n",
    "#####\n",
    "##### df['cluster_no'] = cls\n",
    "##### display(df.head())"
   ]
  },
  {
   "cell_type": "markdown",
   "id": "bfee164d-2da1-45de-a52b-500129d94446",
   "metadata": {},
   "source": [
    "# クラスタリング結果の解析\n",
    "##### print(df['列名'].value_counts())\n",
    "###### 各クラスタのメンバー数\n",
    "#####\n",
    "##### for i in range(クラスタ数):\n",
    "##### ----print('列名',i)\n",
    "##### ----display(df[df['列名']==i])\n",
    "###### 0からn_cls(クラスタ数)-1までの連番をiに次々と代入するforループ\n",
    "###### '列名'の値がiと一致するデータだけをdfから取り出して表示\n",
    "#####\n",
    "##### plt.scatter(//,//,c=df['列名'])\n",
    "##### plt.colorbar()\n",
    "###### plt.xlabel(...)\n",
    "###### plt.ylabel(...)\n",
    "###### plt.show()\n",
    "###### cオプションでクラスタ番号に基づいた色塗りを指定し、散布図にカラーバーを置く\n",
    "#####\n",
    "##### print(オブジェクト.cluster_centers_)\n",
    "###### クラスタごとの中心の座標を表示"
   ]
  },
  {
   "cell_type": "markdown",
   "id": "6972c4e5-6e0f-47a3-8502-6853b71f965a",
   "metadata": {},
   "source": [
    "# 妥当なクラスタ数の見積もり(Elbow法)\n",
    "##### distortions = []\n",
    "##### for i in range(1, 11): \n",
    "##### ----km = KMeans(n_clusters=i, n_init=10)\n",
    "##### ----km.fit(dfX_scaled)\n",
    "##### ----distortions.append(km.inertia_)\n",
    "##### plt.plot(range(1, 11), distortions, marker= 'o')\n",
    "##### plt.xlabel('Number of clusters')\n",
    "##### plt.ylabel('Distortion')\n",
    "##### plt.show()\n",
    "###### ------------------------------------------------------\n",
    "###### クラスタ数1から10までを試す例 (状況に合わせて適当な探索範囲を設定すること)\n",
    "###### クラスタ数iでクラスタリングしてみる\n",
    "###### クラスタ数iでの「inertia」(慣性) をdistortionsリストにappend\n",
    "###### distortionsリストの数値(各クラスタ数でのinertia) をクラスタ数iに対してプロット\n",
    "#####\n",
    "#### elbow(肘)のように折れ曲がったところが妥当なクラスタ数"
   ]
  },
  {
   "cell_type": "code",
   "execution_count": null,
   "id": "4e70a251-0bf3-4cf4-b11e-0de313437af7",
   "metadata": {},
   "outputs": [],
   "source": []
  }
 ],
 "metadata": {
  "kernelspec": {
   "display_name": "Python 3 (ipykernel)",
   "language": "python",
   "name": "python3"
  },
  "language_info": {
   "codemirror_mode": {
    "name": "ipython",
    "version": 3
   },
   "file_extension": ".py",
   "mimetype": "text/x-python",
   "name": "python",
   "nbconvert_exporter": "python",
   "pygments_lexer": "ipython3",
   "version": "3.8.16"
  }
 },
 "nbformat": 4,
 "nbformat_minor": 5
}
