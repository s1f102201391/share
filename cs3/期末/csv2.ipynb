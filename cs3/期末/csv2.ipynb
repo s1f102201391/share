{
 "cells": [
  {
   "cell_type": "markdown",
   "id": "3021c235-a0db-41c6-b755-f1c65cb4f5fb",
   "metadata": {},
   "source": [
    "# csv読み込み\n",
    "##### csv_in = '@@@.csv'\n",
    "##### df = pd.read_csv(csv_in, sep=',', skiprows=0, header=0)\n",
    "##### print(df.shape)\n",
    "##### print(df.info())\n",
    "##### display(df.head())"
   ]
  },
  {
   "cell_type": "markdown",
   "id": "8ee6a906-46fb-4c22-8bb2-ef3af6b458a7",
   "metadata": {},
   "source": [
    "# 7"
   ]
  },
  {
   "cell_type": "markdown",
   "id": "5954b189-4b30-4ed6-82f2-458097033b41",
   "metadata": {},
   "source": [
    "# ライブラリimport\n",
    "##### import pandas as pd\n",
    "##### import matplotlib.pyplot as plt\n",
    "##### import seaborn as sns\n",
    "##### import stasmodels.api as sm"
   ]
  },
  {
   "cell_type": "markdown",
   "id": "51ac2cd7-a4cb-4d24-b802-3690002ffc0b",
   "metadata": {},
   "source": [
    "# ピアソン相関係数の計算\n",
    "##### df_corr = df.corr()\n",
    "##### display(df_corr)\n",
    "###### 全列総当たりの相関係数を計算\n",
    "##### print(df_corr.at['列名','列名'])\n",
    "##### print(df['列名'].corr(df['列名']))\n",
    "###### 各値を取り出し\n",
    "##### print(df.corrwith(df['列名']))\n",
    "###### 全列対指定した列の相関係数を計算"
   ]
  },
  {
   "cell_type": "markdown",
   "id": "43ed8757-ef0b-4d6e-88e7-622df47e8d94",
   "metadata": {},
   "source": [
    "# ヒートマップの描画\n",
    "#### 例\n",
    "##### plt.figure(figsize=(10,10))\n",
    "##### sns.heatmap(df_corr,annot=True,fmt='.2f',cmap='bwr')\n",
    "##### plt.show()\n",
    "###### -----------------------------------------------------\n",
    "##### sns.heatmap(2次元データ,annot=True(False),fmt=表示フォーマット,cmap=カラーマップ)\n",
    "##### ・annot = Trueなら各セルに数値を表示\n",
    "##### ・フォーマット指定の例\n",
    "###### '.2f':小数点以下2桁まで(.2)の小数(f)で表示\n",
    "###### '5d':5桁の整数(d)で表示"
   ]
  },
  {
   "cell_type": "markdown",
   "id": "baaad40c-a002-45bf-976e-5b34c45c897d",
   "metadata": {},
   "source": [
    "# 散布図の描画（例）\n",
    "##### plt.scatter(df['Weight'],df['Height'])\n",
    "##### plt.title('corr{:.2f}'.format(df_corr.at['Weight','Height']))\n",
    "##### plt.xlabel('Weight[kg]')\n",
    "##### plt.ylabel('Height[cm]')\n",
    "##### plt.show()\n",
    "###### -----------------------------------------------------\n",
    "###### x:Weight列、y:Height列で散布図描画\n",
    "###### グラフタイトルを「corr:相関係数の値(小数第2位まで)」としている\n",
    "###### (相関係数の値はdf_corrからatを使って取得)\n",
    "###### -----------------------------------------------------\n",
    "### '{}を含む文字列'.format(変数または値)\n",
    "##### a=3 b=1.666\n",
    "###### print('a:{},b:{}'.fomat(a,b))--→a:3, b:1.666\n",
    "###### print('{:d},{:3d},{:03d}'.format(a,a,a))--→3,   3, 003\n",
    "###### print('{:f},{:5.2f},{:.1f},{:.0f}'.format(b,b,b,b))--→1.666000, 1.67, 1.7, 2\n",
    "###### dで整数指定。dの前に整数を置くと桁数指定。桁数の先頭に0をつけると空いた桁を0で埋める\n",
    "###### fで小数指定。fの前にx.yを置くと桁数指定(全体x桁,小数点以下y桁。xは省略可能)"
   ]
  },
  {
   "cell_type": "markdown",
   "id": "0af6c053-fe7f-4365-833a-7d4c8ee05c1e",
   "metadata": {},
   "source": [
    "# 列を説明変数として取り出す\n",
    "##### X = df[['列名']]"
   ]
  },
  {
   "cell_type": "markdown",
   "id": "1e05f68a-9296-4683-bcd5-dc1f3aed2a2e",
   "metadata": {},
   "source": [
    "# 線形単回帰分析\n",
    "### 例：Weight列を説明変数、HomeRun列を目的変数とした線形単回帰\n",
    "##### X = df[['Weight']]\n",
    "##### y = df['HomeRun']\n",
    "##### X_c = sm.add_constant(X)\n",
    "##### model = sm.OLS(y, X_c)\n",
    "##### results = model.fit()\n",
    "##### print(results.summary())\n",
    "###### -------------------------------------------------------\n",
    "###### XにWeight列を説明変数として代入\n",
    "###### yにHomeRun列を目的変数として代入\n",
    "###### add_constantで説明変数Xに定数項用の「１」だけの列を追加\n",
    "###### モデルオブジェクト＝sm.OLS(目的変数,説明変数)でデータをモデルに与える\n",
    "###### 結果オブジェクト＝モデルオブジェクト.fit()で回帰の計算を実行\n",
    "###### 得られた偏回帰係数や決定係数などは、結果オブジェクトの中に格納され、結果オブジェクト.summary()で概要を表示できる\n",
    "###### ※OLS()には目的変数、説明変数の順で引数を与えることに注意\n",
    "###### -------------------------------------------------------\n",
    "##### print('R2:', results.rsquared)\n",
    "###### 決定係数の表示\n",
    "##### print('Adj2 R2:', results.rsquared_adj)\n",
    "###### 自由度調整済み決定係数の表示\n",
    "##### print(result.params)\n",
    "###### 偏回帰係数"
   ]
  },
  {
   "cell_type": "markdown",
   "id": "54c5d59a-f676-4563-bd04-de1d101e24a8",
   "metadata": {},
   "source": [
    "# 回帰直線の描画\n",
    "##### a0 = results.params['const']\n",
    "##### a1 = results.params['Weight']\n",
    "##### x_min = X['Weight'].min()\n",
    "##### x_max = X['Weight'].max()\n",
    "##### x_min_max = np.array([x_min, x_max])\n",
    "##### y_min_max = a0 + a1 * x_min_max\n",
    "##### plt.title('y = ({:.3f})+({:.3f}) * Weight'.fomat(a0,a1))\n",
    "##### plt.scatter(X['Weight'],y)\n",
    "##### plt.plot(x_min_max, y_min_max, c='red')\n",
    "##### plt.xlabel('Weight[kg]')\n",
    "##### plt.ylabel('HomeRun')\n",
    "##### plt.show"
   ]
  },
  {
   "cell_type": "markdown",
   "id": "d6b754e1-b928-4107-afa1-49a3c7eaca84",
   "metadata": {},
   "source": [
    "# 得られたモデルを用いて予測\n",
    "##### x_test = np.array([70.0, 85.0, 100.0])\n",
    "##### y_test = a0 + a1 * x_test\n",
    "##### print(y_test)\n",
    "###### ---------------------------------------------------\n",
    "###### 体重70.0,85.0,100.0kgの各選手はそれぞれ何本くらいホームランを打つと予想されるか\n",
    "###### ※3つのxに対するyを一度に求めた\n",
    "###### ---------------------------------------------------\n",
    "##### x_test_c = sm.add_constant(x_test, has_constant = 'add')\n",
    "##### y_test = results.predict(x_test_c)\n",
    "##### print(y_test)\n",
    "###### ---------------------------------------------------\n",
    "###### has_constant='add'オプションをつけたadd_constant()で、x_testに定数項用の「1」だけの列を追加したx_test_cを作成し、predict()に代入してもよい"
   ]
  },
  {
   "cell_type": "markdown",
   "id": "e38cf71b-7c3d-4ae5-a238-486ec8cf68ba",
   "metadata": {},
   "source": [
    "# 8"
   ]
  },
  {
   "cell_type": "markdown",
   "id": "78ef54a2-a507-4751-bafa-392e5574a4dc",
   "metadata": {},
   "source": [
    "# ライブラリimport\n",
    "##### import numpy as np\n",
    "##### import pandas as pd\n",
    "##### import matplotlib.pyplot as plt\n",
    "##### import seaborn as sns\n",
    "##### import statsmodels.api as sm\n",
    "##### from sklearn.preprocessing import scale\n",
    "##### from sklearn.metrics import mean_ squared_error"
   ]
  },
  {
   "cell_type": "markdown",
   "id": "0b2fb03b-d341-4954-91b1-f7075e75f2c1",
   "metadata": {},
   "source": [
    "# カテゴリー変数の数値化\n",
    "### 大小関係のあるカテゴリー変数の数値化\n",
    "##### X['studytime'] = X['studytime'].replace({'<2 hours':1, '2 to 5 hours':2, '5 to 10 hours':3, '>10 hours':4})\n",
    "### 大小関係のないカテゴリー変数をダミー変数化\n",
    "##### 変数 = pd.get_dummies(ダミー変数化前の変数,drop_first=True)\n",
    "###### drop_first=Trueとすると、アルファベット順で先頭の値は、対応するダミー変数が作成されず、「全ダミー変数の値が0」が対応することになる"
   ]
  },
  {
   "cell_type": "markdown",
   "id": "d36a5670-ce28-48f2-a58e-61e854e3d490",
   "metadata": {},
   "source": [
    "# 標準化なしの線形重回帰分析\n",
    "##### 線形単回帰と同じ\n",
    "###### Xではなくカテゴリの数値化を行った変数(授業ではX_dumm)を使用"
   ]
  },
  {
   "cell_type": "markdown",
   "id": "80d13ac6-e828-433e-8639-40ae2dfd4f9d",
   "metadata": {},
   "source": [
    "# 標準化ありの線形重回帰分析\n",
    "##### X_scaled_ar = scale(X_dumm)\n",
    "##### y_scaled_ar = scale(y)\n",
    "##### X_scaled = pd.DataFrame(X_scaled_ar, columns=X_dumm.columns)\n",
    "##### y_scaled = pd.Series(y_scaled_ar, name=y.name)\n",
    "##### model = sm.OLS(y_scaled, X_scaled)\n",
    "##### results_scaled = model.fit()\n",
    "##### print(results_scaled.summary())\n",
    "###### ------------------------------------------------------\n",
    "###### 説明変数と目的変数を標準化\n",
    "###### 標準化後のndarray(X_scaled_ar,y_scaled_ar)を、標準化前のDataFrame,SeriesであるX_dumm,yの情報を使って、DataFrame,Seriesに戻す(X_scaled,y_scaled)\n",
    "###### 全変数について平均が0なので、回帰式の定数項は必ず0になることから、add_constant()は不要(あっても大丈夫)"
   ]
  },
  {
   "cell_type": "markdown",
   "id": "161a7fb3-b6b3-4a6b-9fb5-8473dbb2c1cb",
   "metadata": {},
   "source": [
    "# 標準化偏回帰係数を絶対値が大きい順にソート\n",
    "##### print(result_scaled.params.sort_values(key=np.abs,ascending=False))\n",
    "###### key=関数名オプションをつけるとソート対象の各値に関数を適用してから、その戻り値に対してソートが行われるようになる"
   ]
  },
  {
   "cell_type": "markdown",
   "id": "e2629983-91fb-4fe9-9554-e784a1e15e24",
   "metadata": {},
   "source": [
    "# 与えられたモデルを用いて予測\n",
    "##### X_test = pd.DataFrame([[18, 4, 0, 0, 1, 1, 2, 0, 0, 0, 1],[15, 1, 3, 1, 0, 4, 3, 10, 0, 1, 0],],columns=X_dumm.columns)  \n",
    "##### print('X for prediction:')\n",
    "##### display(X_test)\n",
    "##### X_test_c = sm.add_constant(X_test, has_constant='add')\n",
    "##### y_test = results.predict(X_test_c)\n",
    "##### print('Predicted y:')\n",
    "##### print(y_test)\n",
    "###### -----------------------------------------------------\n",
    "###### 2人の学生に対する予測成績の値を1度に求めた\n",
    "###### 結果.predict(説明変数)で、与えた説明変数をモデルに入力したときの目的変数の予測値を取得できる"
   ]
  },
  {
   "cell_type": "markdown",
   "id": "783823aa-d13e-407a-8cfb-2b6bce898061",
   "metadata": {},
   "source": [
    "# 標準化なしのロジスティック回帰\n",
    "##### X_dumm_c = sm.add_constant(X_dumm)\n",
    "##### model = sm.Logit(y, X_dumm_c)\n",
    "##### results = model.fit()\n",
    "##### print(results.summary())"
   ]
  },
  {
   "cell_type": "markdown",
   "id": "f6ef1ad6-ef65-404d-b3a9-f92b78bb5b90",
   "metadata": {},
   "source": [
    "# 的中率の計算\n",
    "##### y_pred = results.predict(X_dumm_c)\n",
    "##### print('Predicted y:')\n",
    "##### print(y_pred.head())\n",
    "##### y_pred_bin = (y_pred >= 0.5).astype('int')\n",
    "##### print(y_pred_bin.head())\n",
    "###### -----------------------------------------------------\n",
    "###### 説明変数をモデルに入力したときの目的変数の予測値\n",
    "###### シリーズy_predの各値に対して0.5以上なら1、0.5未満なら0とした新たなシリーズy_pred_binを作成。\n",
    "###### (y_pred >= 0.5)で、0.5以上ならTrue、0.5未満ならFalseになる。これをastype('int')でint型に変換すると、Trueが1、Falseが0になる。\n",
    "###### -----------------------------------------------------\n",
    "### 一致割合\n",
    "##### 変数=accuracy_score(正解の1次元データ,予測の1次元データ)\n",
    "###### (目的変数,説明変数を用いた目的変数の予測値)の一致した割合をaccurary_score()で計算している"
   ]
  },
  {
   "cell_type": "markdown",
   "id": "3900d608-dec1-408b-a706-401c72e9e805",
   "metadata": {},
   "source": [
    "# 回帰係数からオッズ比を求める\n",
    "##### print(np.exp(results.params))"
   ]
  },
  {
   "cell_type": "markdown",
   "id": "896b2ae1-5e01-48cc-b0a2-a29432bc2e7a",
   "metadata": {},
   "source": [
    "# 標準化ありでロジスティック回帰\n",
    "##### X_scaled_ar = scale(X_dumm)\n",
    "##### X_scaled = pd.DataFrame(X_scaled_ar, columns=X_dumm.columns)\n",
    "##### X_scaled_c = sm.add_constant(X_scaled)\n",
    "##### model = sm.Logit(y, X_scaled_c)\n",
    "##### results_scaled = model.fit()\n",
    "##### print(results_scaled.summary())\n",
    "###### -----------------------------------------------------\n",
    "### 標準化回帰係数を比較\n",
    "##### print(results_scaled.params.sort_values(key=np.abs, ascending=False))"
   ]
  },
  {
   "cell_type": "markdown",
   "id": "c347e090-73b1-4c38-a52f-b5b7ee9b2fa8",
   "metadata": {},
   "source": [
    "# 得られたモデルを用いて、予測を行う\n",
    "##### X_test = pd.DataFrame([ [20.0, 0, 1, 0, 0, 4, 8.0, 0], [70.0, 1, 0, 1, 12, 0, 4.0, 1],],columns=X_dumm.columns)  \n",
    "##### print('X for prediction:')\n",
    "##### display(X_test)\n",
    "##### X_test_c = sm.add_constant(X_test, has_constant='add')\n",
    "##### y_test = results.predict(X_test_c)\n",
    "##### print('Predicted y:')\n",
    "##### print(y_test)\n",
    "###### -------------------------------------------------------\n",
    "###### 2人に対する心疾患有の確立を一度に求めた"
   ]
  },
  {
   "cell_type": "markdown",
   "id": "2db4686b-5297-467a-a903-2634d1a6c074",
   "metadata": {},
   "source": [
    "# 9"
   ]
  },
  {
   "cell_type": "markdown",
   "id": "a4498a8b-134e-427a-8b67-1f27639083ac",
   "metadata": {},
   "source": [
    "# ライブラリimport\n",
    "##### import numpy as np\n",
    "##### import matplotlib.pyplot as plt\n",
    "##### from PIL import Image, ImageFilter\n",
    "###### ----------------------------------------------------\n",
    "##### img_in = '*** .png'\n",
    "##### img = Image.open(img_in)\n",
    "###### ----------------------------------------------------\n",
    "##### print(img.format, img.size, img.width, img.height, img.mode)\n",
    "###### PNG形式、幅16ピクセル、高さ10ピクセルのRGBカラー画像\n",
    "###### ----------------------------------------------------\n",
    "##### plt.imshow(img)\n",
    "##### plt.show()"
   ]
  },
  {
   "cell_type": "markdown",
   "id": "a4158eea-399b-449d-afd8-4a8e4851bb14",
   "metadata": {},
   "source": [
    "# 画像データをndarrayに変換\n",
    "##### data = np.array(img)\n",
    "##### print(data.shape)"
   ]
  },
  {
   "cell_type": "markdown",
   "id": "40391b68-70b3-4fb5-ac54-3fbf62953e2f",
   "metadata": {},
   "source": [
    "# 第3軸の表示\n",
    "##### print(data[:,:,0])\n",
    "###### 第0要素(R)\n",
    "##### print(data[:,:,1])\n",
    "###### 第1要素(G)\n",
    "##### print(data[:,:,2])\n",
    "###### 第2要素(B)"
   ]
  },
  {
   "cell_type": "markdown",
   "id": "82030069-1def-45f6-9bb4-a85cf8230c74",
   "metadata": {},
   "source": [
    "# グレースケールの場合\n",
    "##### img_gray_in = 'stripes-gray.png'\n",
    "##### img_gray = Image.open(img_gray_in)\n",
    "##### print(img_gray.format, img_gray.size,img_gray.width, img_gray.height, img_gray.mode)\n",
    "##### plt.imshow(img_gray, cmap='gray')\n",
    "##### plt.show()\n",
    "##### data_gray=np.array(img_gray)\n",
    "##### print(data_gray.shape)\n",
    "##### print(data_gray)"
   ]
  },
  {
   "cell_type": "markdown",
   "id": "e952601a-241c-403e-ac3f-195b86efb840",
   "metadata": {
    "tags": []
   },
   "source": [
    "# ndaarayを画像データに変換\n",
    "##### nd_color = np.zeros((4, 10, 3)).astype('uint8')\n",
    "##### nd_color[1:3, 1:3, 0] = 255\n",
    "##### nd_color[1:3, 4:6, 1] = 255\n",
    "##### nd_color[1:3, 7:9, 2] = 255\n",
    "##### img_color = Image.fromarray(nd_color)\n",
    "###### -----------------------------------------------------\n",
    "###### nd_color = np.zeros((4, 10, 3), dtype='uint8')でもよい\n",
    "###### 4×10×3の全要素が0の3次元ndarrayを作成しデータ型をunit8にして変数に代入\n",
    "###### 各軸での座標を指定(1：3は1~2)\n",
    "###### 変数 = Image.fromarray(ndarray)でndarrayをPillowの画像データ形式に変換し、変数に代入"
   ]
  },
  {
   "cell_type": "markdown",
   "id": "0bff8ea2-a695-4012-9485-6220321def01",
   "metadata": {},
   "source": [
    "# 画像データから指定座標のRGB値を取り出す\n",
    "##### print(img.getpixel((横方向の座標, 縦方向の座標)))"
   ]
  },
  {
   "cell_type": "markdown",
   "id": "7d8eac1a-3594-4d9f-a310-ce5761150ded",
   "metadata": {},
   "source": [
    "# その他の機能\n",
    "### 画像のサイズ変更\n",
    "##### 変数 = img.resize((30,50))\n",
    "### 画像の回転(反時計回り)\n",
    "##### 変数 = img.rotate(45)\n",
    "### 画像が欠けないように回転\n",
    "##### 変数 = img.rotate(45,expand=True)\n",
    "### 回転と同時に平行移動\n",
    "##### 変数 = img.rotate(0,translate(横方向, 縦方向))\n",
    "###### 正の値：右方向、下方向\n",
    "###### 負の値：左方向、上方向\n",
    "###### 回転角を0にすると平行移動のみになる\n",
    "### 背景色を指定\n",
    "##### 変数 = img.rotate(0,translate(200,-200),fillcolor=(255,255,255))\n",
    "### フィルタを適用(例：ぼかし)\n",
    "##### 変数 = img.filter(ImageFilter.GaussianBlur(radius=10))\n",
    "### 指定範囲に切りとり\n",
    "##### 変数 = img.crop((左,上,右,下))\n",
    "### カラーモードを変更(例：グレースケール)\n",
    "##### 変数 = img.convert('L')"
   ]
  },
  {
   "cell_type": "markdown",
   "id": "a0f454ef-40f8-490b-b590-ef7a3934918e",
   "metadata": {},
   "source": [
    "# 画像データをファイルに保存\n",
    "##### 変数 = '**.jpg'\n",
    "##### img_gray.save(変数,quality=95)"
   ]
  },
  {
   "cell_type": "markdown",
   "id": "9a057f1d-d7d0-40ea-8144-dc9febbe74a5",
   "metadata": {},
   "source": [
    "# 10"
   ]
  },
  {
   "cell_type": "markdown",
   "id": "6c28f98b-733a-4b96-b197-fc7605a29097",
   "metadata": {},
   "source": [
    "# ライブラリimport\n",
    "##### import numpy as np\n",
    "##### import pandas as pd\n",
    "##### import matplotlib.pyplot as plt\n",
    "##### from tensorflow.keras.models import Sequential\n",
    "##### from tensorflow.keras.layers import Dense\n",
    "\n",
    "##### import os\n",
    "##### os.environ['KMP_DUPLICATE_LIB_OK'] = 'True'\n",
    "##### os.environ['TF_CPP_MIN_LOG_LEVEL'] = '2'  # for mac OS"
   ]
  },
  {
   "cell_type": "markdown",
   "id": "f8fd4fa2-2110-4240-ba8c-dd2d8e76ed63",
   "metadata": {},
   "source": [
    "# データ数表示\n",
    "### 例\n",
    "##### data_train = df[['x1', 'x2']]\n",
    "##### class_train = df['class']\n",
    "##### print('data:', data_train.shape)\n",
    "##### print('class:', class_train.shape)\n",
    "###### -------------------------------------------------------------------------\n",
    "###### class列以外を抜き出し(2次元)\n",
    "###### class列だけを抜き出し(1次元)"
   ]
  },
  {
   "cell_type": "markdown",
   "id": "e5e92a58-dab1-48a4-ace9-f46fcfffffc4",
   "metadata": {
    "jp-MarkdownHeadingCollapsed": true,
    "tags": []
   },
   "source": [
    "# ニューラルネットワークの構造を定義\n",
    "##### model = Sequential()\n",
    "##### model.add(Dense(1, input_shape=(2,), activation='sigmoid'))\n",
    "###### ------------------------------------------------------------------------\n",
    "###### Sequentialクラスのオブジェクトmodelを生成\n",
    "###### model.add()で、modelに各層のニューロンを追加\n",
    "###### Dense()は通常のニューロンを配置する関数\n",
    "###### 1:ニューロンからある層の数\n",
    "###### 2,:入力の数\n",
    "###### 'sigmoid'活性化関数"
   ]
  },
  {
   "cell_type": "markdown",
   "id": "479f51e2-fc7a-4ca6-8590-386069e7b03e",
   "metadata": {},
   "source": [
    "# 学習の実行\n",
    "##### %%time\n",
    "##### model.compile(optimizer='sgd', loss='binary_crossentropy',metrics=['accuracy'])\n",
    "##### fit_log = model.fit(data_train, class_train, epochs=1000, batch_size=1)\n",
    "###### -------------------------------------------------------------------------\n",
    "###### model.compile()で、学習(訓練)の方法を設定\n",
    "###### model.fit()で学習を実行\n",
    "###### 重み係数(w)と閾値(Θ)を最適化する方法として「sgd」、教師信号とニューロンからの出力のずれを評価する関数(誤差関数,損失関数)として「binary_crossentropy」を指定"
   ]
  },
  {
   "cell_type": "markdown",
   "id": "412cf84f-6ae8-4b63-aab5-43954ce5ce2e",
   "metadata": {},
   "source": [
    "# 予測精度のグラフ描写\n",
    "##### plt.plot(fit_log.history['accuracy'], label='train')\n",
    "##### plt.title('Model Accuracy')\n",
    "##### plt.ylabel('Accuracy')\n",
    "##### plt.xlabel('Epochs')\n",
    "##### plt.legend()\n",
    "##### plt.show()"
   ]
  },
  {
   "cell_type": "markdown",
   "id": "6f2fd138-fbc3-4bc8-ad56-2794349845b7",
   "metadata": {},
   "source": [
    "# 予測値\n",
    "##### pred = model.predict(data_train)\n",
    "##### print(pred)\n",
    "###### data_trainの各入力データに対する予測値(ニューロンからの出力)を求めて、変数predに格納\n",
    "#### 出力が0.5以上なら予測値は1、0.5未満なら予測値は0"
   ]
  },
  {
   "cell_type": "markdown",
   "id": "5637986f-067f-48f0-a552-b9c5843f6188",
   "metadata": {},
   "source": [
    "# 多層パーセプトロン\n",
    "### 中間層の追加\n",
    "###### model = Sequential()\n",
    "##### model.add(Dense(5, input_shape=(2,), activation='relu'))\n",
    "##### model.add(Dense(1, activation='sigmoid'))\n",
    "### 学習用のパラメータ\n",
    "##### model.compile(optimizer='adam', loss='binary_crossentropy',metrics=['accuracy'])\n",
    "##### fit_log = model.fit(data_train, class_train, epochs=3000, batch_size=1)"
   ]
  },
  {
   "cell_type": "markdown",
   "id": "5d155bb5-7dd1-4683-9b35-69ed6d858ca1",
   "metadata": {},
   "source": [
    "# 11"
   ]
  },
  {
   "cell_type": "markdown",
   "id": "12dcc842-ba4f-4f80-a812-1f0a28ca217a",
   "metadata": {},
   "source": [
    "# ディレクトリ・ファイルのパス名の操作\n",
    "### パス名の絶対パスを返す\n",
    "##### os.path.abspath (パス名)\n",
    "###### 例: print( os.path.abspath('dirs_files.ipynb' )\n",
    "###### → C:\\Users\\iniad\\Documents\\cs3-11\\dirs_files.ipynb\n",
    "### パス名の末尾のファイル名だけを返す\n",
    "##### os.path.basename (パス名)\n",
    "###### 例: print( os.path.basename('../cs3-09/dog.jpg') → dog.jpg\n",
    "### パス名の中のディレクトリ名だけを返す\n",
    "##### os.path.dirname (パス名)\n",
    "###### 例: print(os.path.dirname('../cs3-09/dog.jpg') ../cs3-09\n",
    "### パス名を、拡張子部分(一番右のピリオド「.」以降の部分) とそれ以外に分ける\n",
    "##### os.path.splitext(パス名)\n",
    "###### 例: print(os.path.splitext('../cs3-09/dog.jpg'))→('../cs3-09/dog', '.jpg')\n",
    "###### 例: print(os.path.splitext('../cs3-09/dog.jpg')[0])→ '../cs3-09/dog'\n",
    "###### 例: print(os.path.splitext('../cs3-09/dog.and.cat.jpg'))→('../cs3-09/dog.and.cat', '.jpg')\n",
    "###### 例: print(os.path.splitext('../cs3-09/readme') )→('../cs3-09/readme', \")\n",
    "### パス名が指すファイルが存在したらTrueを返す\n",
    "##### os.path.exists(パス名)\n",
    "###### 例: print( os.path.exists('../cs3-09/dog.jpg') → True\n",
    "###### 例: print(os.path.exists('../cs3-09/rabbit.jpg') → False\n",
    "### パス名が存在する一般ファイルならTrueを返す\n",
    "##### os.path.isfile(パス名)\n",
    "###### 例: print(os.path.isfile('../cs3-09/dog.jpg') → True\n",
    "###### 例: print(os.path.isfile('../cs3-09/rabbit.jpg') →→ False\n",
    "###### 例: print(os.path.isfile('../cs3-09') → False\n",
    "### パス名が存在するディレクトリならTrueを返す \n",
    "##### os.path.isdir (パス名)\n",
    "###### 例:print( os.path.isdir('../cs3-09') → True\n",
    "###### 例: print(os.path.isdir('../cs3-99') → False\n",
    "###### 例: print(os.path.isdir('../cs3-09/dog.jpg') → False\n",
    "### 複数のパス名を結合したパス名を返す\n",
    "##### os.path.join(パス名1,パス名2, ...)\n",
    "###### 例: print(os.path.join('../cs3-09', 'dog.jpg'))../cs3-09¥dog.jpg\n",
    "### 指定したディレクトリを作成する\n",
    "##### os.makedirs (ディレクトリ名)\n",
    "###### exist_ok=True オプションをつけると、指定したディレクトリがすでに存在していてもエラーを出さなくなる。\n",
    "###### 例: os.makedirs('dir1/dir2/dir3') → dir1以下に深いディレクトリ構造を一気に作成。\n",
    "### 指定したディレクトリを削除する\n",
    "##### shutil.rmtree(ディレクトリ名)\n",
    "###### 当該ディレクトリの下にファイルや子ディレクトリがあっても、 まとめて削除される\n",
    "###### 例: shutil.rmtree('dir1') →d ir1 をその下のdir2なども含めてすべて削除。\n",
    "### 1つのファイルを削除 \n",
    "##### os.remove(パス名)\n",
    "###### 例: os.remove('dir1/file1.txt') → dir1の下の file1.txt を削除。\n",
    "### パターンにマッチするパス名のリストを返す\n",
    "##### glob.glob (パス名のパターン)\n",
    "###### 例: glob.glob('../cs3-09/* .ipynb')→['../cs3-09¥¥pillow1.ipynb', '../cs3-09¥¥pillow2.ipynb']\n",
    "### ファイルへの書き込み\n",
    "##### with open(パス名,'w')as ファイルオブジェクト用変数:\n",
    "##### ---ファイルオブジェクト用変数.write(文字列)\n",
    "### ファイルからの読み出し\n",
    "##### with open(パス名,'r')as ファイルオブジェクト用変数:\n",
    "##### ---for 変数 in ファイルオブジェクト用変数:\n",
    "##### ------print(変数)"
   ]
  },
  {
   "cell_type": "markdown",
   "id": "89ffdcd0-fcee-419d-bdc5-09d873caa422",
   "metadata": {},
   "source": [
    "# ライブラリimport(RFC学習前)\n",
    "##### import numpy as np\n",
    "##### import pandas as pd\n",
    "##### import matplotlib.pyplot as plt\n",
    "##### from sklearn.ensemble import RandomForestClassifier\n",
    "##### from sklearn.model_selection import train_test_split\n",
    "##### from sklearn.metrics import accuracy_score\n",
    "##### from joblib import dump"
   ]
  },
  {
   "cell_type": "markdown",
   "id": "c54039b7-f70b-4674-976f-887f070428d6",
   "metadata": {},
   "source": [
    "# 前処理(ロジスティック回帰と同じ)\n",
    "###### X = df.drop(columns='HeartDisease')  # features\n",
    "###### y= df['HeartDisease']  # true labels\n",
    "###### print('X:', X.shape)\n",
    "###### display(X.head())\n",
    "###### print('y:', y.shape)\n",
    "###### print(y.head())\n",
    "######\n",
    "###### print(y.value_counts())\n",
    "###### \n",
    "###### display(X.head())\n",
    "###### X_dumm = pd.get_dummies(X, drop_first=True)\n",
    "###### print('X_dumm:', X_dumm.shape)\n",
    "###### display(X_dumm.head())\n",
    "###### ------------------------------------\n",
    "###### 特徴量と正解ラベルを分ける\n",
    "###### 心疾患の無/有データ数の確認\n",
    "###### ダミー変数化"
   ]
  },
  {
   "cell_type": "markdown",
   "id": "91b99409-acd8-47d3-87dc-d2c5dbadeb21",
   "metadata": {},
   "source": [
    "# 訓練データとテストデータに分割\n",
    "##### X_train, X_test, y_train, y_test = train_test_split(全入力(特徴量)X, 全正解ラベルy, test_size=0.3, random_state=7, stratify=y)\n",
    "###### train_test_split()で、第1引数の特徴量データと第2引数の正解ラベルyをランダムな順にシャッフルし、両者を訓練用、テスト用の特徴量データ、X_train、X_test、および訓練用、テスト用の正解ラベルy_train、y_testに分割します\n",
    "###### テスト用の割合をtest_size=で指定\n",
    "###### random_state=で乱数列を固定\n",
    "###### stratify=yとすると、元のyの各ラベルの比率を維持するようにtrain/testの分割が行われる"
   ]
  },
  {
   "cell_type": "markdown",
   "id": "3be7cac1-cf6e-470a-a851-e36ba997c9c5",
   "metadata": {},
   "source": [
    "## データ数確認\n",
    "##### print(X_train.shape)\n",
    "##### print(y_train.shape)\n",
    "##### print(y_train.value_counts())\n",
    "##### print(X_test.shape)\n",
    "##### print(y_test.shape)\n",
    "##### print(y_test.value_counts())"
   ]
  },
  {
   "cell_type": "markdown",
   "id": "610248b3-be65-4515-84b0-a9e0bc399a79",
   "metadata": {},
   "source": [
    "# RFCの学習\n",
    "##### rfc = RandomForestClassifier(n_estimators=500, max_depth=None, random_state=11) \n",
    "###### --------------------------------------------------------------------\n",
    "###### n_estimators:RFCに含める決定木の数\n",
    "###### max_depth:各決定木の最大深さ(None:制限しない)\n",
    "###### --------------------------------------------------------------------\n",
    "##### %%time\n",
    "##### rfc.fit(X_train, y_train)"
   ]
  },
  {
   "cell_type": "markdown",
   "id": "b9652bae-bf7f-4b79-b415-ef1ffeeef4e1",
   "metadata": {},
   "source": [
    "# 各特徴量の重要度\n",
    "##### ser_fi = pd.Series(rfc.feature_importances_, index=X_train.columns)\n",
    "##### print(ser_fi.sort_values(ascending=False))\n",
    "### 棒グラフ化\n",
    "##### plt.bar(X_train.columns, rfc.feature_importances_)\n",
    "##### plt.ylabel('Importance')\n",
    "##### plt.xticks(rotation=90)\n",
    "##### plt.show()"
   ]
  },
  {
   "cell_type": "markdown",
   "id": "27ecbd7a-5549-4288-bcff-67860e4aaa08",
   "metadata": {},
   "source": [
    "# 予測(汎化性能の見積もり値)\n",
    "##### y_train_pred = rfc.predict(X_train)\n",
    "##### display(pd.crosstab(y_train, y_train_pred))\n",
    "###### 入力データに対する予測ラベルを出力\n",
    "###### \n",
    "##### acc = accuracy_score(y_train, y_train_pred)\n",
    "##### print('Accuracy for train data:', acc)\n",
    "###### 正解ラベルと予測ラベルの間の制度を求める\n",
    "######\n",
    "##### y_test_pred = rfc.predict(X_test)\n",
    "##### display(pd.crosstab(y_test, y_test_pred))\n",
    "###### テストデータに対する予測ラベルを出力\n",
    "###### \n",
    "##### acc = accuracy_score(y_test, y_test_pred)\n",
    "##### print('Accuracy for test data:', acc)\n",
    "###### 汎化性能(未知のデータに対する予測精度)の見積もり値\n",
    "###### ---------------------------------------------------------------------\n",
    "##### y_test_pred_proba = rfc.predict_proba(X_test)\n",
    "##### print(y_test_pred_proba[:10])\n",
    "##### print(y_test_pred[:10])\n",
    "###### predictメソッドの代わりにpredict_probaメソッドを用いると各テストデータについてラベル0、ラベル1それぞれの予測確率を求めることができる。先頭10データを表示"
   ]
  },
  {
   "cell_type": "markdown",
   "id": "c5bf5851-704a-4584-a295-00d1f5edc790",
   "metadata": {},
   "source": [
    "# 学習済みモデルの保存\n",
    "##### tag = 'heart_disease'\n",
    "##### model_file = 'rfc_{}.joblib'.format(tag)\n",
    "##### dump(rfc, model_file)"
   ]
  },
  {
   "cell_type": "markdown",
   "id": "cd639b57-8544-4828-bcad-c218d8be29ce",
   "metadata": {},
   "source": [
    "# ライブラリimport(RFC学習済み)\n",
    "##### import numpy as np\n",
    "##### import pandas as pd\n",
    "##### import matplotlib.pyplot as plt\n",
    "##### from sklearn.ensemble import RandomForestClassifier\n",
    "##### from sklearn.model_selection import train_test_split\n",
    "##### from sklearn.metrics import accuracy_score\n",
    "##### from joblib import load"
   ]
  },
  {
   "cell_type": "markdown",
   "id": "fe48cd54-44cb-4cee-bf6e-10f62498602e",
   "metadata": {},
   "source": [
    "# 前処理\n",
    "###### X = df.drop(columns='HeartDisease')  # features\n",
    "###### y= df['HeartDisease']  # true labels\n",
    "###### print('X:', X.shape)\n",
    "###### display(X.head())\n",
    "###### print('y:', y.shape)\n",
    "###### print(y.head())\n",
    "######\n",
    "###### display(X.head())\n",
    "###### X_dumm = pd.get_dummies(X, drop_first=True)\n",
    "###### print('X_dumm:', X_dumm.shape)\n",
    "###### display(X_dumm.head())\n",
    "######\n",
    "###### X_train, X_test, y_train, y_test = train_test_split(X_dumm, y, test_size=0.3, random_state=7, stratify=y)\n",
    "###### print(X_test.shape)\n",
    "###### print(y_test.shape)\n",
    "###### print(y_test.value_counts())"
   ]
  },
  {
   "cell_type": "markdown",
   "id": "2eb76e4d-f8b5-441f-beee-dafd67e9b500",
   "metadata": {},
   "source": [
    "# RFCの読み込み\n",
    "##### tag = 'heart_disease'\n",
    "##### model_file = 'rfc_{}.joblib'.format(tag)\n",
    "##### rfc = load(model_file)\n",
    "##### print(rfc)"
   ]
  },
  {
   "cell_type": "markdown",
   "id": "f2eadbae-c997-4ad7-ad7c-b3f7f624154a",
   "metadata": {},
   "source": [
    "# 予測(学習前と同じ)\n",
    "###### y_test_pred = rfc.predict(X_test)\n",
    "###### display(pd.crosstab(y_test, y_test_pred))\n",
    "###### acc = accuracy_score(y_test, y_test_pred)\n",
    "###### print('Accuracy for test data:', acc)\n",
    "### 例(cs08とデータの予測)\n",
    "##### X_test2 = pd.DataFrame([ [20.0, 0, 1, 0, 0, 4, 8.0, 0],[70.0, 1, 0, 1, 12, 0, 4.0, 1],],columns=X_dumm.columns)  # example\n",
    "##### print('X for prediction:')\n",
    "##### display(X_test2)\n",
    "######\n",
    "##### y_test_pred_proba2 = rfc.predict_proba(X_test2)\n",
    "##### y_test_pred2 = rfc.predict(X_test2)\n",
    "##### print(y_test_pred_proba2)\n",
    "##### print(y_test_pred2)"
   ]
  },
  {
   "cell_type": "markdown",
   "id": "e1d85316-7a32-440a-b222-b6df60ba4dd9",
   "metadata": {},
   "source": [
    "# 12"
   ]
  },
  {
   "cell_type": "markdown",
   "id": "d3638f48-2dd8-4ac1-b549-255be3a4da60",
   "metadata": {},
   "source": [
    "# ライブラリimport\n",
    "##### import numpy as np\n",
    "##### import pandas as pd\n",
    "##### import matplotlib.pyplot as plt\n",
    "##### from sklearn.ensemble import RandomForestRegressor\n",
    "##### from sklearn.model_selection import train_test_split\n",
    "##### from sklearn.metrics import mean_squared_error\n",
    "##### from joblib import dump"
   ]
  },
  {
   "cell_type": "markdown",
   "id": "bb011fe5-c50b-4c21-8620-1d61c998f321",
   "metadata": {},
   "source": [
    "# 前処理\n",
    "###### X = df.drop(columns='G3')  # features\n",
    "###### y = df['G3']  # true values    \n",
    "###### print('X:', X.shape)\n",
    "###### display(X.head())\n",
    "###### print('y:', y.shape)\n",
    "###### print(y.head())\n",
    "######\n",
    "###### X['studytime'] = X['studytime'].replace({'<2 hours':1, '2 to 5 hours':2,'5 to 10 hours':3, '>10 hours':4,})\n",
    "###### display(X.head())\n",
    "###### \n",
    "###### X_dumm = pd.get_dummies(X, drop_first=True)\n",
    "###### print('X_dumm:', X_dumm.shape)\n",
    "###### display(X_dumm.head())"
   ]
  },
  {
   "cell_type": "markdown",
   "id": "a46a5c9c-9ac0-4b0f-92ad-de8027488fad",
   "metadata": {},
   "source": [
    "# 訓練データとテストデータに分割\n",
    "##### X_train, X_test, y_train, y_test = train_test_split(X_dumm, y, test_size=0.3, random_state=13)\n",
    "##### print(X_train.shape)\n",
    "##### print(y_train.shape)\n",
    "##### print(X_test.shape)\n",
    "##### print(y_test.shape)"
   ]
  },
  {
   "cell_type": "markdown",
   "id": "99e13d50-6df7-47b6-9f8e-629e1e56457e",
   "metadata": {},
   "source": [
    "# RFRの学習\n",
    "##### rfr=RandomForestRegressor(n_estimators=500, max_depth=None,random_state=17) \n",
    "######\n",
    "##### %%time\n",
    "##### rfr.fit(X_train, y_train)"
   ]
  },
  {
   "cell_type": "markdown",
   "id": "43d70623-468a-4a7f-b325-48cc8ec7a9a7",
   "metadata": {},
   "source": [
    "# 各特徴量の重要度\n",
    "##### ser_fi = pd.Series(rfr.feature_importances_, index=X_train.columns)\n",
    "##### print(ser_fi.sort_values(ascending=False))\n",
    "### 棒グラフ化\n",
    "##### plt.bar(X_train.columns, rfr.feature_importances_)\n",
    "##### plt.ylabel('Importance')\n",
    "##### plt.xticks(rotation=90)\n",
    "##### plt.show()"
   ]
  },
  {
   "cell_type": "markdown",
   "id": "7e2b08ba-d136-4a4e-bc5f-907cffacd7bd",
   "metadata": {},
   "source": [
    "# 予測\n",
    "##### y_train_pred = rfr.predict(X_train)"
   ]
  },
  {
   "cell_type": "markdown",
   "id": "5cdc7a84-687e-4302-8072-a719677afb32",
   "metadata": {},
   "source": [
    "# 予測数値と実際の数値の対応(発展)\n",
    "###### y_min = np.append(y_train_pred, y_train).min()\n",
    "###### y_max = np.append(y_train_pred, y_train).max()\n",
    "###### y_margin = (y_max - y_min) * 0.1\n",
    "###### y_min -= y_margin\n",
    "###### y_max += y_margin\n",
    "######\n",
    "###### plt.scatter(y_train_pred, y_train, alpha=0.3)\n",
    "###### plt.plot([y_min,y_max], [y_min,y_max])\n",
    "###### plt.gca().set_aspect('equal', adjustable='box')\n",
    "###### plt.xlim(y_min, y_max)\n",
    "###### plt.ylim(y_min, y_max)\n",
    "###### plt.title('Train data')\n",
    "###### plt.xlabel('Pred')\n",
    "###### plt.ylabel('True')\n",
    "###### plt.show()\n",
    "### モデルの当てはまりの良さの確認\n",
    "###### mse = mean_squared_error(y_train, y_train_pred)\n",
    "###### print('MSE, RMSE for train data:', mse, np.sqrt(mse))\n",
    "######\n",
    "###### y_test_pred = rfr.predict(X_test)\n",
    "######\n",
    "###### y_min = np.append(y_test_pred, y_test).min()\n",
    "###### y_max = np.append(y_test_pred, y_test).max()\n",
    "###### y_margin = (y_max - y_min) * 0.1\n",
    "###### y_min -= y_margin\n",
    "###### y_max += y_margin\n",
    "######\n",
    "##### plt.scatter(y_test_pred, y_test, alpha=0.3)\n",
    "###### plt.plot([y_min,y_max], [y_min,y_max])\n",
    "###### plt.gca().set_aspect('equal', adjustable='box')\n",
    "###### plt.xlim(y_min, y_max)\n",
    "###### plt.ylim(y_min, y_max)\n",
    "###### plt.title('Test data')\n",
    "###### plt.xlabel('Pred')\n",
    "###### plt.ylabel('True')\n",
    "###### plt.show()\n",
    "######\n",
    "###### mse = mean_squared_error(y_test, y_test_pred)\n",
    "###### print('MSE, RMSE for test data:', mse, np.sqrt(mse))\n",
    "###### 汎化性能の見積もり値"
   ]
  },
  {
   "cell_type": "markdown",
   "id": "5a79e97d-321f-4eaf-80ef-95258ce5704a",
   "metadata": {},
   "source": [
    "# 学習済みモデルの保存\n",
    "##### tag = 'student-por'\n",
    "##### model_file = 'rfr_{}.joblib'.format(tag)\n",
    "##### dump(rfr, model_file)"
   ]
  },
  {
   "cell_type": "markdown",
   "id": "98e9d6df-831b-47c9-be10-cabaea7ab907",
   "metadata": {},
   "source": [
    "# ライブラリimport\n",
    "##### import numpy as np\n",
    "##### import pandas as pd\n",
    "##### import matplotlib.pyplot as plt\n",
    "##### from sklearn.ensemble import RandomForestRegressor\n",
    "##### from sklearn.model_selection import train_test_split\n",
    "##### from sklearn.metrics import mean_squared_error\n",
    "##### from joblib import load"
   ]
  },
  {
   "cell_type": "markdown",
   "id": "b1df5b94-6900-4e9b-b550-1cb0d2563cde",
   "metadata": {},
   "source": [
    "# 前処理\n",
    "###### X = df.drop(columns='G3')  # features\n",
    "###### y = df['G3']  # true values    \n",
    "###### print('X:', X.shape)\n",
    "###### display(X.head())\n",
    "###### print('y:', y.shape)\n",
    "###### print(y.head())\n",
    "######\n",
    "###### X['studytime'] = X['studytime'].replace({'<2 hours':1, '2 to 5 hours':2,'5 to 10 hours':3, '>10 hours':4,})\n",
    "###### display(X.head())\n",
    "######\n",
    "###### X_dumm = pd.get_dummies(X, drop_first=True)\n",
    "###### print('X_dumm:', X_dumm.shape)\n",
    "###### display(X_dumm.head())\n",
    "######\n",
    "###### X_train, X_test, y_train, y_test = train_test_split(X_dumm, y, test_size=0.3, random_state=13)\n",
    "###### print(X_test.shape)\n",
    "###### print(y_test.shape)"
   ]
  },
  {
   "cell_type": "markdown",
   "id": "845bba5c-5a01-40b7-a087-1474908e9895",
   "metadata": {},
   "source": [
    "# RFRの読み込み\n",
    "##### tag = 'student-por'\n",
    "##### model_file = 'rfr_{}.joblib'.format(tag)\n",
    "##### rfr = load(model_file)\n",
    "##### print(rfr)"
   ]
  },
  {
   "cell_type": "markdown",
   "id": "0a1d7969-82f2-4352-b98c-0fa9beddad00",
   "metadata": {
    "jp-MarkdownHeadingCollapsed": true,
    "tags": []
   },
   "source": [
    "# 予測\n",
    "##### y_test_pred = rfr.predict(X_test)\n",
    "### 予測数値と実際の数値の対応(発展)\n",
    "###### y_min = np.append(y_test_pred, y_test).min()\n",
    "###### y_max = np.append(y_test_pred, y_test).max()\n",
    "###### y_margin = (y_max - y_min) * 0.1\n",
    "###### y_min -= y_margin\n",
    "###### y_max += y_margin\n",
    "######\n",
    "###### plt.scatter(y_test_pred, y_test, alpha=0.3)\n",
    "###### plt.plot([y_min,y_max], [y_min,y_max])\n",
    "###### plt.gca().set_aspect('equal', adjustable='box')\n",
    "###### plt.xlim(y_min, y_max)\n",
    "###### plt.ylim(y_min, y_max)\n",
    "###### plt.title('Test data')\n",
    "###### plt.xlabel('Pred')\n",
    "###### plt.ylabel('True')\n",
    "###### plt.show()\n",
    "######\n",
    "###### mse = mean_squared_error(y_test, y_test_pred)\n",
    "###### print('MSE, RMSE for test data:', mse, np.sqrt(mse))\n",
    "### 例(cs8と同じデータの予測)\n",
    "###### X_test2 = pd.DataFrame([[18, 4, 0, 0, 1, 3,3, 0, 1, 0, 0],[15, 1, 3, 1, 0, 1,1, 10, 0, 1, 0],],columns=X_dumm.columns)  # example\n",
    "###### print('X for prediction:')\n",
    "###### display(X_test2)\n",
    "######\n",
    "###### y_test_pred2 = rfr.predict(X_test2)\n",
    "###### print('Predicted y:')\n",
    "###### print(y_test_pred2)"
   ]
  },
  {
   "cell_type": "markdown",
   "id": "9b1f6f40-b96b-406d-ba29-fe34cb788218",
   "metadata": {},
   "source": [
    "# 13\n",
    "##### 量多すぎなので授業内でダウンロードしたやつ見て"
   ]
  },
  {
   "cell_type": "code",
   "execution_count": null,
   "id": "716c4757-7ae2-41ab-b017-effaadfff2e9",
   "metadata": {},
   "outputs": [],
   "source": []
  }
 ],
 "metadata": {
  "kernelspec": {
   "display_name": "Python 3 (ipykernel)",
   "language": "python",
   "name": "python3"
  },
  "language_info": {
   "codemirror_mode": {
    "name": "ipython",
    "version": 3
   },
   "file_extension": ".py",
   "mimetype": "text/x-python",
   "name": "python",
   "nbconvert_exporter": "python",
   "pygments_lexer": "ipython3",
   "version": "3.8.16"
  }
 },
 "nbformat": 4,
 "nbformat_minor": 5
}
