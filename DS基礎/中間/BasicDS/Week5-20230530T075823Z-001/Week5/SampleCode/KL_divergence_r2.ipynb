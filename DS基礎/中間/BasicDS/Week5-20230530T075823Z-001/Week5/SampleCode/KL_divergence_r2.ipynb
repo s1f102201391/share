{
 "cells": [
  {
   "cell_type": "markdown",
   "metadata": {},
   "source": [
    "# 離散型分布に対するKL情報量 KL-divergence on discrete distributions "
   ]
  },
  {
   "cell_type": "code",
   "execution_count": 1,
   "metadata": {},
   "outputs": [],
   "source": [
    "#Cell_1.\n",
    "import numpy as np \n",
    "\n",
    "def kl_divergence_discrete(x, y):\n",
    "    return np.sum(np.where(x != 0, x * np.log(x / y), 0))"
   ]
  },
  {
   "cell_type": "code",
   "execution_count": 2,
   "metadata": {},
   "outputs": [
    {
     "name": "stdout",
     "output_type": "stream",
     "text": [
      "0.023073823013984335\n",
      "0.020432821605637995\n"
     ]
    }
   ],
   "source": [
    "#Cell_2.\n",
    "f_A = np.array([0.2,0.12, 0.18, 0.12, 0.20, 0.18])\n",
    "f_B = np.array([0.18, 0.12, 0.14, 0.19, 0.22, 0.15])\n",
    "g=np.array([1/6, 1/6, 1/6, 1/6, 1/6, 1/6])\n",
    "\n",
    "print(kl_divergence_discrete(g, f_A))\n",
    "print(kl_divergence_discrete(g, f_B))"
   ]
  },
  {
   "cell_type": "markdown",
   "metadata": {},
   "source": [
    "# 連続型分布に対するKL情報量 KL-divergence on continuous distributions "
   ]
  },
  {
   "cell_type": "code",
   "execution_count": 3,
   "metadata": {},
   "outputs": [],
   "source": [
    "#Cell_1.\n",
    "\n",
    "def kl_divergence_conti(x, y, dx):\n",
    "    return np.sum(np.where(x != 0, x * np.log(x / y), 0))*dx"
   ]
  },
  {
   "cell_type": "code",
   "execution_count": 4,
   "metadata": {},
   "outputs": [
    {
     "name": "stdout",
     "output_type": "stream",
     "text": [
      "0.5000000000002773\n"
     ]
    }
   ],
   "source": [
    "#Cell_2.\n",
    "from scipy.stats import norm\n",
    "delta_x=0.001\n",
    "x = np.arange(-10, 10, delta_x)\n",
    "p = norm.pdf(x, 0, 1)\n",
    "q = norm.pdf(x, 1, 1)\n",
    "print(kl_divergence_conti(p, q,delta_x))"
   ]
  }
 ],
 "metadata": {
  "kernelspec": {
   "display_name": "Python 3 (ipykernel)",
   "language": "python",
   "name": "python3"
  },
  "language_info": {
   "codemirror_mode": {
    "name": "ipython",
    "version": 3
   },
   "file_extension": ".py",
   "mimetype": "text/x-python",
   "name": "python",
   "nbconvert_exporter": "python",
   "pygments_lexer": "ipython3",
   "version": "3.8.16"
  }
 },
 "nbformat": 4,
 "nbformat_minor": 2
}
