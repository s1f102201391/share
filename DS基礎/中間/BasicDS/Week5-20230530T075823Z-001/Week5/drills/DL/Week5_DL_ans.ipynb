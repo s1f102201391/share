{
 "cells": [
  {
   "cell_type": "code",
   "execution_count": 1,
   "metadata": {},
   "outputs": [
    {
     "name": "stdout",
     "output_type": "stream",
     "text": [
      "2.466666666666667\n",
      "0.04222222222222222\n"
     ]
    }
   ],
   "source": [
    "#DL1.\n",
    "import numpy as np\n",
    "x = np.array([2.2, 2.5, 2.7])\n",
    "print(x.mean())\n",
    "print(x.var())"
   ]
  },
  {
   "cell_type": "code",
   "execution_count": 2,
   "metadata": {},
   "outputs": [
    {
     "name": "stdout",
     "output_type": "stream",
     "text": [
      "1.64\n",
      "0.07440000000000002\n"
     ]
    }
   ],
   "source": [
    "#DL2.\n",
    "import numpy as np\n",
    "x = np.array([1.2, 1.5, 1.7, 1.8, 2.0])\n",
    "print(x.mean())\n",
    "print(x.var())"
   ]
  },
  {
   "cell_type": "code",
   "execution_count": 3,
   "metadata": {},
   "outputs": [
    {
     "name": "stdout",
     "output_type": "stream",
     "text": [
      "0.46242774566474\n"
     ]
    }
   ],
   "source": [
    "#DL3.\n",
    "import numpy as np\n",
    "x = np.array([1.23, 3.32, 1.98,2.12])\n",
    "print(1/x.mean())"
   ]
  },
  {
   "cell_type": "code",
   "execution_count": 4,
   "metadata": {},
   "outputs": [
    {
     "name": "stdout",
     "output_type": "stream",
     "text": [
      "0.4733727810650887\n"
     ]
    }
   ],
   "source": [
    "#DL4.\n",
    "import numpy as np\n",
    "x = np.array([2.23, 2.42, 1.98,1.82])\n",
    "print(1/x.mean())"
   ]
  },
  {
   "cell_type": "markdown",
   "metadata": {},
   "source": [
    "# KL-divergence."
   ]
  },
  {
   "cell_type": "code",
   "execution_count": 5,
   "metadata": {},
   "outputs": [],
   "source": [
    "#Cell_1.\n",
    "def kl_divergence(x, y):\n",
    "    return np.sum(np.where(x != 0, x * np.log(x / y), 0))"
   ]
  },
  {
   "cell_type": "code",
   "execution_count": 6,
   "metadata": {},
   "outputs": [
    {
     "name": "stdout",
     "output_type": "stream",
     "text": [
      "0.327723575654639\n"
     ]
    }
   ],
   "source": [
    "#DL5.\n",
    "import numpy as np\n",
    "p_A = np.array([1/6, 1/6, 1/6, 1/6, 1/6, 1/6])\n",
    "p_B = np.array([0.4,0.3, 0.1, 0.1, 0.05, 0.05])\n",
    "\n",
    "print(kl_divergence(p_A, p_B))"
   ]
  }
 ],
 "metadata": {
  "kernelspec": {
   "display_name": "Python 3",
   "language": "python",
   "name": "python3"
  },
  "language_info": {
   "codemirror_mode": {
    "name": "ipython",
    "version": 3
   },
   "file_extension": ".py",
   "mimetype": "text/x-python",
   "name": "python",
   "nbconvert_exporter": "python",
   "pygments_lexer": "ipython3",
   "version": "3.7.3"
  }
 },
 "nbformat": 4,
 "nbformat_minor": 2
}
