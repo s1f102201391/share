{
 "cells": [
  {
   "cell_type": "code",
   "execution_count": 11,
   "metadata": {},
   "outputs": [
    {
     "data": {
      "text/plain": [
       "(3.706521545468786, 6.0134784545312145)"
      ]
     },
     "execution_count": 11,
     "metadata": {},
     "output_type": "execute_result"
    }
   ],
   "source": [
    "#DAM\n",
    "import numpy as np\n",
    "import scipy.stats as st\n",
    "\n",
    "x=np.array([3.5, 4.5, 5.1, 5.2, 6.0])\n",
    "\n",
    "#Sample size.\n",
    "n=x.size\n",
    "\n",
    "#Sample mean.\n",
    "x_mean=x.mean()\n",
    "\n",
    "#Unknown SD.\n",
    "x_sd=np.std(x,ddof=1)\n",
    "\n",
    "st.t.interval(alpha=0.95,df=n-1,loc=x_mean,scale=x_sd/np.sqrt(n))"
   ]
  },
  {
   "cell_type": "code",
   "execution_count": 13,
   "metadata": {},
   "outputs": [
    {
     "data": {
      "text/plain": [
       "(4.597043237827026, 5.122956762172975)"
      ]
     },
     "execution_count": 13,
     "metadata": {},
     "output_type": "execute_result"
    }
   ],
   "source": [
    "import numpy as np\n",
    "import scipy.stats as st\n",
    "\n",
    "x=np.array([3.5, 4.5, 5.1, 5.2, 6.0])\n",
    "\n",
    "#Sample size.\n",
    "n=x.size\n",
    "\n",
    "#Sample mean.\n",
    "x_mean=x.mean()\n",
    "\n",
    "#Population SD.\n",
    "x_sd=0.3\n",
    "\n",
    "st.norm.interval(alpha=0.95,loc=x_mean,scale=x_sd/np.sqrt(n))"
   ]
  },
  {
   "cell_type": "code",
   "execution_count": 14,
   "metadata": {},
   "outputs": [
    {
     "data": {
      "text/plain": [
       "(6.097043237827026, 6.622956762172975)"
      ]
     },
     "execution_count": 14,
     "metadata": {},
     "output_type": "execute_result"
    }
   ],
   "source": [
    "import numpy as np\n",
    "import scipy.stats as st\n",
    "\n",
    "x=np.array([3.5, 4.5, 5.1, 5.2, 6.0])\n",
    "x=x+1.5\n",
    "\n",
    "#Sample size.\n",
    "n=x.size\n",
    "\n",
    "#Sample mean.\n",
    "x_mean=x.mean()\n",
    "\n",
    "#Population SD.\n",
    "x_sd=0.3\n",
    "\n",
    "st.norm.interval(alpha=0.95,loc=x_mean,scale=x_sd/np.sqrt(n))"
   ]
  },
  {
   "cell_type": "code",
   "execution_count": 15,
   "metadata": {},
   "outputs": [
    {
     "data": {
      "text/plain": [
       "96.04000000000002"
      ]
     },
     "execution_count": 15,
     "metadata": {},
     "output_type": "execute_result"
    }
   ],
   "source": [
    "(3.92*5/2)**2"
   ]
  }
 ],
 "metadata": {
  "kernelspec": {
   "display_name": "Python 3",
   "language": "python",
   "name": "python3"
  },
  "language_info": {
   "codemirror_mode": {
    "name": "ipython",
    "version": 3
   },
   "file_extension": ".py",
   "mimetype": "text/x-python",
   "name": "python",
   "nbconvert_exporter": "python",
   "pygments_lexer": "ipython3",
   "version": "3.7.3"
  }
 },
 "nbformat": 4,
 "nbformat_minor": 2
}
