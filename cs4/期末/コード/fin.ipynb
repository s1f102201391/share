{
 "cells": [
  {
   "cell_type": "markdown",
   "metadata": {},
   "source": [
    "課題2－1：スライドP33参照\n",
    "\n",
    "課題3－2：AはIPアドレス、NSはDNS、CNAMEは正規のホスト名、MXはmail。"
   ]
  },
  {
   "cell_type": "markdown",
   "metadata": {},
   "source": [
    "課題5－1"
   ]
  },
  {
   "cell_type": "code",
   "execution_count": 7,
   "metadata": {},
   "outputs": [
    {
     "name": "stdout",
     "output_type": "stream",
     "text": [
      "i=1,rtt=10,ertt=10.00,devrtt=5.00,rto=30.00\n",
      "i=2,rtt=12,ertt=10.25,devrtt=4.25,rto=27.25\n",
      "i=3,rtt=7,ertt=9.84,devrtt=4.00,rto=25.84\n",
      "i=4,rtt=8,ertt=9.61,devrtt=3.46,rto=23.46\n",
      "i=5,rtt=15,ertt=10.29,devrtt=3.94,rto=26.06\n",
      "i=6,rtt=20,ertt=11.50,devrtt=5.39,rto=33.04\n",
      "i=7,rtt=17,ertt=12.19,devrtt=5.41,rto=33.84\n",
      "i=8,rtt=24,ertt=13.66,devrtt=7.01,rto=41.72\n"
     ]
    }
   ],
   "source": [
    "#RTO\n",
    "alpha = 0.125\n",
    "beta = 0.25\n",
    "\n",
    "lst = [10,12,7,8,15,20,17,24]\n",
    "\n",
    "for i in range(1,len(lst)+1):\n",
    "    rtt = lst[i-1]\n",
    "    if i == 1:\n",
    "        ertt = rtt\n",
    "        devrtt = rtt/2\n",
    "        rto = ertt + 4*devrtt\n",
    "    else:\n",
    "        devrtt = (1-beta) * devrtt + beta * abs(rtt - ertt)\n",
    "        ertt = (1-alpha) * ertt + alpha * rtt\n",
    "        rto = ertt + 4*devrtt\n",
    "    print('i={},rtt={},ertt={:.2f},devrtt={:.2f},rto={:.2f}'.format(i,rtt,ertt,devrtt,rto))"
   ]
  },
  {
   "cell_type": "markdown",
   "metadata": {},
   "source": [
    "課題6－1"
   ]
  },
  {
   "cell_type": "code",
   "execution_count": 8,
   "metadata": {},
   "outputs": [
    {
     "name": "stdout",
     "output_type": "stream",
     "text": [
      "バイナリIPアドレス: 10001000111100000001000001010100\n",
      "10進数IPアドレス: 136.240.16.84\n"
     ]
    }
   ],
   "source": [
    "def binary_to_decimal(binary_ip):\n",
    "    # 8ビットごとに分割\n",
    "    octets = [binary_ip[i:i+8] for i in range(0, len(binary_ip), 8)]\n",
    "\n",
    "    # 10進数に変換\n",
    "    decimal_octets = [str(int(octet, 2)) for octet in octets]\n",
    "\n",
    "    # ドットで連結\n",
    "    decimal_ip = \".\".join(decimal_octets)\n",
    "\n",
    "    return decimal_ip\n",
    "\n",
    "# バイナリ形式のIPアドレス\n",
    "binary_ip = \"10001000111100000001000001010100\"\n",
    "\n",
    "# ドット付き10進数形式に変換\n",
    "decimal_ip = binary_to_decimal(binary_ip)\n",
    "\n",
    "# 結果の表示\n",
    "print(\"バイナリIPアドレス:\", binary_ip)\n",
    "print(\"10進数IPアドレス:\", decimal_ip)\n"
   ]
  },
  {
   "cell_type": "code",
   "execution_count": 9,
   "metadata": {},
   "outputs": [
    {
     "name": "stdout",
     "output_type": "stream",
     "text": [
      "10進数IPアドレス: 198.24.68.112\n",
      "バイナリIPアドレス: 11000110 00011000 01000100 01110000\n"
     ]
    }
   ],
   "source": [
    "def decimal_to_binary(decimal_ip):\n",
    "    # 各オクテットをバイナリに変換して0埋めし、リストに格納\n",
    "    binary_octets = [bin(int(octet))[2:].zfill(8) for octet in decimal_ip.split('.')]\n",
    "\n",
    "    # バイナリオクテットを連結し、空白を挿入\n",
    "    binary_ip = ' '.join(binary_octets)\n",
    "\n",
    "    return binary_ip\n",
    "\n",
    "# ドット付き10進数形式のIPアドレス\n",
    "decimal_ip = \"198.24.68.112\"\n",
    "\n",
    "# バイナリ形式に変換\n",
    "binary_ip = decimal_to_binary(decimal_ip)\n",
    "\n",
    "# 結果の表示\n",
    "print(\"10進数IPアドレス:\", decimal_ip)\n",
    "print(\"バイナリIPアドレス:\", binary_ip)\n"
   ]
  },
  {
   "cell_type": "markdown",
   "metadata": {},
   "source": [
    "課題6－2"
   ]
  },
  {
   "cell_type": "code",
   "execution_count": 11,
   "metadata": {},
   "outputs": [
    {
     "name": "stdout",
     "output_type": "stream",
     "text": [
      "ネットワークアドレス: 192.168.88.0\n",
      "ホストアドレス: 192.168.88.1 ~ 192.168.88.254\n",
      "ブロードキャストアドレス: 192.168.88.255\n",
      "サブネットマスク: 255.255.255.0\n"
     ]
    }
   ],
   "source": [
    "import ipaddress\n",
    "\n",
    "def get_network_info(network_address):\n",
    "    # ネットワークアドレス、ネットワークのサイズを取得\n",
    "    network = ipaddress.IPv4Network(network_address, strict=False)\n",
    "    \n",
    "    # ネットワークアドレス、ブロードキャストアドレス、サブネットマスクを取得\n",
    "    network_address = str(network.network_address)\n",
    "    broadcast_address = str(network.broadcast_address)\n",
    "    subnet_mask = str(network.netmask)\n",
    "\n",
    "    # 最初のホストアドレスから最後のホストアドレスまでをリストアップ\n",
    "    host_addresses = [str(ip) for ip in network.hosts()]\n",
    "    first_host = host_addresses[0]\n",
    "    last_host = host_addresses[-1]\n",
    "\n",
    "    return network_address, broadcast_address, subnet_mask, first_host, last_host\n",
    "\n",
    "# ネットワークアドレス\n",
    "network_address = \"192.168.88.0/24\"\n",
    "\n",
    "# ネットワーク情報を取得\n",
    "network_info = get_network_info(network_address)\n",
    "\n",
    "# 結果の表示\n",
    "print(\"ネットワークアドレス:\", network_info[0])\n",
    "print(\"ホストアドレス:\", network_info[3],'~',network_info[4])\n",
    "print(\"ブロードキャストアドレス:\", network_info[1])\n",
    "print(\"サブネットマスク:\", network_info[2])\n",
    "\n"
   ]
  },
  {
   "cell_type": "markdown",
   "metadata": {},
   "source": [
    "課題7－1"
   ]
  },
  {
   "cell_type": "code",
   "execution_count": 12,
   "metadata": {},
   "outputs": [
    {
     "name": "stdout",
     "output_type": "stream",
     "text": [
      "ネットワークアドレス: 192.168.2.0\n",
      "ホストアドレス: 192.168.2.1 ~ 192.168.2.126\n",
      "ブロードキャストアドレス: 192.168.2.127\n",
      "サブネットマスク: 255.255.255.128\n"
     ]
    }
   ],
   "source": [
    "import ipaddress\n",
    "\n",
    "def get_network_info(network_address):\n",
    "    # ネットワークアドレス、ネットワークのサイズを取得\n",
    "    network = ipaddress.IPv4Network(network_address, strict=False)\n",
    "    \n",
    "    # ネットワークアドレス、ブロードキャストアドレス、サブネットマスクを取得\n",
    "    network_address = str(network.network_address)\n",
    "    broadcast_address = str(network.broadcast_address)\n",
    "    subnet_mask = str(network.netmask)\n",
    "\n",
    "    # 最初のホストアドレスから最後のホストアドレスまでをリストアップ\n",
    "    host_addresses = [str(ip) for ip in network.hosts()]\n",
    "    first_host = host_addresses[0]\n",
    "    last_host = host_addresses[-1]\n",
    "\n",
    "    return network_address, broadcast_address, subnet_mask, first_host, last_host\n",
    "\n",
    "# ネットワークアドレス\n",
    "network_address = \"192.168.2.0/25\"\n",
    "\n",
    "# ネットワーク情報を取得\n",
    "network_info = get_network_info(network_address)\n",
    "\n",
    "# 結果の表示\n",
    "print(\"ネットワークアドレス:\", network_info[0])\n",
    "print(\"ホストアドレス:\", network_info[3],'~',network_info[4])\n",
    "print(\"ブロードキャストアドレス:\", network_info[1])\n",
    "print(\"サブネットマスク:\", network_info[2])\n",
    "\n"
   ]
  },
  {
   "cell_type": "markdown",
   "metadata": {},
   "source": [
    "課題9：n回の時1/2^n 2のn乗分の1"
   ]
  },
  {
   "cell_type": "code",
   "execution_count": 13,
   "metadata": {},
   "outputs": [
    {
     "name": "stdout",
     "output_type": "stream",
     "text": [
      "def\n"
     ]
    },
    {
     "data": {
      "text/plain": [
       "'def'"
      ]
     },
     "execution_count": 13,
     "metadata": {},
     "output_type": "execute_result"
    }
   ],
   "source": [
    "en = \"abcdefghijklmnopqrstuvwxyz\"\n",
    "def encrypt(plaintext, key):\n",
    "    result = \"\"\n",
    "    for i in plaintext:\n",
    "        index = en.find(i)\n",
    "        result += en[index+key]\n",
    "    print(result)\n",
    "    return result\n",
    "\n",
    "a = input()\n",
    "b = input()\n",
    "encrypt(a, int(b))\n"
   ]
  },
  {
   "cell_type": "code",
   "execution_count": 3,
   "metadata": {},
   "outputs": [
    {
     "name": "stdout",
     "output_type": "stream",
     "text": [
      "ghi\n",
      "abc\n"
     ]
    },
    {
     "data": {
      "text/plain": [
       "'abc'"
      ]
     },
     "execution_count": 3,
     "metadata": {},
     "output_type": "execute_result"
    }
   ],
   "source": [
    "en = \"abcdefghijklmnopqrstuvwxyz\"\n",
    "def encrypt(plaintext, key):\n",
    "    result = \"\"\n",
    "    for i in plaintext:\n",
    "        index = en.find(i)\n",
    "        result += en[index+key]\n",
    "    print(result)\n",
    "    return result\n",
    "\n",
    "def decrypt(ciphertext, key):\n",
    "    return encrypt(ciphertext, -key)\n",
    "\n",
    "a = input()\n",
    "b = input()\n",
    "encrypt(a, int(b))\n",
    "decrypt(a, int(b))\n",
    "\n"
   ]
  },
  {
   "cell_type": "code",
   "execution_count": 1,
   "metadata": {},
   "outputs": [
    {
     "name": "stdout",
     "output_type": "stream",
     "text": [
      "TOYOUNIVERSITY\n"
     ]
    }
   ],
   "source": [
    "def vigenere_decrypt(ciphertext, key):\n",
    "    \"\"\"\n",
    "    Decrypts a ciphertext using the Vigenere cipher with the given key.\n",
    "\n",
    "    Args:\n",
    "    ciphertext (str): The ciphertext to be decrypted.\n",
    "    key (str): The key used for decryption.\n",
    "\n",
    "    Returns:\n",
    "    str: The decrypted plaintext.\n",
    "    \"\"\"\n",
    "\n",
    "    # Convert everything to uppercase for consistency\n",
    "    ciphertext = ciphertext.upper()\n",
    "    key = key.upper()\n",
    "\n",
    "    # The alphabets\n",
    "    alphabet = \"ABCDEFGHIJKLMNOPQRSTUVWXYZ\"\n",
    "\n",
    "    # The decrypted message\n",
    "    decrypted_message = \"\"\n",
    "\n",
    "    key_index = 0\n",
    "    for char in ciphertext:\n",
    "        if char in alphabet:\n",
    "            # Find the position in the alphabet\n",
    "            char_index = alphabet.find(char)\n",
    "\n",
    "            # Find the position of the key character\n",
    "            key_char = key[key_index % len(key)]\n",
    "            key_char_index = alphabet.find(key_char)\n",
    "\n",
    "            # Decrypt the character\n",
    "            decrypted_char_index = (char_index - key_char_index) % len(alphabet)\n",
    "            decrypted_message += alphabet[decrypted_char_index]\n",
    "\n",
    "            # Move to the next character in the key\n",
    "            key_index += 1\n",
    "        else:\n",
    "            # Non-alphabet character, just add it as it is\n",
    "            decrypted_message += char\n",
    "\n",
    "    return decrypted_message\n",
    "\n",
    "# Example usage\n",
    "ciphertext = \"BBGOXVVDEUAVBY\"\n",
    "key = \"INIAD\"\n",
    "plaintext = vigenere_decrypt(ciphertext, key)\n",
    "print(plaintext)\n"
   ]
  },
  {
   "cell_type": "code",
   "execution_count": 4,
   "metadata": {},
   "outputs": [
    {
     "data": {
      "text/plain": [
       "(343, 13, 13)"
      ]
     },
     "execution_count": 4,
     "metadata": {},
     "output_type": "execute_result"
    }
   ],
   "source": [
    "# 平文 M が 7 のときの暗号化プロセスを出力するためのコード\n",
    "\n",
    "# 与えられた公開鍵パラメータ\n",
    "n = 55  # n = p * q\n",
    "e = 3   # 公開鍵の指数\n",
    "\n",
    "# 平文\n",
    "M = 7\n",
    "\n",
    "# 暗号化プロセス\n",
    "# 暗号文 C = M^e mod n\n",
    "C = pow(M, e, n)\n",
    "\n",
    "# 暗号化の計算過程を出力\n",
    "# 7^3 の計算\n",
    "power_result = M**e\n",
    "\n",
    "# 343 mod 55 の計算\n",
    "mod_result = power_result % n\n",
    "\n",
    "(power_result, mod_result, C)\n"
   ]
  },
  {
   "cell_type": "code",
   "execution_count": 5,
   "metadata": {},
   "outputs": [
    {
     "data": {
      "text/plain": [
       "7"
      ]
     },
     "execution_count": 5,
     "metadata": {},
     "output_type": "execute_result"
    }
   ],
   "source": [
    "# 画像で与えられたRSA暗号のパラメータを用いて、暗号文から平文を復元するPythonコード\n",
    "\n",
    "# RSAのパラメータ\n",
    "n = 5 * 11  # p = 5, q = 11\n",
    "d = 27  # 秘密鍵の指数\n",
    "ciphertext = 13  # 暗号文\n",
    "\n",
    "# 暗号文から平文を復号する関数\n",
    "def decrypt_rsa(ciphertext, d, n):\n",
    "    # 平文 = 暗号文^d mod n\n",
    "    plaintext = pow(ciphertext, d, n)\n",
    "    return plaintext\n",
    "\n",
    "# 暗号文を平文に復号\n",
    "plaintext = decrypt_rsa(ciphertext, d, n)\n",
    "plaintext\n"
   ]
  },
  {
   "cell_type": "markdown",
   "metadata": {},
   "source": []
  }
 ],
 "metadata": {
  "kernelspec": {
   "display_name": "Python 3 (ipykernel)",
   "language": "python",
   "name": "python3"
  },
  "language_info": {
   "codemirror_mode": {
    "name": "ipython",
    "version": 3
   },
   "file_extension": ".py",
   "mimetype": "text/x-python",
   "name": "python",
   "nbconvert_exporter": "python",
   "pygments_lexer": "ipython3",
   "version": "3.8.16"
  }
 },
 "nbformat": 4,
 "nbformat_minor": 4
}
