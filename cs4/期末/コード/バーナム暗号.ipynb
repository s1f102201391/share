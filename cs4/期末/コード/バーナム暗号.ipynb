{
 "cells": [
  {
   "cell_type": "markdown",
   "metadata": {},
   "source": [
    "アルファベットaからzを順に0から25(10進法表記)に対応させ、さ\n",
    "らにその各数値を5ビットの2進数に変換するとする。このとき、平文\n",
    "「cat」を一文字ずつバーナム暗号の手順に従って暗号化するとする。\n",
    "なお、暗号化鍵(2進法表記)は、1文字目は01010、2文字目は10000、\n",
    "3文字目は00110とする。このとき、暗号文を2進数で答えよ。"
   ]
  },
  {
   "cell_type": "code",
   "execution_count": 2,
   "metadata": {
    "vscode": {
     "languageId": "plaintext"
    }
   },
   "outputs": [
    {
     "name": "stdout",
     "output_type": "stream",
     "text": [
      "平文: cat\n",
      "暗号文(binary): 01000 10000 10101\n"
     ]
    }
   ],
   "source": [
    "def char_to_binary(char):\n",
    "    # アルファベットを0から25に対応させる\n",
    "    num = ord(char) - ord('a')\n",
    "    # 5ビットの2進数に変換\n",
    "    binary = format(num, '05b')\n",
    "    return binary\n",
    "\n",
    "def encrypt_char(char, key):\n",
    "    # 文字を2進数に変換\n",
    "    binary_char = char_to_binary(char)\n",
    "    # 暗号化鍵とのXORを計算\n",
    "    encrypted_char = ''.join(str(int(b) ^ int(k)) for b, k in zip(binary_char, key))\n",
    "    return encrypted_char\n",
    "\n",
    "def vernam_cipher(plaintext, keys):\n",
    "    ciphertext = \"\"\n",
    "    for char, key in zip(plaintext, keys):\n",
    "        encrypted_char = encrypt_char(char, key)\n",
    "        ciphertext += encrypted_char + ' '\n",
    "    return ciphertext.strip()\n",
    "\n",
    "# 平文 \"cat\" と暗号化鍵\n",
    "plaintext = \"cat\"\n",
    "keys = [\"01010\", \"10000\", \"00110\"]\n",
    "\n",
    "# バーナム暗号で暗号化\n",
    "ciphertext = vernam_cipher(plaintext, keys)\n",
    "\n",
    "print(\"平文:\", plaintext)\n",
    "print(\"暗号文(binary):\", ciphertext)\n"
   ]
  },
  {
   "cell_type": "markdown",
   "metadata": {},
   "source": [
    "回答/Answer\n",
    "\n",
    "cat ⇒ 2, 0, 19\n",
    "\n",
    "⇒ 2進数(binary): 00010, 00000, 10011\n",
    "\n",
    "各ビット列と暗号化鍵とのXORを計算 / Calculate XOR of\n",
    "each bit string and encryption key\n",
    "■00010⊕01010 = 01000\n",
    "\n",
    "■00000⊕10000 = 10000\n",
    "\n",
    "■10011⊕00110 = 10101\n",
    "\n",
    "⇒暗号文(ciphertext): 01000 10000 10101"
   ]
  }
 ],
 "metadata": {
  "kernelspec": {
   "display_name": "Python 3 (ipykernel)",
   "language": "python",
   "name": "python3"
  },
  "language_info": {
   "codemirror_mode": {
    "name": "ipython",
    "version": 3
   },
   "file_extension": ".py",
   "mimetype": "text/x-python",
   "name": "python",
   "nbconvert_exporter": "python",
   "pygments_lexer": "ipython3",
   "version": "3.8.16"
  }
 },
 "nbformat": 4,
 "nbformat_minor": 4
}
