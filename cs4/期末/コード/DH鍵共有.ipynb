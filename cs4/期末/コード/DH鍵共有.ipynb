{
 "cells": [
  {
   "cell_type": "code",
   "execution_count": 12,
   "metadata": {},
   "outputs": [],
   "source": [
    "#鍵の作成\n",
    "def key_change(a,b):\n",
    "    g = 7\n",
    "    p = 23\n",
    "    A = (g ** a) % p\n",
    "    print(\"A = \", A)\n",
    "    B = (g ** b) % p\n",
    "    print(\"B = \", B)\n",
    "    key = (B ** a) % p\n",
    "    print(\"key = \", key)\n",
    "    key = (A ** b) % p\n",
    "    print(\"key = \", key)"
   ]
  },
  {
   "cell_type": "code",
   "execution_count": 13,
   "metadata": {},
   "outputs": [
    {
     "name": "stdout",
     "output_type": "stream",
     "text": [
      "A =  21\n",
      "B =  4\n",
      "key =  18\n",
      "key =  18\n"
     ]
    }
   ],
   "source": [
    "#それぞれが決めたx,yを入力\n",
    "key_change(3, 6)"
   ]
  },
  {
   "cell_type": "code",
   "execution_count": null,
   "metadata": {},
   "outputs": [],
   "source": [
    "#AとBの値から秘密鍵とx,yを求める\n",
    "def get(A,B):\n",
    "    g = 7\n",
    "    p = 23\n",
    "    for a in range(1,p):\n",
    "        for b in range(1,p):\n",
    "            if (g ** a) % p == A and (g ** b) % p == B:\n",
    "                print(\"a = \", a)\n",
    "                print(\"b = \", b)\n",
    "                print(\"key = \", (B ** a) % p)"
   ]
  },
  {
   "cell_type": "code",
   "execution_count": 14,
   "metadata": {},
   "outputs": [
    {
     "name": "stdout",
     "output_type": "stream",
     "text": [
      "a =  3\n",
      "b =  6\n",
      "key =  18\n"
     ]
    }
   ],
   "source": [
    "#AとBの値を入力\n",
    "get(21, 4)\n",
    "\n",
    "\n"
   ]
  },
  {
   "cell_type": "code",
   "execution_count": null,
   "metadata": {},
   "outputs": [],
   "source": []
  }
 ],
 "metadata": {
  "kernelspec": {
   "display_name": "Python 3 (ipykernel)",
   "language": "python",
   "name": "python3"
  },
  "language_info": {
   "codemirror_mode": {
    "name": "ipython",
    "version": 3
   },
   "file_extension": ".py",
   "mimetype": "text/x-python",
   "name": "python",
   "nbconvert_exporter": "python",
   "pygments_lexer": "ipython3",
   "version": "3.8.16"
  }
 },
 "nbformat": 4,
 "nbformat_minor": 4
}
