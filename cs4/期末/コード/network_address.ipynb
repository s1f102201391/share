{
 "cells": [
  {
   "cell_type": "markdown",
   "id": "197a7a5c-9272-42c7-b2ab-f24a73f71cee",
   "metadata": {},
   "source": [
    "## ネットワークアドレス関連"
   ]
  },
  {
   "cell_type": "markdown",
   "id": "17e21384-b710-4378-a534-a8f734372249",
   "metadata": {},
   "source": [
    "#### 10進数→2進数"
   ]
  },
  {
   "cell_type": "code",
   "execution_count": 3,
   "id": "f8e8aa48-0bf5-4e0a-8474-52acbaaa16f1",
   "metadata": {},
   "outputs": [
    {
     "data": {
      "text/plain": [
       "'11111111'"
      ]
     },
     "execution_count": 3,
     "metadata": {},
     "output_type": "execute_result"
    }
   ],
   "source": [
    "num = 255 #ここを変更\n",
    "format(num, 'b')"
   ]
  },
  {
   "cell_type": "markdown",
   "id": "57a0dea3-05b0-46bf-9251-dbeeb5be6bff",
   "metadata": {},
   "source": [
    "#### 2進数→10進数"
   ]
  },
  {
   "cell_type": "code",
   "execution_count": 6,
   "id": "3648f59d-9030-4fd6-9a8d-9af7bb8fb38c",
   "metadata": {},
   "outputs": [
    {
     "data": {
      "text/plain": [
       "255"
      ]
     },
     "execution_count": 6,
     "metadata": {},
     "output_type": "execute_result"
    }
   ],
   "source": [
    "num = '11111111' #ここを変更\n",
    "int(num,2)"
   ]
  },
  {
   "cell_type": "markdown",
   "id": "231325be-3740-4811-93d8-cdecb8f354c6",
   "metadata": {},
   "source": [
    "#### ネットワークアドレス、ブロードキャストアドレス、ネットマスク"
   ]
  },
  {
   "cell_type": "code",
   "execution_count": 89,
   "id": "c12e2319-ca63-4944-aaff-13332e05bdfa",
   "metadata": {},
   "outputs": [
    {
     "name": "stdout",
     "output_type": "stream",
     "text": [
      "10.128.0.0\n",
      "10.255.255.255\n",
      "255.128.0.0\n"
     ]
    }
   ],
   "source": [
    "import ipaddress\n",
    "subnet = ipaddress.ip_network('10.236.5.2/9', strict=False)\n",
    "\n",
    "print(subnet.network_address)\n",
    "print(subnet.broadcast_address)\n",
    "print(subnet.netmask)"
   ]
  }
 ],
 "metadata": {
  "kernelspec": {
   "display_name": "Python 3 (ipykernel)",
   "language": "python",
   "name": "python3"
  },
  "language_info": {
   "codemirror_mode": {
    "name": "ipython",
    "version": 3
   },
   "file_extension": ".py",
   "mimetype": "text/x-python",
   "name": "python",
   "nbconvert_exporter": "python",
   "pygments_lexer": "ipython3",
   "version": "3.8.16"
  }
 },
 "nbformat": 4,
 "nbformat_minor": 5
}
