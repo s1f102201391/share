{
 "cells": [
  {
   "cell_type": "code",
   "execution_count": 1,
   "id": "ccd2007c-8426-4ad6-889e-43ce8233dda4",
   "metadata": {},
   "outputs": [
    {
     "name": "stdout",
     "output_type": "stream",
     "text": [
      "213\n",
      "210\n"
     ]
    }
   ],
   "source": [
    "s=67+46+41+25+24+9+1\n",
    "d=70+55+53+14+10+3+2+1+1+1\n",
    "print(s)\n",
    "print(d)"
   ]
  },
  {
   "cell_type": "code",
   "execution_count": null,
   "id": "767f2ec5-b238-4151-ad5f-80edc4892f51",
   "metadata": {},
   "outputs": [],
   "source": []
  }
 ],
 "metadata": {
  "kernelspec": {
   "display_name": "Python 3 (ipykernel)",
   "language": "python",
   "name": "python3"
  },
  "language_info": {
   "codemirror_mode": {
    "name": "ipython",
    "version": 3
   },
   "file_extension": ".py",
   "mimetype": "text/x-python",
   "name": "python",
   "nbconvert_exporter": "python",
   "pygments_lexer": "ipython3",
   "version": "3.8.16"
  }
 },
 "nbformat": 4,
 "nbformat_minor": 5
}
