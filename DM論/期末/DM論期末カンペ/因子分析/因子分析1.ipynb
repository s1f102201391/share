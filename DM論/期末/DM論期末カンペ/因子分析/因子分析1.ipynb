{
 "cells": [
  {
   "cell_type": "markdown",
   "metadata": {},
   "source": [
    "## フォントエラーが多発することがありますが、実行には問題ないので読み飛ばしてください。"
   ]
  },
  {
   "cell_type": "code",
   "execution_count": 1,
   "metadata": {},
   "outputs": [],
   "source": [
    "from sklearn.preprocessing import scale\n",
    "import pandas as pd\n",
    "import numpy as np\n",
    "import matplotlib.pyplot as plt\n",
    "from factor_analyzer import FactorAnalyzer \n",
    "font = {'family' : 'Yu Mincho'}\n",
    "plt.rc('font', **font)"
   ]
  },
  {
   "cell_type": "code",
   "execution_count": 2,
   "metadata": {},
   "outputs": [
    {
     "data": {
      "text/html": [
       "<div>\n",
       "<style scoped>\n",
       "    .dataframe tbody tr th:only-of-type {\n",
       "        vertical-align: middle;\n",
       "    }\n",
       "\n",
       "    .dataframe tbody tr th {\n",
       "        vertical-align: top;\n",
       "    }\n",
       "\n",
       "    .dataframe thead th {\n",
       "        text-align: right;\n",
       "    }\n",
       "</style>\n",
       "<table border=\"1\" class=\"dataframe\">\n",
       "  <thead>\n",
       "    <tr style=\"text-align: right;\">\n",
       "      <th></th>\n",
       "      <th>Human subjects</th>\n",
       "      <th>Q1</th>\n",
       "      <th>Q2</th>\n",
       "      <th>Q3</th>\n",
       "      <th>Q4</th>\n",
       "      <th>Q5</th>\n",
       "    </tr>\n",
       "  </thead>\n",
       "  <tbody>\n",
       "    <tr>\n",
       "      <th>0</th>\n",
       "      <td>A</td>\n",
       "      <td>1</td>\n",
       "      <td>3</td>\n",
       "      <td>3</td>\n",
       "      <td>4</td>\n",
       "      <td>1</td>\n",
       "    </tr>\n",
       "    <tr>\n",
       "      <th>1</th>\n",
       "      <td>B</td>\n",
       "      <td>4</td>\n",
       "      <td>1</td>\n",
       "      <td>2</td>\n",
       "      <td>2</td>\n",
       "      <td>4</td>\n",
       "    </tr>\n",
       "    <tr>\n",
       "      <th>2</th>\n",
       "      <td>C</td>\n",
       "      <td>1</td>\n",
       "      <td>1</td>\n",
       "      <td>4</td>\n",
       "      <td>3</td>\n",
       "      <td>1</td>\n",
       "    </tr>\n",
       "    <tr>\n",
       "      <th>3</th>\n",
       "      <td>D</td>\n",
       "      <td>2</td>\n",
       "      <td>2</td>\n",
       "      <td>2</td>\n",
       "      <td>2</td>\n",
       "      <td>4</td>\n",
       "    </tr>\n",
       "    <tr>\n",
       "      <th>4</th>\n",
       "      <td>E</td>\n",
       "      <td>3</td>\n",
       "      <td>1</td>\n",
       "      <td>4</td>\n",
       "      <td>1</td>\n",
       "      <td>1</td>\n",
       "    </tr>\n",
       "  </tbody>\n",
       "</table>\n",
       "</div>"
      ],
      "text/plain": [
       "  Human subjects  Q1  Q2  Q3  Q4  Q5\n",
       "0              A   1   3   3   4   1\n",
       "1              B   4   1   2   2   4\n",
       "2              C   1   1   4   3   1\n",
       "3              D   2   2   2   2   4\n",
       "4              E   3   1   4   1   1"
      ]
     },
     "metadata": {},
     "output_type": "display_data"
    },
    {
     "data": {
      "text/html": [
       "<div>\n",
       "<style scoped>\n",
       "    .dataframe tbody tr th:only-of-type {\n",
       "        vertical-align: middle;\n",
       "    }\n",
       "\n",
       "    .dataframe tbody tr th {\n",
       "        vertical-align: top;\n",
       "    }\n",
       "\n",
       "    .dataframe thead th {\n",
       "        text-align: right;\n",
       "    }\n",
       "</style>\n",
       "<table border=\"1\" class=\"dataframe\">\n",
       "  <thead>\n",
       "    <tr style=\"text-align: right;\">\n",
       "      <th></th>\n",
       "      <th>Q1</th>\n",
       "      <th>Q2</th>\n",
       "      <th>Q3</th>\n",
       "      <th>Q4</th>\n",
       "      <th>Q5</th>\n",
       "    </tr>\n",
       "  </thead>\n",
       "  <tbody>\n",
       "    <tr>\n",
       "      <th>0</th>\n",
       "      <td>-1.166667</td>\n",
       "      <td>0.500000</td>\n",
       "      <td>0.429198</td>\n",
       "      <td>1.497172</td>\n",
       "      <td>-1.179536</td>\n",
       "    </tr>\n",
       "    <tr>\n",
       "      <th>1</th>\n",
       "      <td>1.333333</td>\n",
       "      <td>-1.166667</td>\n",
       "      <td>-0.490511</td>\n",
       "      <td>-0.455661</td>\n",
       "      <td>1.032094</td>\n",
       "    </tr>\n",
       "    <tr>\n",
       "      <th>2</th>\n",
       "      <td>-1.166667</td>\n",
       "      <td>-1.166667</td>\n",
       "      <td>1.348907</td>\n",
       "      <td>0.520756</td>\n",
       "      <td>-1.179536</td>\n",
       "    </tr>\n",
       "    <tr>\n",
       "      <th>3</th>\n",
       "      <td>-0.333333</td>\n",
       "      <td>-0.333333</td>\n",
       "      <td>-0.490511</td>\n",
       "      <td>-0.455661</td>\n",
       "      <td>1.032094</td>\n",
       "    </tr>\n",
       "    <tr>\n",
       "      <th>4</th>\n",
       "      <td>0.500000</td>\n",
       "      <td>-1.166667</td>\n",
       "      <td>1.348907</td>\n",
       "      <td>-1.432078</td>\n",
       "      <td>-1.179536</td>\n",
       "    </tr>\n",
       "  </tbody>\n",
       "</table>\n",
       "</div>"
      ],
      "text/plain": [
       "         Q1        Q2        Q3        Q4        Q5\n",
       "0 -1.166667  0.500000  0.429198  1.497172 -1.179536\n",
       "1  1.333333 -1.166667 -0.490511 -0.455661  1.032094\n",
       "2 -1.166667 -1.166667  1.348907  0.520756 -1.179536\n",
       "3 -0.333333 -0.333333 -0.490511 -0.455661  1.032094\n",
       "4  0.500000 -1.166667  1.348907 -1.432078 -1.179536"
      ]
     },
     "metadata": {},
     "output_type": "display_data"
    }
   ],
   "source": [
    "X=pd.read_csv('Responses.csv',sep=',')\n",
    "display(X.head())\n",
    "#被験者番号を除くRemove the human subjects' names\n",
    "X2=X.iloc[:,1:6]\n",
    "X3=pd.DataFrame(scale(X2),columns=X2.columns.values)\n",
    "\n",
    "N=len(X3)\n",
    "display(X3.head())"
   ]
  },
  {
   "cell_type": "code",
   "execution_count": 3,
   "metadata": {},
   "outputs": [
    {
     "data": {
      "text/html": [
       "<div>\n",
       "<style scoped>\n",
       "    .dataframe tbody tr th:only-of-type {\n",
       "        vertical-align: middle;\n",
       "    }\n",
       "\n",
       "    .dataframe tbody tr th {\n",
       "        vertical-align: top;\n",
       "    }\n",
       "\n",
       "    .dataframe thead th {\n",
       "        text-align: right;\n",
       "    }\n",
       "</style>\n",
       "<table border=\"1\" class=\"dataframe\">\n",
       "  <thead>\n",
       "    <tr style=\"text-align: right;\">\n",
       "      <th></th>\n",
       "      <th>Q1</th>\n",
       "      <th>Q2</th>\n",
       "      <th>Q3</th>\n",
       "      <th>Q4</th>\n",
       "      <th>Q5</th>\n",
       "    </tr>\n",
       "  </thead>\n",
       "  <tbody>\n",
       "    <tr>\n",
       "      <th>Q1</th>\n",
       "      <td>1.000000</td>\n",
       "      <td>0.305556</td>\n",
       "      <td>-0.418979</td>\n",
       "      <td>-0.097642</td>\n",
       "      <td>0.712636</td>\n",
       "    </tr>\n",
       "    <tr>\n",
       "      <th>Q2</th>\n",
       "      <td>0.305556</td>\n",
       "      <td>1.000000</td>\n",
       "      <td>-0.367884</td>\n",
       "      <td>0.499057</td>\n",
       "      <td>0.303075</td>\n",
       "    </tr>\n",
       "    <tr>\n",
       "      <th>Q3</th>\n",
       "      <td>-0.418979</td>\n",
       "      <td>-0.367884</td>\n",
       "      <td>1.000000</td>\n",
       "      <td>-0.043903</td>\n",
       "      <td>-0.578576</td>\n",
       "    </tr>\n",
       "    <tr>\n",
       "      <th>Q4</th>\n",
       "      <td>-0.097642</td>\n",
       "      <td>0.499057</td>\n",
       "      <td>-0.043903</td>\n",
       "      <td>1.000000</td>\n",
       "      <td>0.038391</td>\n",
       "    </tr>\n",
       "    <tr>\n",
       "      <th>Q5</th>\n",
       "      <td>0.712636</td>\n",
       "      <td>0.303075</td>\n",
       "      <td>-0.578576</td>\n",
       "      <td>0.038391</td>\n",
       "      <td>1.000000</td>\n",
       "    </tr>\n",
       "  </tbody>\n",
       "</table>\n",
       "</div>"
      ],
      "text/plain": [
       "          Q1        Q2        Q3        Q4        Q5\n",
       "Q1  1.000000  0.305556 -0.418979 -0.097642  0.712636\n",
       "Q2  0.305556  1.000000 -0.367884  0.499057  0.303075\n",
       "Q3 -0.418979 -0.367884  1.000000 -0.043903 -0.578576\n",
       "Q4 -0.097642  0.499057 -0.043903  1.000000  0.038391\n",
       "Q5  0.712636  0.303075 -0.578576  0.038391  1.000000"
      ]
     },
     "metadata": {},
     "output_type": "display_data"
    }
   ],
   "source": [
    "#Correlation matrix.\n",
    "df_corr = X2.corr()\n",
    "display(df_corr)"
   ]
  },
  {
   "cell_type": "code",
   "execution_count": 4,
   "metadata": {},
   "outputs": [
    {
     "name": "stdout",
     "output_type": "stream",
     "text": [
      "[2.40211562+0.j 1.36264334+0.j 0.21971049+0.j 0.58024829+0.j\n",
      " 0.43528227+0.j]\n"
     ]
    },
    {
     "name": "stderr",
     "output_type": "stream",
     "text": [
      "/var/folders/9w/3yz8r_755wj25rzzhbl7k03m0000gn/T/ipykernel_46203/3997970519.py:4: DeprecationWarning: scipy.array is deprecated and will be removed in SciPy 2.0.0, use numpy.array instead\n",
      "  df_corr_b = sp.array(df_corr)\n"
     ]
    }
   ],
   "source": [
    "#相関係数行列の固有値を調べる。\n",
    "import numpy.linalg as LA\n",
    "import scipy as sp\n",
    "df_corr_b = sp.array(df_corr)\n",
    "\n",
    "from scipy import linalg \n",
    "print(linalg.eigvals(df_corr_b))"
   ]
  },
  {
   "cell_type": "markdown",
   "metadata": {},
   "source": [
    "1より大きい固有値は2個のため、共通因子数2とする。"
   ]
  },
  {
   "cell_type": "code",
   "execution_count": 5,
   "metadata": {},
   "outputs": [
    {
     "data": {
      "text/html": [
       "<style>#sk-container-id-1 {color: black;background-color: white;}#sk-container-id-1 pre{padding: 0;}#sk-container-id-1 div.sk-toggleable {background-color: white;}#sk-container-id-1 label.sk-toggleable__label {cursor: pointer;display: block;width: 100%;margin-bottom: 0;padding: 0.3em;box-sizing: border-box;text-align: center;}#sk-container-id-1 label.sk-toggleable__label-arrow:before {content: \"▸\";float: left;margin-right: 0.25em;color: #696969;}#sk-container-id-1 label.sk-toggleable__label-arrow:hover:before {color: black;}#sk-container-id-1 div.sk-estimator:hover label.sk-toggleable__label-arrow:before {color: black;}#sk-container-id-1 div.sk-toggleable__content {max-height: 0;max-width: 0;overflow: hidden;text-align: left;background-color: #f0f8ff;}#sk-container-id-1 div.sk-toggleable__content pre {margin: 0.2em;color: black;border-radius: 0.25em;background-color: #f0f8ff;}#sk-container-id-1 input.sk-toggleable__control:checked~div.sk-toggleable__content {max-height: 200px;max-width: 100%;overflow: auto;}#sk-container-id-1 input.sk-toggleable__control:checked~label.sk-toggleable__label-arrow:before {content: \"▾\";}#sk-container-id-1 div.sk-estimator input.sk-toggleable__control:checked~label.sk-toggleable__label {background-color: #d4ebff;}#sk-container-id-1 div.sk-label input.sk-toggleable__control:checked~label.sk-toggleable__label {background-color: #d4ebff;}#sk-container-id-1 input.sk-hidden--visually {border: 0;clip: rect(1px 1px 1px 1px);clip: rect(1px, 1px, 1px, 1px);height: 1px;margin: -1px;overflow: hidden;padding: 0;position: absolute;width: 1px;}#sk-container-id-1 div.sk-estimator {font-family: monospace;background-color: #f0f8ff;border: 1px dotted black;border-radius: 0.25em;box-sizing: border-box;margin-bottom: 0.5em;}#sk-container-id-1 div.sk-estimator:hover {background-color: #d4ebff;}#sk-container-id-1 div.sk-parallel-item::after {content: \"\";width: 100%;border-bottom: 1px solid gray;flex-grow: 1;}#sk-container-id-1 div.sk-label:hover label.sk-toggleable__label {background-color: #d4ebff;}#sk-container-id-1 div.sk-serial::before {content: \"\";position: absolute;border-left: 1px solid gray;box-sizing: border-box;top: 0;bottom: 0;left: 50%;z-index: 0;}#sk-container-id-1 div.sk-serial {display: flex;flex-direction: column;align-items: center;background-color: white;padding-right: 0.2em;padding-left: 0.2em;position: relative;}#sk-container-id-1 div.sk-item {position: relative;z-index: 1;}#sk-container-id-1 div.sk-parallel {display: flex;align-items: stretch;justify-content: center;background-color: white;position: relative;}#sk-container-id-1 div.sk-item::before, #sk-container-id-1 div.sk-parallel-item::before {content: \"\";position: absolute;border-left: 1px solid gray;box-sizing: border-box;top: 0;bottom: 0;left: 50%;z-index: -1;}#sk-container-id-1 div.sk-parallel-item {display: flex;flex-direction: column;z-index: 1;position: relative;background-color: white;}#sk-container-id-1 div.sk-parallel-item:first-child::after {align-self: flex-end;width: 50%;}#sk-container-id-1 div.sk-parallel-item:last-child::after {align-self: flex-start;width: 50%;}#sk-container-id-1 div.sk-parallel-item:only-child::after {width: 0;}#sk-container-id-1 div.sk-dashed-wrapped {border: 1px dashed gray;margin: 0 0.4em 0.5em 0.4em;box-sizing: border-box;padding-bottom: 0.4em;background-color: white;}#sk-container-id-1 div.sk-label label {font-family: monospace;font-weight: bold;display: inline-block;line-height: 1.2em;}#sk-container-id-1 div.sk-label-container {text-align: center;}#sk-container-id-1 div.sk-container {/* jupyter's `normalize.less` sets `[hidden] { display: none; }` but bootstrap.min.css set `[hidden] { display: none !important; }` so we also need the `!important` here to be able to override the default hidden behavior on the sphinx rendered scikit-learn.org. See: https://github.com/scikit-learn/scikit-learn/issues/21755 */display: inline-block !important;position: relative;}#sk-container-id-1 div.sk-text-repr-fallback {display: none;}</style><div id=\"sk-container-id-1\" class=\"sk-top-container\"><div class=\"sk-text-repr-fallback\"><pre>FactorAnalyzer(method=&#x27;ml&#x27;, n_factors=2, rotation_kwargs={})</pre><b>In a Jupyter environment, please rerun this cell to show the HTML representation or trust the notebook. <br />On GitHub, the HTML representation is unable to render, please try loading this page with nbviewer.org.</b></div><div class=\"sk-container\" hidden><div class=\"sk-item\"><div class=\"sk-estimator sk-toggleable\"><input class=\"sk-toggleable__control sk-hidden--visually\" id=\"sk-estimator-id-1\" type=\"checkbox\" checked><label for=\"sk-estimator-id-1\" class=\"sk-toggleable__label sk-toggleable__label-arrow\">FactorAnalyzer</label><div class=\"sk-toggleable__content\"><pre>FactorAnalyzer(method=&#x27;ml&#x27;, n_factors=2, rotation_kwargs={})</pre></div></div></div></div></div>"
      ],
      "text/plain": [
       "FactorAnalyzer(method='ml', n_factors=2, rotation_kwargs={})"
      ]
     },
     "execution_count": 5,
     "metadata": {},
     "output_type": "execute_result"
    }
   ],
   "source": [
    "fa = FactorAnalyzer(n_factors=2,rotation='promax',method='ml')\n",
    "fa.fit(X3)"
   ]
  },
  {
   "cell_type": "code",
   "execution_count": 6,
   "metadata": {},
   "outputs": [
    {
     "name": "stdout",
     "output_type": "stream",
     "text": [
      "0    2.402116\n",
      "1    1.362643\n",
      "2    0.580248\n",
      "3    0.435282\n",
      "4    0.219710\n",
      "dtype: float64\n",
      "0    2.129608\n",
      "1    0.979950\n",
      "2    0.128675\n",
      "3    0.006680\n",
      "4   -0.125696\n",
      "dtype: float64\n"
     ]
    }
   ],
   "source": [
    "eigen_org, eigen_cf = fa.get_eigenvalues()\n",
    "ser_eigen_org = pd.Series(eigen_org)\n",
    "ser_eigen_cf = pd.Series(eigen_cf)\n",
    "print(ser_eigen_org)\n",
    "print(ser_eigen_cf)"
   ]
  },
  {
   "cell_type": "code",
   "execution_count": 7,
   "metadata": {},
   "outputs": [
    {
     "name": "stderr",
     "output_type": "stream",
     "text": [
      "findfont: Font family 'Yu Mincho' not found.\n",
      "findfont: Font family 'Yu Mincho' not found.\n",
      "findfont: Font family 'Yu Mincho' not found.\n",
      "findfont: Font family 'Yu Mincho' not found.\n",
      "findfont: Font family 'Yu Mincho' not found.\n",
      "findfont: Font family 'Yu Mincho' not found.\n",
      "findfont: Font family 'Yu Mincho' not found.\n",
      "findfont: Font family 'Yu Mincho' not found.\n",
      "findfont: Font family 'Yu Mincho' not found.\n",
      "findfont: Font family 'Yu Mincho' not found.\n",
      "findfont: Font family 'Yu Mincho' not found.\n",
      "findfont: Font family 'Yu Mincho' not found.\n",
      "findfont: Font family 'Yu Mincho' not found.\n",
      "findfont: Font family 'Yu Mincho' not found.\n",
      "findfont: Font family 'Yu Mincho' not found.\n",
      "findfont: Font family 'Yu Mincho' not found.\n",
      "findfont: Font family 'Yu Mincho' not found.\n",
      "findfont: Font family 'Yu Mincho' not found.\n",
      "findfont: Font family 'Yu Mincho' not found.\n",
      "findfont: Font family 'Yu Mincho' not found.\n",
      "findfont: Font family 'Yu Mincho' not found.\n",
      "findfont: Font family 'Yu Mincho' not found.\n",
      "findfont: Font family 'Yu Mincho' not found.\n",
      "findfont: Font family 'Yu Mincho' not found.\n",
      "findfont: Font family 'Yu Mincho' not found.\n",
      "findfont: Font family 'Yu Mincho' not found.\n",
      "findfont: Font family 'Yu Mincho' not found.\n",
      "findfont: Font family 'Yu Mincho' not found.\n",
      "findfont: Font family 'Yu Mincho' not found.\n",
      "findfont: Font family 'Yu Mincho' not found.\n",
      "findfont: Font family 'Yu Mincho' not found.\n",
      "findfont: Font family 'Yu Mincho' not found.\n",
      "findfont: Font family 'Yu Mincho' not found.\n",
      "findfont: Font family 'Yu Mincho' not found.\n",
      "findfont: Font family 'Yu Mincho' not found.\n",
      "findfont: Font family 'Yu Mincho' not found.\n",
      "findfont: Font family 'Yu Mincho' not found.\n",
      "findfont: Font family 'Yu Mincho' not found.\n",
      "findfont: Font family 'Yu Mincho' not found.\n",
      "findfont: Font family 'Yu Mincho' not found.\n",
      "findfont: Font family 'Yu Mincho' not found.\n",
      "findfont: Font family 'Yu Mincho' not found.\n"
     ]
    },
    {
     "data": {
      "image/png": "[encoded data removed]",
      "text/plain": [
       "<Figure size 640x480 with 1 Axes>"
      ]
     },
     "metadata": {},
     "output_type": "display_data"
    }
   ],
   "source": [
    "#スクリープロットも念のため描画します。既に計算した固有値の分布と一致。\n",
    "x = np.array(range(len(ser_eigen_org)))+1\n",
    "plt.plot(x, ser_eigen_org, marker='o')\n",
    "plt.xlabel('Eigenvalue No.')\n",
    "plt.ylabel('Eigenvalue')\n",
    "plt.show()"
   ]
  },
  {
   "cell_type": "code",
   "execution_count": 8,
   "metadata": {},
   "outputs": [
    {
     "data": {
      "text/html": [
       "<div>\n",
       "<style scoped>\n",
       "    .dataframe tbody tr th:only-of-type {\n",
       "        vertical-align: middle;\n",
       "    }\n",
       "\n",
       "    .dataframe tbody tr th {\n",
       "        vertical-align: top;\n",
       "    }\n",
       "\n",
       "    .dataframe thead th {\n",
       "        text-align: right;\n",
       "    }\n",
       "</style>\n",
       "<table border=\"1\" class=\"dataframe\">\n",
       "  <thead>\n",
       "    <tr style=\"text-align: right;\">\n",
       "      <th></th>\n",
       "      <th>Factor1</th>\n",
       "      <th>Factor2</th>\n",
       "    </tr>\n",
       "  </thead>\n",
       "  <tbody>\n",
       "    <tr>\n",
       "      <th>Q1</th>\n",
       "      <td>0.759347</td>\n",
       "      <td>-0.026778</td>\n",
       "    </tr>\n",
       "    <tr>\n",
       "      <th>Q2</th>\n",
       "      <td>0.162503</td>\n",
       "      <td>0.937870</td>\n",
       "    </tr>\n",
       "    <tr>\n",
       "      <th>Q3</th>\n",
       "      <td>-0.587813</td>\n",
       "      <td>-0.112795</td>\n",
       "    </tr>\n",
       "    <tr>\n",
       "      <th>Q4</th>\n",
       "      <td>-0.082231</td>\n",
       "      <td>0.542689</td>\n",
       "    </tr>\n",
       "    <tr>\n",
       "      <th>Q5</th>\n",
       "      <td>0.980012</td>\n",
       "      <td>-0.126264</td>\n",
       "    </tr>\n",
       "  </tbody>\n",
       "</table>\n",
       "</div>"
      ],
      "text/plain": [
       "     Factor1   Factor2\n",
       "Q1  0.759347 -0.026778\n",
       "Q2  0.162503  0.937870\n",
       "Q3 -0.587813 -0.112795\n",
       "Q4 -0.082231  0.542689\n",
       "Q5  0.980012 -0.126264"
      ]
     },
     "metadata": {},
     "output_type": "display_data"
    }
   ],
   "source": [
    "#因子負荷量。Factor loadings\n",
    "loadings = fa.loadings_\n",
    "df_loadings = pd.DataFrame(loadings, index=X3.columns,\n",
    "                           columns=['Factor1','Factor2'])\n",
    "display(df_loadings) #因子負荷量行列：Loading matrix"
   ]
  },
  {
   "cell_type": "markdown",
   "metadata": {},
   "source": [
    "# 因子得点 Factor scores"
   ]
  },
  {
   "cell_type": "code",
   "execution_count": 9,
   "metadata": {},
   "outputs": [
    {
     "name": "stdout",
     "output_type": "stream",
     "text": [
      "(15, 2)\n"
     ]
    },
    {
     "data": {
      "text/html": [
       "<div>\n",
       "<style scoped>\n",
       "    .dataframe tbody tr th:only-of-type {\n",
       "        vertical-align: middle;\n",
       "    }\n",
       "\n",
       "    .dataframe tbody tr th {\n",
       "        vertical-align: top;\n",
       "    }\n",
       "\n",
       "    .dataframe thead th {\n",
       "        text-align: right;\n",
       "    }\n",
       "</style>\n",
       "<table border=\"1\" class=\"dataframe\">\n",
       "  <thead>\n",
       "    <tr style=\"text-align: right;\">\n",
       "      <th></th>\n",
       "      <th>Factor1</th>\n",
       "      <th>Factor2</th>\n",
       "    </tr>\n",
       "  </thead>\n",
       "  <tbody>\n",
       "    <tr>\n",
       "      <th>0</th>\n",
       "      <td>0.711675</td>\n",
       "      <td>-1.037176</td>\n",
       "    </tr>\n",
       "    <tr>\n",
       "      <th>1</th>\n",
       "      <td>-1.377152</td>\n",
       "      <td>0.833534</td>\n",
       "    </tr>\n",
       "    <tr>\n",
       "      <th>2</th>\n",
       "      <td>-1.005986</td>\n",
       "      <td>-1.330013</td>\n",
       "    </tr>\n",
       "    <tr>\n",
       "      <th>3</th>\n",
       "      <td>-0.481471</td>\n",
       "      <td>0.741192</td>\n",
       "    </tr>\n",
       "    <tr>\n",
       "      <th>4</th>\n",
       "      <td>-1.055283</td>\n",
       "      <td>-1.080977</td>\n",
       "    </tr>\n",
       "  </tbody>\n",
       "</table>\n",
       "</div>"
      ],
      "text/plain": [
       "    Factor1   Factor2\n",
       "0  0.711675 -1.037176\n",
       "1 -1.377152  0.833534\n",
       "2 -1.005986 -1.330013\n",
       "3 -0.481471  0.741192\n",
       "4 -1.055283 -1.080977"
      ]
     },
     "metadata": {},
     "output_type": "display_data"
    }
   ],
   "source": [
    "#因子得点。factor scores.\n",
    "scores = fa.transform(X3)\n",
    "df_scores = pd.DataFrame(scores, columns=['Factor1','Factor2'])\n",
    "print(df_scores.shape)\n",
    "display(df_scores.head())"
   ]
  },
  {
   "cell_type": "markdown",
   "metadata": {},
   "source": [
    "# Uniquenesses (独自因子の割合)"
   ]
  },
  {
   "cell_type": "code",
   "execution_count": 10,
   "metadata": {},
   "outputs": [
    {
     "name": "stdout",
     "output_type": "stream",
     "text": [
      "Q1    0.422675\n",
      "Q2    0.093993\n",
      "Q3    0.641754\n",
      "Q4    0.698727\n",
      "Q5    0.023635\n",
      "dtype: float64\n"
     ]
    }
   ],
   "source": [
    "#独自因子。uniqueness.\n",
    "uniqueness = fa.get_uniquenesses()\n",
    "ser_uniqueness = pd.Series(uniqueness, index=X3.columns)\n",
    "print(ser_uniqueness)"
   ]
  },
  {
   "cell_type": "code",
   "execution_count": 11,
   "metadata": {},
   "outputs": [
    {
     "data": {
      "text/html": [
       "<div>\n",
       "<style scoped>\n",
       "    .dataframe tbody tr th:only-of-type {\n",
       "        vertical-align: middle;\n",
       "    }\n",
       "\n",
       "    .dataframe tbody tr th {\n",
       "        vertical-align: top;\n",
       "    }\n",
       "\n",
       "    .dataframe thead th {\n",
       "        text-align: right;\n",
       "    }\n",
       "</style>\n",
       "<table border=\"1\" class=\"dataframe\">\n",
       "  <thead>\n",
       "    <tr style=\"text-align: right;\">\n",
       "      <th></th>\n",
       "      <th>Factor1</th>\n",
       "      <th>Factor2</th>\n",
       "    </tr>\n",
       "  </thead>\n",
       "  <tbody>\n",
       "    <tr>\n",
       "      <th>var</th>\n",
       "      <td>1.915723</td>\n",
       "      <td>1.203493</td>\n",
       "    </tr>\n",
       "    <tr>\n",
       "      <th>prop_var</th>\n",
       "      <td>0.383145</td>\n",
       "      <td>0.240699</td>\n",
       "    </tr>\n",
       "    <tr>\n",
       "      <th>cum_var</th>\n",
       "      <td>0.383145</td>\n",
       "      <td>0.623843</td>\n",
       "    </tr>\n",
       "  </tbody>\n",
       "</table>\n",
       "</div>"
      ],
      "text/plain": [
       "           Factor1   Factor2\n",
       "var       1.915723  1.203493\n",
       "prop_var  0.383145  0.240699\n",
       "cum_var   0.383145  0.623843"
      ]
     },
     "metadata": {},
     "output_type": "display_data"
    }
   ],
   "source": [
    "#Cell_10.\n",
    "#寄与率.このモデルでどの程度まで説明できているか。\n",
    "fa_var = fa.get_factor_variance()\n",
    "df_fa_var = pd.DataFrame(fa_var,\n",
    "                         index=['var', 'prop_var', 'cum_var'],\n",
    "                         columns=['Factor1', 'Factor2'])\n",
    "display(df_fa_var)"
   ]
  },
  {
   "cell_type": "code",
   "execution_count": 12,
   "metadata": {},
   "outputs": [],
   "source": [
    "#Cell_11.\n",
    "def biplot_fa(score_2d, loadings, load_labels=None):\n",
    "    plt.figure(figsize=(10,10))\n",
    "    r1 = 1\n",
    "    r2 = 1\n",
    "    if load_labels is None:\n",
    "        load_labels = range(len(loadings))\n",
    "    for i, coef in enumerate(loadings):\n",
    "        plt.arrow(0, 0, coef[0]*r1, coef[1]*r1, color='r')    \n",
    "        plt.text(coef[0]*r1*r2, coef[1]*r1*r2, load_labels[i],\n",
    "                 color='b', fontsize=20)\n",
    "    for i in range(len(score_2d)):\n",
    "        m = '${}$'.format(i)\n",
    "        plt.scatter(score_2d[i,0], score_2d[i,1], marker=m, s=500, c='k')\n",
    "    plt.xlabel('F_1')\n",
    "    plt.ylabel('F_2')\n",
    "    plt.grid()\n",
    "    return None"
   ]
  },
  {
   "cell_type": "code",
   "execution_count": 13,
   "metadata": {},
   "outputs": [
    {
     "name": "stderr",
     "output_type": "stream",
     "text": [
      "findfont: Font family ['Yu Mincho'] not found. Falling back to DejaVu Sans.\n",
      "findfont: Font family 'Yu Mincho' not found.\n",
      "findfont: Font family 'Yu Mincho' not found.\n",
      "findfont: Font family 'Yu Mincho' not found.\n",
      "findfont: Font family 'Yu Mincho' not found.\n",
      "findfont: Font family 'Yu Mincho' not found.\n",
      "findfont: Font family 'Yu Mincho' not found.\n",
      "findfont: Font family 'Yu Mincho' not found.\n",
      "findfont: Font family 'Yu Mincho' not found.\n",
      "findfont: Font family 'Yu Mincho' not found.\n",
      "findfont: Font family 'Yu Mincho' not found.\n",
      "findfont: Font family 'Yu Mincho' not found.\n",
      "findfont: Font family 'Yu Mincho' not found.\n",
      "findfont: Font family 'Yu Mincho' not found.\n",
      "findfont: Font family 'Yu Mincho' not found.\n",
      "findfont: Font family 'Yu Mincho' not found.\n",
      "findfont: Font family 'Yu Mincho' not found.\n",
      "findfont: Font family 'Yu Mincho' not found.\n",
      "findfont: Font family 'Yu Mincho' not found.\n",
      "findfont: Font family 'Yu Mincho' not found.\n",
      "findfont: Font family 'Yu Mincho' not found.\n",
      "findfont: Font family 'Yu Mincho' not found.\n",
      "findfont: Font family 'Yu Mincho' not found.\n",
      "findfont: Font family 'Yu Mincho' not found.\n",
      "findfont: Font family 'Yu Mincho' not found.\n",
      "findfont: Font family 'Yu Mincho' not found.\n",
      "findfont: Font family 'Yu Mincho' not found.\n",
      "findfont: Font family 'Yu Mincho' not found.\n",
      "findfont: Font family 'Yu Mincho' not found.\n",
      "findfont: Font family 'Yu Mincho' not found.\n",
      "findfont: Font family 'Yu Mincho' not found.\n",
      "findfont: Font family 'Yu Mincho' not found.\n",
      "findfont: Font family 'Yu Mincho' not found.\n",
      "findfont: Font family 'Yu Mincho' not found.\n",
      "findfont: Font family 'Yu Mincho' not found.\n",
      "findfont: Font family 'Yu Mincho' not found.\n",
      "findfont: Font family 'Yu Mincho' not found.\n",
      "findfont: Font family 'Yu Mincho' not found.\n",
      "findfont: Font family 'Yu Mincho' not found.\n",
      "findfont: Font family 'Yu Mincho' not found.\n",
      "findfont: Font family 'Yu Mincho' not found.\n",
      "findfont: Font family 'Yu Mincho' not found.\n",
      "findfont: Font family 'Yu Mincho' not found.\n",
      "findfont: Font family 'Yu Mincho' not found.\n",
      "findfont: Font family 'Yu Mincho' not found.\n",
      "findfont: Font family 'Yu Mincho' not found.\n",
      "findfont: Font family 'Yu Mincho' not found.\n",
      "findfont: Font family 'Yu Mincho' not found.\n",
      "findfont: Font family 'Yu Mincho' not found.\n",
      "findfont: Font family 'Yu Mincho' not found.\n",
      "findfont: Font family 'Yu Mincho' not found.\n",
      "findfont: Font family 'Yu Mincho' not found.\n",
      "findfont: Font family 'Yu Mincho' not found.\n",
      "findfont: Font family 'Yu Mincho' not found.\n",
      "findfont: Font family 'Yu Mincho' not found.\n",
      "findfont: Font family 'Yu Mincho' not found.\n",
      "findfont: Font family 'Yu Mincho' not found.\n",
      "findfont: Font family 'Yu Mincho' not found.\n",
      "findfont: Font family 'Yu Mincho' not found.\n",
      "findfont: Font family 'Yu Mincho' not found.\n",
      "findfont: Font family 'Yu Mincho' not found.\n",
      "findfont: Font family 'Yu Mincho' not found.\n",
      "findfont: Font family 'Yu Mincho' not found.\n",
      "findfont: Font family 'Yu Mincho' not found.\n",
      "findfont: Font family 'Yu Mincho' not found.\n",
      "findfont: Font family 'Yu Mincho' not found.\n",
      "findfont: Font family 'Yu Mincho' not found.\n"
     ]
    },
    {
     "data": {
      "image/png": "[encoded data removed]",
      "text/plain": [
       "<Figure size 1000x1000 with 1 Axes>"
      ]
     },
     "metadata": {},
     "output_type": "display_data"
    }
   ],
   "source": [
    "#Cell_12.\n",
    "#バイプロット。biplot.\n",
    "biplot_fa(scores, loadings, load_labels=X3.columns)"
   ]
  }
 ],
 "metadata": {
  "kernelspec": {
   "display_name": "Python 3 (ipykernel)",
   "language": "python",
   "name": "python3"
  },
  "language_info": {
   "codemirror_mode": {
    "name": "ipython",
    "version": 3
   },
   "file_extension": ".py",
   "mimetype": "text/x-python",
   "name": "python",
   "nbconvert_exporter": "python",
   "pygments_lexer": "ipython3",
   "version": "3.8.16"
  }
 },
 "nbformat": 4,
 "nbformat_minor": 4
}
