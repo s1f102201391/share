{
 "cells": [
  {
   "cell_type": "code",
   "execution_count": 1,
   "id": "456964f6-1314-4b9c-95bd-6a4f4b7cb111",
   "metadata": {},
   "outputs": [],
   "source": [
    "import matplotlib.pyplot as plt\n",
    "import numpy as np\n",
    "from mpl_toolkits.mplot3d import axes3d\n",
    "from sklearn import datasets\n",
    "from sklearn.decomposition import PCA\n",
    "from sklearn.manifold import MDS, LocallyLinearEmbedding, Isomap, TSNE\n",
    "from sklearn.preprocessing import StandardScaler\n",
    "from mpl_toolkits.mplot3d import Axes3D\n",
    "from sklearn.datasets import make_swiss_roll\n",
    "from time import time"
   ]
  },
  {
   "cell_type": "code",
   "execution_count": 2,
   "id": "7cc18e09-e646-4789-8321-6f9588fb0424",
   "metadata": {},
   "outputs": [],
   "source": [
    "n_points = 1200\n",
    "n_neighbors = 10\n",
    "n_components = 2"
   ]
  },
  {
   "cell_type": "code",
   "execution_count": 3,
   "id": "953c510a-6a0a-4bcf-9c52-7abdecebba7a",
   "metadata": {},
   "outputs": [],
   "source": [
    "X_org, color = make_swiss_roll(n_samples=n_points, random_state=0)"
   ]
  },
  {
   "cell_type": "code",
   "execution_count": 4,
   "id": "a7ce810b-d3f0-4d65-942e-b2077ec898fa",
   "metadata": {},
   "outputs": [],
   "source": [
    "sc = StandardScaler()\n",
    "X = sc.fit_transform(X_org) "
   ]
  },
  {
   "cell_type": "code",
   "execution_count": null,
   "id": "4e763abd-9aff-495a-9ae4-6eac0df2f9b5",
   "metadata": {},
   "outputs": [
    {
     "name": "stdout",
     "output_type": "stream",
     "text": [
      "PCA ...\n",
      "MDS ...\n"
     ]
    },
    {
     "name": "stderr",
     "output_type": "stream",
     "text": [
      "/Users/hal/miniconda3/envs/ds2023/lib/python3.8/site-packages/sklearn/manifold/_mds.py:299: FutureWarning: The default value of `normalized_stress` will change to `'auto'` in version 1.4. To suppress this warning, manually set the value of `normalized_stress`.\n",
      "  warnings.warn(\n"
     ]
    }
   ],
   "source": [
    "fig = plt.figure(figsize=(15, 15))\n",
    "title = 'Manifold Learning'\n",
    "title += ' with {} points,'.format(n_points)\n",
    "title += ' {} neighbors'.format(n_neighbors)\n",
    "plt.suptitle(title, fontsize=14)\n",
    "\n",
    "# 3D s_curve\n",
    "ax = fig.add_subplot(2,3,1, projection='3d')\n",
    "ax.scatter(X[:, 0], X[:, 1], X[:, 2], c=color, cmap=plt.cm.jet)\n",
    "ax.view_init(4, -72)\n",
    "\n",
    "# PCA\n",
    "print('PCA ...')\n",
    "t0 = time()\n",
    "Y = PCA(n_components=n_components).fit_transform(X)\n",
    "t1 = time()\n",
    "ax = fig.add_subplot(2,3,2)\n",
    "plt.scatter(Y[:, 0], Y[:, 1], c=color, cmap=plt.cm.jet)\n",
    "plt.title(\"PCA: {:.2f} sec\".format(t1-t0))\n",
    "\n",
    "# MDS\n",
    "print('MDS ...')\n",
    "t0 = time()\n",
    "Y = MDS(n_components=n_components, random_state=0).fit_transform(X)\n",
    "t1 = time()\n",
    "ax = fig.add_subplot(2,3,3)\n",
    "plt.scatter(Y[:, 0], Y[:, 1], c=color, cmap=plt.cm.jet)\n",
    "plt.title(\"MDS: {:.2f} sec\".format(t1-t0))\n",
    "\n",
    "# Isomap\n",
    "print('Isomap ...')\n",
    "t0 = time()\n",
    "Y = Isomap(n_neighbors=n_neighbors, n_components=n_components).fit_transform(X)\n",
    "t1 = time()\n",
    "ax = fig.add_subplot(2,3,4)\n",
    "plt.scatter(Y[:, 0], Y[:, 1], c=color, cmap=plt.cm.jet)\n",
    "plt.title(\"Isomap: {:.2f} sec\".format(t1-t0))\n",
    "\n",
    "# LLE\n",
    "print('LLE ...')\n",
    "t0 = time()\n",
    "Y = LocallyLinearEmbedding(n_neighbors=n_neighbors,\n",
    "                           n_components=n_components,\n",
    "                           eigen_solver='auto',\n",
    "                           method='standard',\n",
    "                           random_state=0).fit_transform(X)\n",
    "t1 = time()\n",
    "ax = fig.add_subplot(2,3,5)\n",
    "plt.scatter(Y[:, 0], Y[:, 1], c=color, cmap=plt.cm.jet)\n",
    "plt.title(\"standard LLE: {:.2f} sec\".format(t1-t0))\n",
    "\n",
    "# t-SNE\n",
    "print('t-SNE ...')\n",
    "t0 = time()\n",
    "Y = TSNE(n_components=n_components,\n",
    "         perplexity=30, n_iter=1000,\n",
    "         random_state=0).fit_transform(X)\n",
    "t1 = time()\n",
    "ax = fig.add_subplot(2,3,6)\n",
    "plt.scatter(Y[:, 0], Y[:, 1], c=color, cmap=plt.cm.jet)\n",
    "plt.title(\"t-SNE: {:.2f} sec\".format(t1-t0))\n",
    "\n",
    "plt.show()"
   ]
  }
 ],
 "metadata": {
  "kernelspec": {
   "display_name": "Python 3 (ipykernel)",
   "language": "python",
   "name": "python3"
  },
  "language_info": {
   "codemirror_mode": {
    "name": "ipython",
    "version": 3
   },
   "file_extension": ".py",
   "mimetype": "text/x-python",
   "name": "python",
   "nbconvert_exporter": "python",
   "pygments_lexer": "ipython3",
   "version": "3.8.16"
  }
 },
 "nbformat": 4,
 "nbformat_minor": 5
}
