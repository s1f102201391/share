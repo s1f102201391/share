{
 "cells": [
  {
   "cell_type": "code",
   "execution_count": 2,
   "id": "d4704eda-31b7-4f24-87c6-33ec1b6d61d3",
   "metadata": {},
   "outputs": [],
   "source": [
    "import numpy as np\n",
    "import pandas as pd\n",
    "import matplotlib.pyplot as plt\n",
    "import seaborn as sns\n",
    "import statsmodels.api as sm\n",
    "import statsmodels.formula.api as smf\n",
    "from sklearn.preprocessing import scale\n",
    "from sklearn.metrics import mean_squared_error\n",
    "import re"
   ]
  },
  {
   "cell_type": "code",
   "execution_count": 3,
   "id": "4f65e03f-f851-4354-8b0b-d65b13c3c048",
   "metadata": {},
   "outputs": [],
   "source": [
    "pd.options.display.max_rows = 999\n",
    "pd.options.display.max_columns = 999"
   ]
  },
  {
   "cell_type": "code",
   "execution_count": 4,
   "id": "7dffbb97-e8fb-49b8-a0c1-23b681fe86e5",
   "metadata": {},
   "outputs": [
    {
     "name": "stdout",
     "output_type": "stream",
     "text": [
      "(15, 3)\n",
      "<class 'pandas.core.frame.DataFrame'>\n",
      "RangeIndex: 15 entries, 0 to 14\n",
      "Data columns (total 3 columns):\n",
      " #   Column  Non-Null Count  Dtype\n",
      "---  ------  --------------  -----\n",
      " 0   TIME    15 non-null     int64\n",
      " 1   PUBS    15 non-null     int64\n",
      " 2   SALARY  15 non-null     int64\n",
      "dtypes: int64(3)\n",
      "memory usage: 488.0 bytes\n",
      "None\n"
     ]
    },
    {
     "data": {
      "text/html": [
       "<div>\n",
       "<style scoped>\n",
       "    .dataframe tbody tr th:only-of-type {\n",
       "        vertical-align: middle;\n",
       "    }\n",
       "\n",
       "    .dataframe tbody tr th {\n",
       "        vertical-align: top;\n",
       "    }\n",
       "\n",
       "    .dataframe thead th {\n",
       "        text-align: right;\n",
       "    }\n",
       "</style>\n",
       "<table border=\"1\" class=\"dataframe\">\n",
       "  <thead>\n",
       "    <tr style=\"text-align: right;\">\n",
       "      <th></th>\n",
       "      <th>TIME</th>\n",
       "      <th>PUBS</th>\n",
       "      <th>SALARY</th>\n",
       "    </tr>\n",
       "  </thead>\n",
       "  <tbody>\n",
       "    <tr>\n",
       "      <th>0</th>\n",
       "      <td>3</td>\n",
       "      <td>18</td>\n",
       "      <td>51876</td>\n",
       "    </tr>\n",
       "    <tr>\n",
       "      <th>1</th>\n",
       "      <td>6</td>\n",
       "      <td>3</td>\n",
       "      <td>54511</td>\n",
       "    </tr>\n",
       "    <tr>\n",
       "      <th>2</th>\n",
       "      <td>3</td>\n",
       "      <td>2</td>\n",
       "      <td>53425</td>\n",
       "    </tr>\n",
       "    <tr>\n",
       "      <th>3</th>\n",
       "      <td>8</td>\n",
       "      <td>17</td>\n",
       "      <td>61863</td>\n",
       "    </tr>\n",
       "    <tr>\n",
       "      <th>4</th>\n",
       "      <td>9</td>\n",
       "      <td>11</td>\n",
       "      <td>52926</td>\n",
       "    </tr>\n",
       "  </tbody>\n",
       "</table>\n",
       "</div>"
      ],
      "text/plain": [
       "   TIME  PUBS  SALARY\n",
       "0     3    18   51876\n",
       "1     6     3   54511\n",
       "2     3     2   53425\n",
       "3     8    17   61863\n",
       "4     9    11   52926"
      ]
     },
     "metadata": {},
     "output_type": "display_data"
    }
   ],
   "source": [
    "csv_in = 'salary_1.csv'\n",
    "df = pd.read_csv(csv_in, sep=',')\n",
    "print(df.shape)\n",
    "print(df.info())\n",
    "display(df.head())"
   ]
  },
  {
   "cell_type": "code",
   "execution_count": 5,
   "id": "10a5ade5-7ca5-4b07-9a55-46c1071b35c4",
   "metadata": {},
   "outputs": [
    {
     "name": "stdout",
     "output_type": "stream",
     "text": [
      "X: (15, 2)\n"
     ]
    },
    {
     "data": {
      "text/html": [
       "<div>\n",
       "<style scoped>\n",
       "    .dataframe tbody tr th:only-of-type {\n",
       "        vertical-align: middle;\n",
       "    }\n",
       "\n",
       "    .dataframe tbody tr th {\n",
       "        vertical-align: top;\n",
       "    }\n",
       "\n",
       "    .dataframe thead th {\n",
       "        text-align: right;\n",
       "    }\n",
       "</style>\n",
       "<table border=\"1\" class=\"dataframe\">\n",
       "  <thead>\n",
       "    <tr style=\"text-align: right;\">\n",
       "      <th></th>\n",
       "      <th>TIME</th>\n",
       "      <th>PUBS</th>\n",
       "    </tr>\n",
       "  </thead>\n",
       "  <tbody>\n",
       "    <tr>\n",
       "      <th>0</th>\n",
       "      <td>3</td>\n",
       "      <td>18</td>\n",
       "    </tr>\n",
       "    <tr>\n",
       "      <th>1</th>\n",
       "      <td>6</td>\n",
       "      <td>3</td>\n",
       "    </tr>\n",
       "    <tr>\n",
       "      <th>2</th>\n",
       "      <td>3</td>\n",
       "      <td>2</td>\n",
       "    </tr>\n",
       "    <tr>\n",
       "      <th>3</th>\n",
       "      <td>8</td>\n",
       "      <td>17</td>\n",
       "    </tr>\n",
       "    <tr>\n",
       "      <th>4</th>\n",
       "      <td>9</td>\n",
       "      <td>11</td>\n",
       "    </tr>\n",
       "  </tbody>\n",
       "</table>\n",
       "</div>"
      ],
      "text/plain": [
       "   TIME  PUBS\n",
       "0     3    18\n",
       "1     6     3\n",
       "2     3     2\n",
       "3     8    17\n",
       "4     9    11"
      ]
     },
     "metadata": {},
     "output_type": "display_data"
    },
    {
     "name": "stdout",
     "output_type": "stream",
     "text": [
      "y: (15,)\n",
      "0    51876\n",
      "1    54511\n",
      "2    53425\n",
      "3    61863\n",
      "4    52926\n",
      "Name: SALARY, dtype: int64\n"
     ]
    }
   ],
   "source": [
    "X = df.drop(columns='SALARY')  #説明変数, 2D\n",
    "y = df['SALARY']  #目的変数, 1D\n",
    "print('X:', X.shape)\n",
    "display(X.head())\n",
    "print('y:', y.shape)\n",
    "print(y.head())"
   ]
  },
  {
   "cell_type": "code",
   "execution_count": 6,
   "id": "60627bd7-f26a-450d-8489-02f60741ab90",
   "metadata": {},
   "outputs": [],
   "source": [
    "#標準化\n",
    "X_scaled_ar = scale(X)\n",
    "y_scaled_ar = scale(y)"
   ]
  },
  {
   "cell_type": "code",
   "execution_count": 7,
   "id": "3e05d2fb-dab5-4265-b14a-5abfd9c367c1",
   "metadata": {},
   "outputs": [
    {
     "name": "stdout",
     "output_type": "stream",
     "text": [
      "                                 OLS Regression Results                                \n",
      "=======================================================================================\n",
      "Dep. Variable:                 SALARY   R-squared (uncentered):                   0.530\n",
      "Model:                            OLS   Adj. R-squared (uncentered):              0.458\n",
      "Method:                 Least Squares   F-statistic:                              7.345\n",
      "Date:                Thu, 05 Oct 2023   Prob (F-statistic):                     0.00734\n",
      "Time:                        02:23:39   Log-Likelihood:                         -15.613\n",
      "No. Observations:                  15   AIC:                                      35.23\n",
      "Df Residuals:                      13   BIC:                                      36.64\n",
      "Df Model:                           2                                                  \n",
      "Covariance Type:            nonrobust                                                  \n",
      "==============================================================================\n",
      "                 coef    std err          t      P>|t|      [0.025      0.975]\n",
      "------------------------------------------------------------------------------\n",
      "TIME           0.5702      0.252      2.263      0.041       0.026       1.115\n",
      "PUBS           0.2134      0.252      0.847      0.412      -0.331       0.758\n",
      "==============================================================================\n",
      "Omnibus:                        0.781   Durbin-Watson:                   1.207\n",
      "Prob(Omnibus):                  0.677   Jarque-Bera (JB):                0.307\n",
      "Skew:                          -0.345   Prob(JB):                        0.858\n",
      "Kurtosis:                       2.874   Cond. No.                         2.20\n",
      "==============================================================================\n",
      "\n",
      "Notes:\n",
      "[1] R² is computed without centering (uncentered) since the model does not contain a constant.\n",
      "[2] Standard Errors assume that the covariance matrix of the errors is correctly specified.\n"
     ]
    },
    {
     "name": "stderr",
     "output_type": "stream",
     "text": [
      "C:\\Users\\iniad\\miniconda3\\envs\\ds2023\\lib\\site-packages\\scipy\\stats\\stats.py:1541: UserWarning: kurtosistest only valid for n>=20 ... continuing anyway, n=15\n",
      "  warnings.warn(\"kurtosistest only valid for n>=20 ... continuing \"\n"
     ]
    }
   ],
   "source": [
    "X_scaled = pd.DataFrame(X_scaled_ar, columns=X.columns)\n",
    "y_scaled = pd.Series(y_scaled_ar, name=y.name)\n",
    "model = sm.OLS(y_scaled, X_scaled)\n",
    "results_scaled = model.fit()\n",
    "print(results_scaled.summary())"
   ]
  },
  {
   "cell_type": "code",
   "execution_count": 8,
   "id": "d3392ab6-8bcb-43c3-8c5e-6a53fc85c8cf",
   "metadata": {},
   "outputs": [
    {
     "data": {
      "text/html": [
       "<div>\n",
       "<style scoped>\n",
       "    .dataframe tbody tr th:only-of-type {\n",
       "        vertical-align: middle;\n",
       "    }\n",
       "\n",
       "    .dataframe tbody tr th {\n",
       "        vertical-align: top;\n",
       "    }\n",
       "\n",
       "    .dataframe thead th {\n",
       "        text-align: right;\n",
       "    }\n",
       "</style>\n",
       "<table border=\"1\" class=\"dataframe\">\n",
       "  <thead>\n",
       "    <tr style=\"text-align: right;\">\n",
       "      <th></th>\n",
       "      <th>TIME</th>\n",
       "      <th>PUBS</th>\n",
       "      <th>SALARY</th>\n",
       "    </tr>\n",
       "  </thead>\n",
       "  <tbody>\n",
       "    <tr>\n",
       "      <th>0</th>\n",
       "      <td>-1.055290</td>\n",
       "      <td>-0.144776</td>\n",
       "      <td>-0.153446</td>\n",
       "    </tr>\n",
       "    <tr>\n",
       "      <th>1</th>\n",
       "      <td>-0.376889</td>\n",
       "      <td>-1.268036</td>\n",
       "      <td>0.192253</td>\n",
       "    </tr>\n",
       "    <tr>\n",
       "      <th>2</th>\n",
       "      <td>-1.055290</td>\n",
       "      <td>-1.342920</td>\n",
       "      <td>0.049775</td>\n",
       "    </tr>\n",
       "    <tr>\n",
       "      <th>3</th>\n",
       "      <td>0.075378</td>\n",
       "      <td>-0.219660</td>\n",
       "      <td>1.156799</td>\n",
       "    </tr>\n",
       "    <tr>\n",
       "      <th>4</th>\n",
       "      <td>0.301511</td>\n",
       "      <td>-0.668964</td>\n",
       "      <td>-0.015691</td>\n",
       "    </tr>\n",
       "  </tbody>\n",
       "</table>\n",
       "</div>"
      ],
      "text/plain": [
       "       TIME      PUBS    SALARY\n",
       "0 -1.055290 -0.144776 -0.153446\n",
       "1 -0.376889 -1.268036  0.192253\n",
       "2 -1.055290 -1.342920  0.049775\n",
       "3  0.075378 -0.219660  1.156799\n",
       "4  0.301511 -0.668964 -0.015691"
      ]
     },
     "metadata": {},
     "output_type": "display_data"
    }
   ],
   "source": [
    "#変数選択\n",
    "d_scaled=pd.concat([X_scaled,y_scaled],axis=1)\n",
    "display(d_scaled.head())"
   ]
  },
  {
   "cell_type": "code",
   "execution_count": 9,
   "id": "82ca8e92-dfc9-4e78-88de-5cc0a1aee1ca",
   "metadata": {},
   "outputs": [],
   "source": [
    "#Cell_22.\n",
    "# forward method for variable selection based on AIC.\n",
    "# Stepwise feature selection method (forward); 変数増加法による変数選択\n",
    "def step_aic_forward(model, exog, endog, **kwargs):\n",
    "    '''\n",
    "    This function calculates the best subset of explanatory (exogenous) variables based on AIC.\n",
    "    Both exog and endog can be either str or list.\n",
    "\n",
    "    Arguments:\n",
    "        model: model from statsmodels.formula.api\n",
    "        exog (str or list): explanatory (exogenous) variables\n",
    "        endog (str or list): objective (endogenous) variables\n",
    "        kwargs: additional keyword argments for model (data, family, ...)\n",
    "\n",
    "    Return values:\n",
    "        model: a model with the smallest AIC\n",
    "    '''\n",
    "    \n",
    "    # Convert exog, endog into 1-d list\n",
    "    exog = np.r_[[exog]].flatten()\n",
    "    endog = np.r_[[endog]].flatten()\n",
    "    remaining = set(exog)\n",
    "    selected = []  # Selected exogenous variables\n",
    "\n",
    "    # First, calculate AIC with a constant (no exogs)\n",
    "    formula_head = 'Q(\"' + '\") + Q(\"'.join(endog) + '\") ~ '\n",
    "    formula = formula_head + '1'\n",
    "    aic = model(formula=formula, **kwargs).fit().aic\n",
    "    print('AIC: {:.3f}, formula: {}'.format(aic, formula))\n",
    "\n",
    "    current_score, best_new_score = aic, aic\n",
    "\n",
    "    # Break loop if all exogs are selected or no remaining exogs can improve AIC\n",
    "    while True:\n",
    "        score_with_candidates = []\n",
    "        for candidate in remaining:\n",
    "            # Calculate AIC for adding an exog one by one\n",
    "            formula_tail = 'Q(\"' + '\") + Q(\"'.join(selected + [candidate]) + '\")'\n",
    "            formula = formula_head + formula_tail\n",
    "            aic = model(formula=formula, **kwargs).fit().aic\n",
    "            print('AIC: {:.3f}, formula: {}'.format(aic, formula))\n",
    "\n",
    "            score_with_candidates.append((aic, candidate))\n",
    "\n",
    "        # Select best_candidate with minimum AIC\n",
    "        score_with_candidates.sort()\n",
    "        best_score, best_candidate = score_with_candidates[0]\n",
    "\n",
    "        # select best_candidate if AIC is improved\n",
    "        improved = False\n",
    "        if best_score < current_score:\n",
    "            remaining.remove(best_candidate)\n",
    "            selected.append(best_candidate)\n",
    "            current_score = best_score\n",
    "            improved = True\n",
    "            \n",
    "        if not remaining or not improved: break\n",
    "\n",
    "    formula = formula_head + 'Q(\"' + '\") + Q(\"'.join(selected) + '\")'\n",
    "    print('The best formula: {}'.format(formula))\n",
    "    aic = model(formula=formula, **kwargs).fit().aic\n",
    "    print('Minimum AIC: {:.3f}'.format(aic))\n",
    "    \n",
    "    ret = model(formula, **kwargs).fit()\n",
    "    ret.model.exog_names_org = [re.sub(r'Q\\(\\\"(.*)\\\"\\)',r'\\1',x) for x in list(ret.model.exog_names)]\n",
    "    ret.model.endog_names_org = re.sub(r'Q\\(\\\"(.*)\\\"\\)',r'\\1',ret.model.endog_names)\n",
    "    return ret"
   ]
  },
  {
   "cell_type": "code",
   "execution_count": 10,
   "id": "adce4cfa-6476-4ecd-8ad1-fddb042e917c",
   "metadata": {},
   "outputs": [
    {
     "name": "stdout",
     "output_type": "stream",
     "text": [
      "AIC: 44.568, formula: Q(\"SALARY\") ~ 1\n",
      "AIC: 36.032, formula: Q(\"SALARY\") ~ Q(\"TIME\")\n",
      "AIC: 40.209, formula: Q(\"SALARY\") ~ Q(\"PUBS\")\n",
      "AIC: 37.227, formula: Q(\"SALARY\") ~ Q(\"TIME\") + Q(\"PUBS\")\n",
      "The best formula: Q(\"SALARY\") ~ Q(\"TIME\")\n",
      "Minimum AIC: 36.032\n"
     ]
    }
   ],
   "source": [
    "#Cell_23.\n",
    "#変数選択を実行\n",
    "\n",
    "header_y = y_scaled.name\n",
    "header_x = X_scaled.columns\n",
    "model = step_aic_forward(smf.ols, header_x,header_y, data=d_scaled)"
   ]
  },
  {
   "cell_type": "markdown",
   "id": "0605fc43-af55-4ec7-a45d-0675ae479eb5",
   "metadata": {},
   "source": [
    "## 説明変数選択において説明変数が１個になったので、多重共線性の確認は不要である．\n",
    "\n"
   ]
  },
  {
   "cell_type": "markdown",
   "id": "a0b0ad75-1359-4da5-aac3-c529940b7e6f",
   "metadata": {},
   "source": [
    "--------------------------------------\n",
    "## 課題2"
   ]
  },
  {
   "cell_type": "code",
   "execution_count": 11,
   "id": "88cc6759-ef78-48b4-9321-f8983dc826af",
   "metadata": {},
   "outputs": [
    {
     "name": "stdout",
     "output_type": "stream",
     "text": [
      "                                 OLS Regression Results                                \n",
      "=======================================================================================\n",
      "Dep. Variable:                 SALARY   R-squared (uncentered):                   0.505\n",
      "Model:                            OLS   Adj. R-squared (uncentered):              0.469\n",
      "Method:                 Least Squares   F-statistic:                              14.26\n",
      "Date:                Thu, 05 Oct 2023   Prob (F-statistic):                     0.00204\n",
      "Time:                        02:23:40   Log-Likelihood:                         -16.016\n",
      "No. Observations:                  15   AIC:                                      34.03\n",
      "Df Residuals:                      14   BIC:                                      34.74\n",
      "Df Model:                           1                                                  \n",
      "Covariance Type:            nonrobust                                                  \n",
      "==============================================================================\n",
      "                 coef    std err          t      P>|t|      [0.025      0.975]\n",
      "------------------------------------------------------------------------------\n",
      "TIME           0.7104      0.188      3.776      0.002       0.307       1.114\n",
      "==============================================================================\n",
      "Omnibus:                        2.083   Durbin-Watson:                   1.540\n",
      "Prob(Omnibus):                  0.353   Jarque-Bera (JB):                0.920\n",
      "Skew:                          -0.604   Prob(JB):                        0.631\n",
      "Kurtosis:                       3.104   Cond. No.                         1.00\n",
      "==============================================================================\n",
      "\n",
      "Notes:\n",
      "[1] R² is computed without centering (uncentered) since the model does not contain a constant.\n",
      "[2] Standard Errors assume that the covariance matrix of the errors is correctly specified.\n"
     ]
    },
    {
     "name": "stderr",
     "output_type": "stream",
     "text": [
      "C:\\Users\\iniad\\miniconda3\\envs\\ds2023\\lib\\site-packages\\scipy\\stats\\stats.py:1541: UserWarning: kurtosistest only valid for n>=20 ... continuing anyway, n=15\n",
      "  warnings.warn(\"kurtosistest only valid for n>=20 ... continuing \"\n"
     ]
    }
   ],
   "source": [
    "#Cell_24.\n",
    "#選択された説明変数のみで標準化重回帰分析\n",
    "#reasonなし\n",
    "X_scaled2 = X_scaled[['TIME']]\n",
    "\n",
    "import statsmodels.api as sm\n",
    "mod2 = sm.OLS(y_scaled,X_scaled2)\n",
    "res2 = mod2.fit()\n",
    "print(res2.summary())"
   ]
  },
  {
   "cell_type": "code",
   "execution_count": 12,
   "id": "a110b1c7-9c8f-4eed-ad97-d6ef027022b1",
   "metadata": {},
   "outputs": [
    {
     "name": "stdout",
     "output_type": "stream",
     "text": [
      "                            OLS Regression Results                            \n",
      "==============================================================================\n",
      "Dep. Variable:                 SALARY   R-squared:                       0.505\n",
      "Model:                            OLS   Adj. R-squared:                  0.466\n",
      "Method:                 Least Squares   F-statistic:                     13.24\n",
      "Date:                Thu, 05 Oct 2023   Prob (F-statistic):            0.00300\n",
      "Time:                        02:23:40   Log-Likelihood:                -150.10\n",
      "No. Observations:                  15   AIC:                             304.2\n",
      "Df Residuals:                      13   BIC:                             305.6\n",
      "Df Model:                           1                                         \n",
      "Covariance Type:            nonrobust                                         \n",
      "==============================================================================\n",
      "                 coef    std err          t      P>|t|      [0.025      0.975]\n",
      "------------------------------------------------------------------------------\n",
      "const       4.366e+04   2978.022     14.660      0.000    3.72e+04    5.01e+04\n",
      "TIME        1224.3920    336.476      3.639      0.003     497.479    1951.305\n",
      "==============================================================================\n",
      "Omnibus:                        2.083   Durbin-Watson:                   1.540\n",
      "Prob(Omnibus):                  0.353   Jarque-Bera (JB):                0.920\n",
      "Skew:                          -0.604   Prob(JB):                        0.631\n",
      "Kurtosis:                       3.104   Cond. No.                         17.9\n",
      "==============================================================================\n",
      "\n",
      "Notes:\n",
      "[1] Standard Errors assume that the covariance matrix of the errors is correctly specified.\n"
     ]
    },
    {
     "name": "stderr",
     "output_type": "stream",
     "text": [
      "C:\\Users\\iniad\\miniconda3\\envs\\ds2023\\lib\\site-packages\\scipy\\stats\\stats.py:1541: UserWarning: kurtosistest only valid for n>=20 ... continuing anyway, n=15\n",
      "  warnings.warn(\"kurtosistest only valid for n>=20 ... continuing \"\n"
     ]
    }
   ],
   "source": [
    "X_final = X[['TIME']]\n",
    "\n",
    "mod_final = sm.OLS(y, sm.add_constant(X_final))\n",
    "res_final = mod_final.fit()\n",
    "print(res_final.summary())\n"
   ]
  },
  {
   "cell_type": "code",
   "execution_count": 13,
   "id": "c85cd822-f74c-425b-b586-f7493004e4c7",
   "metadata": {},
   "outputs": [],
   "source": [
    "Sigma = np.asmatrix(X_final.cov())"
   ]
  },
  {
   "cell_type": "code",
   "execution_count": 14,
   "id": "44e1a65b-430e-4f80-8607-6e097952fc18",
   "metadata": {},
   "outputs": [],
   "source": [
    "def Mahala2(vec_x, vec_mean, mat):\n",
    "    length = mat.shape[0]\n",
    "    vec_x = np.array(vec_x, dtype='float64')\n",
    "    vec = np.asmatrix((vec_x - vec_mean).values.reshape(length, 1))\n",
    "    inv = np.linalg.inv(mat)\n",
    "    mahala2 = vec.T.dot(inv.dot(vec))\n",
    "    return mahala2[0, 0]\n",
    "\n",
    "#マハラノビス距離の2乗"
   ]
  },
  {
   "cell_type": "code",
   "execution_count": 15,
   "id": "0200d19c-900f-42e2-b227-6e17e3e8289a",
   "metadata": {},
   "outputs": [
    {
     "name": "stdout",
     "output_type": "stream",
     "text": [
      "TIME    7.666667\n",
      "dtype: float64\n"
     ]
    }
   ],
   "source": [
    "import scipy.stats as ss\n",
    "n = len(X_final) \n",
    "#標本数. \n",
    "\n",
    "dfm = res_final.df_model \n",
    "#モデルの自由度すなわち説明(独立)変数の数\n",
    "\n",
    "t_0025 = ss.t.isf(q=0.05/2, df=n-dfm-1) \n",
    "#自由度 n-dfm-1のt分布の上側2.5パーセント点(= ss.t.ppf(q=0.975, df=n-dfm-1))\n",
    "#t分布の上側2.5%点\n",
    "\n",
    "vec_mean = X_final.mean() \n",
    "#説明(独立)変数の平均を求める　\n",
    "\n",
    "print(vec_mean)"
   ]
  },
  {
   "cell_type": "code",
   "execution_count": 16,
   "id": "09d3b1a4-37e5-416a-b6b4-d78333f23f3e",
   "metadata": {},
   "outputs": [
    {
     "data": {
      "text/html": [
       "<div>\n",
       "<style scoped>\n",
       "    .dataframe tbody tr th:only-of-type {\n",
       "        vertical-align: middle;\n",
       "    }\n",
       "\n",
       "    .dataframe tbody tr th {\n",
       "        vertical-align: top;\n",
       "    }\n",
       "\n",
       "    .dataframe thead th {\n",
       "        text-align: right;\n",
       "    }\n",
       "</style>\n",
       "<table border=\"1\" class=\"dataframe\">\n",
       "  <thead>\n",
       "    <tr style=\"text-align: right;\">\n",
       "      <th></th>\n",
       "      <th>TIME</th>\n",
       "    </tr>\n",
       "  </thead>\n",
       "  <tbody>\n",
       "    <tr>\n",
       "      <th>0</th>\n",
       "      <td>3</td>\n",
       "    </tr>\n",
       "    <tr>\n",
       "      <th>1</th>\n",
       "      <td>6</td>\n",
       "    </tr>\n",
       "    <tr>\n",
       "      <th>2</th>\n",
       "      <td>3</td>\n",
       "    </tr>\n",
       "    <tr>\n",
       "      <th>3</th>\n",
       "      <td>8</td>\n",
       "    </tr>\n",
       "    <tr>\n",
       "      <th>4</th>\n",
       "      <td>9</td>\n",
       "    </tr>\n",
       "  </tbody>\n",
       "</table>\n",
       "</div>"
      ],
      "text/plain": [
       "   TIME\n",
       "0     3\n",
       "1     6\n",
       "2     3\n",
       "3     8\n",
       "4     9"
      ]
     },
     "metadata": {},
     "output_type": "display_data"
    }
   ],
   "source": [
    "display(X_final.head())"
   ]
  },
  {
   "cell_type": "code",
   "execution_count": 17,
   "id": "5a49010c-6524-42f8-b4ae-6bc9740a407e",
   "metadata": {},
   "outputs": [
    {
     "name": "stdout",
     "output_type": "stream",
     "text": [
      "const    1.0\n",
      "TIME     3.0\n",
      "Name: 0, dtype: float64\n",
      "47331.770454545425\n",
      "理論値: 47331.770454545425\n",
      "理論値の信頼区間：(42658.37379064684,52005.16711844401)\n"
     ]
    }
   ],
   "source": [
    "#観測値に対応する従属変数の信頼区間を求める \n",
    "\n",
    "X = sm.add_constant(X_final).iloc[0,:] \n",
    "print(X)\n",
    "\n",
    "hat_y=X.dot(res_final.params) \n",
    "print(hat_y)\n",
    "#Xとresults.paramsの内積を求め従属変数の推定値を求める　\n",
    "\n",
    "D2_0 = Mahala2(X_final.iloc[0,:], vec_mean, Sigma) \n",
    "#マハラノビス距離の二乗を求める \n",
    "#マハラノビス距離の値を、問題で与えられたXの値の上で算出\n",
    "\n",
    "Ve = res_final.scale \n",
    "#残差変動の不偏分散\n",
    "Se_o = np.sqrt((1/n + D2_0 / (n-1)) * Ve) \n",
    "#観測値の場合・標準誤差\n",
    "\n",
    "ci_low = hat_y - t_0025 * Se_o# 下側信頼\n",
    "ci_up = hat_y + t_0025 * Se_o # 上側信頼\n",
    "#信頼区間の下限上限\n",
    "\n",
    "print(\"理論値:\", hat_y)\n",
    "print(\"理論値の信頼区間：({0},{1})\".format(ci_low,ci_up))"
   ]
  },
  {
   "cell_type": "code",
   "execution_count": null,
   "id": "0dff9440-ce22-441b-9cc4-ae311db08c55",
   "metadata": {},
   "outputs": [],
   "source": []
  }
 ],
 "metadata": {
  "kernelspec": {
   "display_name": "Python 3 (ipykernel)",
   "language": "python",
   "name": "python3"
  },
  "language_info": {
   "codemirror_mode": {
    "name": "ipython",
    "version": 3
   },
   "file_extension": ".py",
   "mimetype": "text/x-python",
   "name": "python",
   "nbconvert_exporter": "python",
   "pygments_lexer": "ipython3",
   "version": "3.8.16"
  }
 },
 "nbformat": 4,
 "nbformat_minor": 5
}
