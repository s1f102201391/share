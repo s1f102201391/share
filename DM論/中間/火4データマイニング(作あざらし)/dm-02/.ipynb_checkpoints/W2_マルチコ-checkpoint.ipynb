{
 "cells": [
  {
   "cell_type": "code",
   "execution_count": 2,
   "metadata": {},
   "outputs": [
    {
     "data": {
      "text/html": [
       "<div>\n",
       "<style scoped>\n",
       "    .dataframe tbody tr th:only-of-type {\n",
       "        vertical-align: middle;\n",
       "    }\n",
       "\n",
       "    .dataframe tbody tr th {\n",
       "        vertical-align: top;\n",
       "    }\n",
       "\n",
       "    .dataframe thead th {\n",
       "        text-align: right;\n",
       "    }\n",
       "</style>\n",
       "<table border=\"1\" class=\"dataframe\">\n",
       "  <thead>\n",
       "    <tr style=\"text-align: right;\">\n",
       "      <th></th>\n",
       "      <th>No</th>\n",
       "      <th>small_size</th>\n",
       "      <th>Portable</th>\n",
       "      <th>Easy_operation</th>\n",
       "      <th>CS</th>\n",
       "    </tr>\n",
       "  </thead>\n",
       "  <tbody>\n",
       "    <tr>\n",
       "      <th>0</th>\n",
       "      <td>1</td>\n",
       "      <td>3</td>\n",
       "      <td>3</td>\n",
       "      <td>4</td>\n",
       "      <td>3</td>\n",
       "    </tr>\n",
       "    <tr>\n",
       "      <th>1</th>\n",
       "      <td>2</td>\n",
       "      <td>5</td>\n",
       "      <td>4</td>\n",
       "      <td>2</td>\n",
       "      <td>2</td>\n",
       "    </tr>\n",
       "    <tr>\n",
       "      <th>2</th>\n",
       "      <td>3</td>\n",
       "      <td>2</td>\n",
       "      <td>2</td>\n",
       "      <td>2</td>\n",
       "      <td>1</td>\n",
       "    </tr>\n",
       "    <tr>\n",
       "      <th>3</th>\n",
       "      <td>4</td>\n",
       "      <td>4</td>\n",
       "      <td>4</td>\n",
       "      <td>3</td>\n",
       "      <td>2</td>\n",
       "    </tr>\n",
       "    <tr>\n",
       "      <th>4</th>\n",
       "      <td>5</td>\n",
       "      <td>4</td>\n",
       "      <td>4</td>\n",
       "      <td>2</td>\n",
       "      <td>3</td>\n",
       "    </tr>\n",
       "  </tbody>\n",
       "</table>\n",
       "</div>"
      ],
      "text/plain": [
       "   No  small_size  Portable  Easy_operation  CS\n",
       "0   1           3         3               4   3\n",
       "1   2           5         4               2   2\n",
       "2   3           2         2               2   1\n",
       "3   4           4         4               3   2\n",
       "4   5           4         4               2   3"
      ]
     },
     "metadata": {},
     "output_type": "display_data"
    }
   ],
   "source": [
    "#Cell_1.\n",
    "import pandas as pd\n",
    "import numpy as np\n",
    "import scipy as sp\n",
    "import scipy.stats as stats\n",
    "import statsmodels.api as sm\n",
    "import statsmodels.formula.api as smf\n",
    "from sklearn import preprocessing\n",
    "import matplotlib.pyplot as plt\n",
    "\n",
    "d = pd.read_csv('camera.csv',sep=\" \")\n",
    "display(d.head())"
   ]
  },
  {
   "cell_type": "markdown",
   "metadata": {},
   "source": [
    "# 変数を順番に追加しながら回帰分析してみる Apply regression adding IVs one by one."
   ]
  },
  {
   "cell_type": "code",
   "execution_count": 3,
   "metadata": {
    "scrolled": true
   },
   "outputs": [
    {
     "name": "stdout",
     "output_type": "stream",
     "text": [
      "                            OLS Regression Results                            \n",
      "==============================================================================\n",
      "Dep. Variable:                     CS   R-squared:                       0.045\n",
      "Model:                            OLS   Adj. R-squared:                  0.035\n",
      "Method:                 Least Squares   F-statistic:                     4.629\n",
      "Date:                Tue, 03 Oct 2023   Prob (F-statistic):             0.0339\n",
      "Time:                        10:04:14   Log-Likelihood:                -153.39\n",
      "No. Observations:                 100   AIC:                             310.8\n",
      "Df Residuals:                      98   BIC:                             316.0\n",
      "Df Model:                           1                                         \n",
      "Covariance Type:            nonrobust                                         \n",
      "==============================================================================\n",
      "                 coef    std err          t      P>|t|      [0.025      0.975]\n",
      "------------------------------------------------------------------------------\n",
      "const          1.8895      0.259      7.302      0.000       1.376       2.403\n",
      "small_size     0.1756      0.082      2.152      0.034       0.014       0.338\n",
      "==============================================================================\n",
      "Omnibus:                        5.589   Durbin-Watson:                   2.428\n",
      "Prob(Omnibus):                  0.061   Jarque-Bera (JB):                5.170\n",
      "Skew:                           0.489   Prob(JB):                       0.0754\n",
      "Kurtosis:                       2.467   Cond. No.                         7.83\n",
      "==============================================================================\n",
      "\n",
      "Notes:\n",
      "[1] Standard Errors assume that the covariance matrix of the errors is correctly specified.\n"
     ]
    }
   ],
   "source": [
    "#Cell_2.\n",
    "#1 IV.\n",
    "d = pd.read_csv('camera.csv',sep=\" \")\n",
    "y=d[['CS']]\n",
    "X=d[['small_size']]\n",
    "\n",
    "mod = sm.OLS(y, sm.add_constant(X))\n",
    "res = mod.fit()\n",
    "print(res.summary())"
   ]
  },
  {
   "cell_type": "code",
   "execution_count": 4,
   "metadata": {},
   "outputs": [
    {
     "name": "stdout",
     "output_type": "stream",
     "text": [
      "                            OLS Regression Results                            \n",
      "==============================================================================\n",
      "Dep. Variable:                     CS   R-squared:                       0.190\n",
      "Model:                            OLS   Adj. R-squared:                  0.174\n",
      "Method:                 Least Squares   F-statistic:                     11.41\n",
      "Date:                Tue, 03 Oct 2023   Prob (F-statistic):           3.54e-05\n",
      "Time:                        10:04:14   Log-Likelihood:                -145.13\n",
      "No. Observations:                 100   AIC:                             296.3\n",
      "Df Residuals:                      97   BIC:                             304.1\n",
      "Df Model:                           2                                         \n",
      "Covariance Type:            nonrobust                                         \n",
      "==============================================================================\n",
      "                 coef    std err          t      P>|t|      [0.025      0.975]\n",
      "------------------------------------------------------------------------------\n",
      "const          1.2427      0.285      4.357      0.000       0.677       1.809\n",
      "small_size    -0.3168      0.140     -2.261      0.026      -0.595      -0.039\n",
      "Portable       0.7375      0.177      4.174      0.000       0.387       1.088\n",
      "==============================================================================\n",
      "Omnibus:                        4.740   Durbin-Watson:                   2.155\n",
      "Prob(Omnibus):                  0.093   Jarque-Bera (JB):                4.331\n",
      "Skew:                           0.437   Prob(JB):                        0.115\n",
      "Kurtosis:                       2.475   Cond. No.                         13.0\n",
      "==============================================================================\n",
      "\n",
      "Notes:\n",
      "[1] Standard Errors assume that the covariance matrix of the errors is correctly specified.\n"
     ]
    }
   ],
   "source": [
    "#Cell_3.\n",
    "#2 IVs.\n",
    "d = pd.read_csv('camera.csv',sep=\" \")\n",
    "\n",
    "y=d[['CS']]\n",
    "X=d[['small_size','Portable']]\n",
    "\n",
    "mod = sm.OLS(y, sm.add_constant(X))\n",
    "res = mod.fit()\n",
    "print(res.summary())"
   ]
  },
  {
   "cell_type": "code",
   "execution_count": 5,
   "metadata": {},
   "outputs": [
    {
     "name": "stdout",
     "output_type": "stream",
     "text": [
      "                            OLS Regression Results                            \n",
      "==============================================================================\n",
      "Dep. Variable:                     CS   R-squared:                       0.363\n",
      "Model:                            OLS   Adj. R-squared:                  0.343\n",
      "Method:                 Least Squares   F-statistic:                     18.26\n",
      "Date:                Tue, 03 Oct 2023   Prob (F-statistic):           1.87e-09\n",
      "Time:                        10:04:14   Log-Likelihood:                -133.12\n",
      "No. Observations:                 100   AIC:                             274.2\n",
      "Df Residuals:                      96   BIC:                             284.7\n",
      "Df Model:                           3                                         \n",
      "Covariance Type:            nonrobust                                         \n",
      "==================================================================================\n",
      "                     coef    std err          t      P>|t|      [0.025      0.975]\n",
      "----------------------------------------------------------------------------------\n",
      "const             -0.5816      0.439     -1.326      0.188      -1.452       0.289\n",
      "small_size        -0.1894      0.127     -1.487      0.140      -0.442       0.063\n",
      "Portable           0.7795      0.158      4.942      0.000       0.466       1.093\n",
      "Easy_operation     0.4685      0.092      5.106      0.000       0.286       0.651\n",
      "==============================================================================\n",
      "Omnibus:                        0.727   Durbin-Watson:                   2.171\n",
      "Prob(Omnibus):                  0.695   Jarque-Bera (JB):                0.852\n",
      "Skew:                           0.173   Prob(JB):                        0.653\n",
      "Kurtosis:                       2.708   Cond. No.                         24.8\n",
      "==============================================================================\n",
      "\n",
      "Notes:\n",
      "[1] Standard Errors assume that the covariance matrix of the errors is correctly specified.\n"
     ]
    }
   ],
   "source": [
    "#Cell_4.\n",
    "#3IVs.\n",
    "d = pd.read_csv('camera.csv',sep=\" \")\n",
    "\n",
    "y=d[['CS']]\n",
    "X=d[['small_size','Portable','Easy_operation']]\n",
    "\n",
    "mod = sm.OLS(y, sm.add_constant(X))\n",
    "res = mod.fit()\n",
    "print(res.summary())"
   ]
  },
  {
   "cell_type": "markdown",
   "metadata": {},
   "source": [
    "# 標準化を行ってから、VIFを確認 Check VIF after normalization."
   ]
  },
  {
   "cell_type": "markdown",
   "metadata": {},
   "source": [
    "# まずは2IVの場合から. The case of 2 IVs first."
   ]
  },
  {
   "cell_type": "code",
   "execution_count": 6,
   "metadata": {},
   "outputs": [
    {
     "name": "stdout",
     "output_type": "stream",
     "text": [
      "                                 OLS Regression Results                                \n",
      "=======================================================================================\n",
      "Dep. Variable:                      y   R-squared (uncentered):                   0.190\n",
      "Model:                            OLS   Adj. R-squared (uncentered):              0.174\n",
      "Method:                 Least Squares   F-statistic:                              11.53\n",
      "Date:                Tue, 03 Oct 2023   Prob (F-statistic):                    3.19e-05\n",
      "Time:                        10:04:14   Log-Likelihood:                         -131.33\n",
      "No. Observations:                 100   AIC:                                      266.7\n",
      "Df Residuals:                      98   BIC:                                      271.9\n",
      "Df Model:                           2                                                  \n",
      "Covariance Type:            nonrobust                                                  \n",
      "==============================================================================\n",
      "                 coef    std err          t      P>|t|      [0.025      0.975]\n",
      "------------------------------------------------------------------------------\n",
      "x1            -0.3831      0.169     -2.273      0.025      -0.718      -0.049\n",
      "x2             0.7071      0.169      4.195      0.000       0.373       1.042\n",
      "==============================================================================\n",
      "Omnibus:                        4.740   Durbin-Watson:                   2.155\n",
      "Prob(Omnibus):                  0.093   Jarque-Bera (JB):                4.331\n",
      "Skew:                           0.437   Prob(JB):                        0.115\n",
      "Kurtosis:                       2.475   Cond. No.                         3.42\n",
      "==============================================================================\n",
      "\n",
      "Notes:\n",
      "[1] R² is computed without centering (uncentered) since the model does not contain a constant.\n",
      "[2] Standard Errors assume that the covariance matrix of the errors is correctly specified.\n"
     ]
    }
   ],
   "source": [
    "#Cell_5.\n",
    "#2 IVs.\n",
    "d = pd.read_csv('camera.csv',sep=\" \")\n",
    "\n",
    "y=d[['CS']]\n",
    "X=d[['small_size','Portable']]\n",
    "\n",
    "#標準化 Normalizatin.\n",
    "y_scaled = preprocessing.scale(y)\n",
    "X_scaled = preprocessing.scale(X)\n",
    "\n",
    "mod = sm.OLS(y_scaled, X_scaled)\n",
    "res = mod.fit()\n",
    "print(res.summary())"
   ]
  },
  {
   "cell_type": "code",
   "execution_count": 7,
   "metadata": {},
   "outputs": [
    {
     "data": {
      "text/html": [
       "<div>\n",
       "<style scoped>\n",
       "    .dataframe tbody tr th:only-of-type {\n",
       "        vertical-align: middle;\n",
       "    }\n",
       "\n",
       "    .dataframe tbody tr th {\n",
       "        vertical-align: top;\n",
       "    }\n",
       "\n",
       "    .dataframe thead th {\n",
       "        text-align: right;\n",
       "    }\n",
       "</style>\n",
       "<table border=\"1\" class=\"dataframe\">\n",
       "  <thead>\n",
       "    <tr style=\"text-align: right;\">\n",
       "      <th></th>\n",
       "      <th>VIF</th>\n",
       "    </tr>\n",
       "  </thead>\n",
       "  <tbody>\n",
       "    <tr>\n",
       "      <th>x1</th>\n",
       "      <td>3.43946</td>\n",
       "    </tr>\n",
       "    <tr>\n",
       "      <th>x2</th>\n",
       "      <td>3.43946</td>\n",
       "    </tr>\n",
       "  </tbody>\n",
       "</table>\n",
       "</div>"
      ],
      "text/plain": [
       "        VIF\n",
       "x1  3.43946\n",
       "x2  3.43946"
      ]
     },
     "execution_count": 7,
     "metadata": {},
     "output_type": "execute_result"
    }
   ],
   "source": [
    "#Cell_6.\n",
    "#2IV VIF checkup. \n",
    "from statsmodels.stats.outliers_influence import variance_inflation_factor\n",
    "num_cols = mod.exog.shape[1] \n",
    "vifs = [variance_inflation_factor(mod.exog, i)\n",
    "        for i in range(0, num_cols)]\n",
    "pd.DataFrame(vifs, index=mod.exog_names, columns=[\"VIF\"])"
   ]
  },
  {
   "cell_type": "markdown",
   "metadata": {},
   "source": [
    "# 続いて3IVの場合. The case of 3 IVs next."
   ]
  },
  {
   "cell_type": "code",
   "execution_count": 8,
   "metadata": {},
   "outputs": [
    {
     "data": {
      "text/html": [
       "<div>\n",
       "<style scoped>\n",
       "    .dataframe tbody tr th:only-of-type {\n",
       "        vertical-align: middle;\n",
       "    }\n",
       "\n",
       "    .dataframe tbody tr th {\n",
       "        vertical-align: top;\n",
       "    }\n",
       "\n",
       "    .dataframe thead th {\n",
       "        text-align: right;\n",
       "    }\n",
       "</style>\n",
       "<table border=\"1\" class=\"dataframe\">\n",
       "  <thead>\n",
       "    <tr style=\"text-align: right;\">\n",
       "      <th></th>\n",
       "      <th>small_size</th>\n",
       "      <th>Portable</th>\n",
       "      <th>Easy_operation</th>\n",
       "    </tr>\n",
       "  </thead>\n",
       "  <tbody>\n",
       "    <tr>\n",
       "      <th>0</th>\n",
       "      <td>3</td>\n",
       "      <td>3</td>\n",
       "      <td>4</td>\n",
       "    </tr>\n",
       "    <tr>\n",
       "      <th>1</th>\n",
       "      <td>5</td>\n",
       "      <td>4</td>\n",
       "      <td>2</td>\n",
       "    </tr>\n",
       "    <tr>\n",
       "      <th>2</th>\n",
       "      <td>2</td>\n",
       "      <td>2</td>\n",
       "      <td>2</td>\n",
       "    </tr>\n",
       "    <tr>\n",
       "      <th>3</th>\n",
       "      <td>4</td>\n",
       "      <td>4</td>\n",
       "      <td>3</td>\n",
       "    </tr>\n",
       "    <tr>\n",
       "      <th>4</th>\n",
       "      <td>4</td>\n",
       "      <td>4</td>\n",
       "      <td>2</td>\n",
       "    </tr>\n",
       "  </tbody>\n",
       "</table>\n",
       "</div>"
      ],
      "text/plain": [
       "   small_size  Portable  Easy_operation\n",
       "0           3         3               4\n",
       "1           5         4               2\n",
       "2           2         2               2\n",
       "3           4         4               3\n",
       "4           4         4               2"
      ]
     },
     "metadata": {},
     "output_type": "display_data"
    },
    {
     "name": "stdout",
     "output_type": "stream",
     "text": [
      "                                 OLS Regression Results                                \n",
      "=======================================================================================\n",
      "Dep. Variable:                      y   R-squared (uncentered):                   0.363\n",
      "Model:                            OLS   Adj. R-squared (uncentered):              0.344\n",
      "Method:                 Least Squares   F-statistic:                              18.45\n",
      "Date:                Tue, 03 Oct 2023   Prob (F-statistic):                    1.50e-09\n",
      "Time:                        10:04:14   Log-Likelihood:                         -119.32\n",
      "No. Observations:                 100   AIC:                                      244.6\n",
      "Df Residuals:                      97   BIC:                                      252.5\n",
      "Df Model:                           3                                                  \n",
      "Covariance Type:            nonrobust                                                  \n",
      "==============================================================================\n",
      "                 coef    std err          t      P>|t|      [0.025      0.975]\n",
      "------------------------------------------------------------------------------\n",
      "x1            -0.2291      0.153     -1.495      0.138      -0.533       0.075\n",
      "x2             0.7474      0.150      4.968      0.000       0.449       1.046\n",
      "x3             0.4568      0.089      5.132      0.000       0.280       0.633\n",
      "==============================================================================\n",
      "Omnibus:                        0.727   Durbin-Watson:                   2.171\n",
      "Prob(Omnibus):                  0.695   Jarque-Bera (JB):                0.852\n",
      "Skew:                           0.173   Prob(JB):                        0.653\n",
      "Kurtosis:                       2.708   Cond. No.                         3.68\n",
      "==============================================================================\n",
      "\n",
      "Notes:\n",
      "[1] R² is computed without centering (uncentered) since the model does not contain a constant.\n",
      "[2] Standard Errors assume that the covariance matrix of the errors is correctly specified.\n"
     ]
    }
   ],
   "source": [
    "#Cell_7.\n",
    "#Normalization.\n",
    "y=d[['CS']]\n",
    "X=d[['small_size','Portable','Easy_operation']]\n",
    "\n",
    "display(X.head())\n",
    "\n",
    "y_scaled = preprocessing.scale(y)\n",
    "X_scaled = preprocessing.scale(X)\n",
    "\n",
    "mod = sm.OLS(y_scaled, X_scaled)\n",
    "res = mod.fit()\n",
    "print(res.summary())"
   ]
  },
  {
   "cell_type": "code",
   "execution_count": 9,
   "metadata": {},
   "outputs": [
    {
     "data": {
      "text/html": [
       "<div>\n",
       "<style scoped>\n",
       "    .dataframe tbody tr th:only-of-type {\n",
       "        vertical-align: middle;\n",
       "    }\n",
       "\n",
       "    .dataframe tbody tr th {\n",
       "        vertical-align: top;\n",
       "    }\n",
       "\n",
       "    .dataframe thead th {\n",
       "        text-align: right;\n",
       "    }\n",
       "</style>\n",
       "<table border=\"1\" class=\"dataframe\">\n",
       "  <thead>\n",
       "    <tr style=\"text-align: right;\">\n",
       "      <th></th>\n",
       "      <th>VIF</th>\n",
       "    </tr>\n",
       "  </thead>\n",
       "  <tbody>\n",
       "    <tr>\n",
       "      <th>x1</th>\n",
       "      <td>3.576704</td>\n",
       "    </tr>\n",
       "    <tr>\n",
       "      <th>x2</th>\n",
       "      <td>3.448854</td>\n",
       "    </tr>\n",
       "    <tr>\n",
       "      <th>x3</th>\n",
       "      <td>1.207117</td>\n",
       "    </tr>\n",
       "  </tbody>\n",
       "</table>\n",
       "</div>"
      ],
      "text/plain": [
       "         VIF\n",
       "x1  3.576704\n",
       "x2  3.448854\n",
       "x3  1.207117"
      ]
     },
     "execution_count": 9,
     "metadata": {},
     "output_type": "execute_result"
    }
   ],
   "source": [
    "#Cell_8.\n",
    "from statsmodels.stats.outliers_influence import variance_inflation_factor\n",
    "num_cols = mod.exog.shape[1] \n",
    "vifs = [variance_inflation_factor(mod.exog, i)\n",
    "        for i in range(0, num_cols)]\n",
    "pd.DataFrame(vifs, index=mod.exog_names, columns=[\"VIF\"])"
   ]
  }
 ],
 "metadata": {
  "kernelspec": {
   "display_name": "Python 3 (ipykernel)",
   "language": "python",
   "name": "python3"
  },
  "language_info": {
   "codemirror_mode": {
    "name": "ipython",
    "version": 3
   },
   "file_extension": ".py",
   "mimetype": "text/x-python",
   "name": "python",
   "nbconvert_exporter": "python",
   "pygments_lexer": "ipython3",
   "version": "3.8.16"
  }
 },
 "nbformat": 4,
 "nbformat_minor": 2
}
