{
 "cells": [
  {
   "cell_type": "code",
   "execution_count": 1,
   "id": "c9768df1",
   "metadata": {},
   "outputs": [],
   "source": [
    "#Cell_1.\n",
    "import numpy as np\n",
    "import pandas as pd\n",
    "import matplotlib.pyplot as plt\n",
    "import seaborn as sns\n",
    "import statsmodels.api as sm\n",
    "import statsmodels.formula.api as smf\n",
    "from sklearn.preprocessing import scale\n",
    "from sklearn.metrics import mean_squared_error\n",
    "import re"
   ]
  },
  {
   "cell_type": "code",
   "execution_count": 2,
   "id": "51998427",
   "metadata": {},
   "outputs": [],
   "source": [
    "#Cell_2.\n",
    "pd.options.display.max_rows = 999\n",
    "pd.options.display.max_columns = 999"
   ]
  },
  {
   "cell_type": "code",
   "execution_count": 3,
   "id": "1c94d64e",
   "metadata": {},
   "outputs": [
    {
     "name": "stdout",
     "output_type": "stream",
     "text": [
      "(15, 3)\n",
      "<class 'pandas.core.frame.DataFrame'>\n",
      "RangeIndex: 15 entries, 0 to 14\n",
      "Data columns (total 3 columns):\n",
      " #   Column  Non-Null Count  Dtype\n",
      "---  ------  --------------  -----\n",
      " 0   TIME    15 non-null     int64\n",
      " 1   PUBS    15 non-null     int64\n",
      " 2   SALARY  15 non-null     int64\n",
      "dtypes: int64(3)\n",
      "memory usage: 488.0 bytes\n",
      "None\n"
     ]
    },
    {
     "data": {
      "text/html": [
       "<div>\n",
       "<style scoped>\n",
       "    .dataframe tbody tr th:only-of-type {\n",
       "        vertical-align: middle;\n",
       "    }\n",
       "\n",
       "    .dataframe tbody tr th {\n",
       "        vertical-align: top;\n",
       "    }\n",
       "\n",
       "    .dataframe thead th {\n",
       "        text-align: right;\n",
       "    }\n",
       "</style>\n",
       "<table border=\"1\" class=\"dataframe\">\n",
       "  <thead>\n",
       "    <tr style=\"text-align: right;\">\n",
       "      <th></th>\n",
       "      <th>TIME</th>\n",
       "      <th>PUBS</th>\n",
       "      <th>SALARY</th>\n",
       "    </tr>\n",
       "  </thead>\n",
       "  <tbody>\n",
       "    <tr>\n",
       "      <th>0</th>\n",
       "      <td>3</td>\n",
       "      <td>18</td>\n",
       "      <td>51876</td>\n",
       "    </tr>\n",
       "    <tr>\n",
       "      <th>1</th>\n",
       "      <td>6</td>\n",
       "      <td>3</td>\n",
       "      <td>54511</td>\n",
       "    </tr>\n",
       "    <tr>\n",
       "      <th>2</th>\n",
       "      <td>3</td>\n",
       "      <td>2</td>\n",
       "      <td>53425</td>\n",
       "    </tr>\n",
       "    <tr>\n",
       "      <th>3</th>\n",
       "      <td>8</td>\n",
       "      <td>17</td>\n",
       "      <td>61863</td>\n",
       "    </tr>\n",
       "    <tr>\n",
       "      <th>4</th>\n",
       "      <td>9</td>\n",
       "      <td>11</td>\n",
       "      <td>52926</td>\n",
       "    </tr>\n",
       "  </tbody>\n",
       "</table>\n",
       "</div>"
      ],
      "text/plain": [
       "   TIME  PUBS  SALARY\n",
       "0     3    18   51876\n",
       "1     6     3   54511\n",
       "2     3     2   53425\n",
       "3     8    17   61863\n",
       "4     9    11   52926"
      ]
     },
     "metadata": {},
     "output_type": "display_data"
    }
   ],
   "source": [
    "#Cell_3.\n",
    "csv_in = 'salary_1.csv'\n",
    "df = pd.read_csv(csv_in, sep=',', skiprows=0, header=0)\n",
    "print(df.shape)\n",
    "print(df.info())\n",
    "display(df.head())"
   ]
  },
  {
   "cell_type": "code",
   "execution_count": 5,
   "id": "594425ea",
   "metadata": {},
   "outputs": [
    {
     "data": {
      "text/html": [
       "<div>\n",
       "<style scoped>\n",
       "    .dataframe tbody tr th:only-of-type {\n",
       "        vertical-align: middle;\n",
       "    }\n",
       "\n",
       "    .dataframe tbody tr th {\n",
       "        vertical-align: top;\n",
       "    }\n",
       "\n",
       "    .dataframe thead th {\n",
       "        text-align: right;\n",
       "    }\n",
       "</style>\n",
       "<table border=\"1\" class=\"dataframe\">\n",
       "  <thead>\n",
       "    <tr style=\"text-align: right;\">\n",
       "      <th></th>\n",
       "      <th>TIME</th>\n",
       "      <th>PUBS</th>\n",
       "      <th>SALARY</th>\n",
       "    </tr>\n",
       "  </thead>\n",
       "  <tbody>\n",
       "    <tr>\n",
       "      <th>count</th>\n",
       "      <td>15.000000</td>\n",
       "      <td>15.000000</td>\n",
       "      <td>15.000000</td>\n",
       "    </tr>\n",
       "    <tr>\n",
       "      <th>mean</th>\n",
       "      <td>7.666667</td>\n",
       "      <td>19.933333</td>\n",
       "      <td>53045.600000</td>\n",
       "    </tr>\n",
       "    <tr>\n",
       "      <th>std</th>\n",
       "      <td>4.577377</td>\n",
       "      <td>13.822687</td>\n",
       "      <td>7889.768146</td>\n",
       "    </tr>\n",
       "    <tr>\n",
       "      <th>min</th>\n",
       "      <td>2.000000</td>\n",
       "      <td>2.000000</td>\n",
       "      <td>39115.000000</td>\n",
       "    </tr>\n",
       "    <tr>\n",
       "      <th>25%</th>\n",
       "      <td>5.000000</td>\n",
       "      <td>9.500000</td>\n",
       "      <td>47250.500000</td>\n",
       "    </tr>\n",
       "    <tr>\n",
       "      <th>50%</th>\n",
       "      <td>6.000000</td>\n",
       "      <td>18.000000</td>\n",
       "      <td>52926.000000</td>\n",
       "    </tr>\n",
       "    <tr>\n",
       "      <th>75%</th>\n",
       "      <td>9.500000</td>\n",
       "      <td>28.500000</td>\n",
       "      <td>60388.500000</td>\n",
       "    </tr>\n",
       "    <tr>\n",
       "      <th>max</th>\n",
       "      <td>18.000000</td>\n",
       "      <td>48.000000</td>\n",
       "      <td>66432.000000</td>\n",
       "    </tr>\n",
       "  </tbody>\n",
       "</table>\n",
       "</div>"
      ],
      "text/plain": [
       "            TIME       PUBS        SALARY\n",
       "count  15.000000  15.000000     15.000000\n",
       "mean    7.666667  19.933333  53045.600000\n",
       "std     4.577377  13.822687   7889.768146\n",
       "min     2.000000   2.000000  39115.000000\n",
       "25%     5.000000   9.500000  47250.500000\n",
       "50%     6.000000  18.000000  52926.000000\n",
       "75%     9.500000  28.500000  60388.500000\n",
       "max    18.000000  48.000000  66432.000000"
      ]
     },
     "metadata": {},
     "output_type": "display_data"
    }
   ],
   "source": [
    "#Cell_4.\n",
    "display(df.describe())\n",
    "#display(df.describe(exclude='number'))"
   ]
  },
  {
   "cell_type": "code",
   "execution_count": 6,
   "id": "e6d1ab53",
   "metadata": {},
   "outputs": [
    {
     "name": "stdout",
     "output_type": "stream",
     "text": [
      "X: (15, 2)\n"
     ]
    },
    {
     "data": {
      "text/html": [
       "<div>\n",
       "<style scoped>\n",
       "    .dataframe tbody tr th:only-of-type {\n",
       "        vertical-align: middle;\n",
       "    }\n",
       "\n",
       "    .dataframe tbody tr th {\n",
       "        vertical-align: top;\n",
       "    }\n",
       "\n",
       "    .dataframe thead th {\n",
       "        text-align: right;\n",
       "    }\n",
       "</style>\n",
       "<table border=\"1\" class=\"dataframe\">\n",
       "  <thead>\n",
       "    <tr style=\"text-align: right;\">\n",
       "      <th></th>\n",
       "      <th>TIME</th>\n",
       "      <th>PUBS</th>\n",
       "    </tr>\n",
       "  </thead>\n",
       "  <tbody>\n",
       "    <tr>\n",
       "      <th>0</th>\n",
       "      <td>3</td>\n",
       "      <td>18</td>\n",
       "    </tr>\n",
       "    <tr>\n",
       "      <th>1</th>\n",
       "      <td>6</td>\n",
       "      <td>3</td>\n",
       "    </tr>\n",
       "    <tr>\n",
       "      <th>2</th>\n",
       "      <td>3</td>\n",
       "      <td>2</td>\n",
       "    </tr>\n",
       "    <tr>\n",
       "      <th>3</th>\n",
       "      <td>8</td>\n",
       "      <td>17</td>\n",
       "    </tr>\n",
       "    <tr>\n",
       "      <th>4</th>\n",
       "      <td>9</td>\n",
       "      <td>11</td>\n",
       "    </tr>\n",
       "  </tbody>\n",
       "</table>\n",
       "</div>"
      ],
      "text/plain": [
       "   TIME  PUBS\n",
       "0     3    18\n",
       "1     6     3\n",
       "2     3     2\n",
       "3     8    17\n",
       "4     9    11"
      ]
     },
     "metadata": {},
     "output_type": "display_data"
    },
    {
     "name": "stdout",
     "output_type": "stream",
     "text": [
      "y: (15,)\n",
      "0    51876\n",
      "1    54511\n",
      "2    53425\n",
      "3    61863\n",
      "4    52926\n",
      "Name: SALARY, dtype: int64\n"
     ]
    }
   ],
   "source": [
    "#Cell_5.\n",
    "X = df.drop(columns='SALARY')  # explanatory variables, 2D\n",
    "y = df['SALARY']  # objective variable, 1D\n",
    "print('X:', X.shape)\n",
    "display(X.head())\n",
    "print('y:', y.shape)\n",
    "print(y.head())"
   ]
  },
  {
   "cell_type": "code",
   "execution_count": 7,
   "id": "8341f146",
   "metadata": {},
   "outputs": [
    {
     "name": "stdout",
     "output_type": "stream",
     "text": [
      "                            OLS Regression Results                            \n",
      "==============================================================================\n",
      "Dep. Variable:                 SALARY   R-squared:                       0.530\n",
      "Model:                            OLS   Adj. R-squared:                  0.452\n",
      "Method:                 Least Squares   F-statistic:                     6.780\n",
      "Date:                Fri, 15 Sep 2023   Prob (F-statistic):             0.0107\n",
      "Time:                        16:33:05   Log-Likelihood:                -149.70\n",
      "No. Observations:                  15   AIC:                             305.4\n",
      "Df Residuals:                      12   BIC:                             307.5\n",
      "Df Model:                           2                                         \n",
      "Covariance Type:            nonrobust                                         \n",
      "==============================================================================\n",
      "                 coef    std err          t      P>|t|      [0.025      0.975]\n",
      "------------------------------------------------------------------------------\n",
      "const       4.308e+04   3099.493     13.900      0.000    3.63e+04    4.98e+04\n",
      "TIME         982.8668    452.057      2.174      0.050      -2.081    1967.815\n",
      "PUBS         121.8007    149.699      0.814      0.432    -204.364     447.966\n",
      "==============================================================================\n",
      "Omnibus:                        0.781   Durbin-Watson:                   1.207\n",
      "Prob(Omnibus):                  0.677   Jarque-Bera (JB):                0.307\n",
      "Skew:                          -0.345   Prob(JB):                        0.858\n",
      "Kurtosis:                       2.874   Cond. No.                         52.2\n",
      "==============================================================================\n",
      "\n",
      "Notes:\n",
      "[1] Standard Errors assume that the covariance matrix of the errors is correctly specified.\n"
     ]
    },
    {
     "name": "stderr",
     "output_type": "stream",
     "text": [
      "C:\\Users\\honda\\miniconda3\\envs\\ds2023\\lib\\site-packages\\scipy\\stats\\stats.py:1541: UserWarning: kurtosistest only valid for n>=20 ... continuing anyway, n=15\n",
      "  warnings.warn(\"kurtosistest only valid for n>=20 ... continuing \"\n"
     ]
    }
   ],
   "source": [
    "#Cell_9.\n",
    "X_dumm_c = sm.add_constant(X)\n",
    "model = sm.OLS(y, X_dumm_c)\n",
    "results = model.fit()\n",
    "print(results.summary())"
   ]
  },
  {
   "cell_type": "code",
   "execution_count": 8,
   "id": "b28734c0",
   "metadata": {},
   "outputs": [
    {
     "name": "stdout",
     "output_type": "stream",
     "text": [
      "R2: 0.5304995938654207\n",
      "Adj R2: 0.4522495261763241\n"
     ]
    }
   ],
   "source": [
    "#Cell_10.\n",
    "print('R2:', results.rsquared)\n",
    "print('Adj R2:', results.rsquared_adj)"
   ]
  },
  {
   "cell_type": "code",
   "execution_count": 9,
   "id": "57c5bd65",
   "metadata": {},
   "outputs": [
    {
     "name": "stdout",
     "output_type": "stream",
     "text": [
      "const    43082.393974\n",
      "TIME       982.866799\n",
      "PUBS       121.800697\n",
      "dtype: float64\n"
     ]
    }
   ],
   "source": [
    "#Cell_11.\n",
    "print(results.params)"
   ]
  },
  {
   "cell_type": "code",
   "execution_count": 11,
   "id": "3fe54032",
   "metadata": {},
   "outputs": [],
   "source": [
    "#Cell_12.\n",
    "X_scaled_ar = scale(X)\n",
    "y_scaled_ar = scale(y)"
   ]
  },
  {
   "cell_type": "code",
   "execution_count": 13,
   "id": "414bc21a",
   "metadata": {},
   "outputs": [
    {
     "name": "stdout",
     "output_type": "stream",
     "text": [
      "                                 OLS Regression Results                                \n",
      "=======================================================================================\n",
      "Dep. Variable:                 SALARY   R-squared (uncentered):                   0.530\n",
      "Model:                            OLS   Adj. R-squared (uncentered):              0.458\n",
      "Method:                 Least Squares   F-statistic:                              7.345\n",
      "Date:                Fri, 15 Sep 2023   Prob (F-statistic):                     0.00734\n",
      "Time:                        16:33:28   Log-Likelihood:                         -15.613\n",
      "No. Observations:                  15   AIC:                                      35.23\n",
      "Df Residuals:                      13   BIC:                                      36.64\n",
      "Df Model:                           2                                                  \n",
      "Covariance Type:            nonrobust                                                  \n",
      "==============================================================================\n",
      "                 coef    std err          t      P>|t|      [0.025      0.975]\n",
      "------------------------------------------------------------------------------\n",
      "TIME           0.5702      0.252      2.263      0.041       0.026       1.115\n",
      "PUBS           0.2134      0.252      0.847      0.412      -0.331       0.758\n",
      "==============================================================================\n",
      "Omnibus:                        0.781   Durbin-Watson:                   1.207\n",
      "Prob(Omnibus):                  0.677   Jarque-Bera (JB):                0.307\n",
      "Skew:                          -0.345   Prob(JB):                        0.858\n",
      "Kurtosis:                       2.874   Cond. No.                         2.20\n",
      "==============================================================================\n",
      "\n",
      "Notes:\n",
      "[1] R² is computed without centering (uncentered) since the model does not contain a constant.\n",
      "[2] Standard Errors assume that the covariance matrix of the errors is correctly specified.\n"
     ]
    },
    {
     "name": "stderr",
     "output_type": "stream",
     "text": [
      "C:\\Users\\honda\\miniconda3\\envs\\ds2023\\lib\\site-packages\\scipy\\stats\\stats.py:1541: UserWarning: kurtosistest only valid for n>=20 ... continuing anyway, n=15\n",
      "  warnings.warn(\"kurtosistest only valid for n>=20 ... continuing \"\n"
     ]
    }
   ],
   "source": [
    "#Cell_13.\n",
    "# NOTE: make DataFrames corresponding to X_scaled and y_scaled.\n",
    "X_scaled = pd.DataFrame(X_scaled_ar, columns=X.columns)\n",
    "y_scaled = pd.Series(y_scaled_ar, name=y.name)\n",
    "model = sm.OLS(y_scaled, X_scaled)\n",
    "results_scaled = model.fit()\n",
    "print(results_scaled.summary())"
   ]
  },
  {
   "cell_type": "code",
   "execution_count": 14,
   "id": "59c0c303",
   "metadata": {},
   "outputs": [
    {
     "name": "stdout",
     "output_type": "stream",
     "text": [
      "TIME    0.570226\n",
      "PUBS    0.213392\n",
      "dtype: float64\n"
     ]
    }
   ],
   "source": [
    "#Cell_14.\n",
    "print(results_scaled.params.sort_values(key=np.abs, ascending=False))"
   ]
  },
  {
   "cell_type": "code",
   "execution_count": 16,
   "id": "8ecf9e12",
   "metadata": {},
   "outputs": [
    {
     "name": "stdout",
     "output_type": "stream",
     "text": [
      "X for prediction:\n"
     ]
    },
    {
     "data": {
      "text/html": [
       "<div>\n",
       "<style scoped>\n",
       "    .dataframe tbody tr th:only-of-type {\n",
       "        vertical-align: middle;\n",
       "    }\n",
       "\n",
       "    .dataframe tbody tr th {\n",
       "        vertical-align: top;\n",
       "    }\n",
       "\n",
       "    .dataframe thead th {\n",
       "        text-align: right;\n",
       "    }\n",
       "</style>\n",
       "<table border=\"1\" class=\"dataframe\">\n",
       "  <thead>\n",
       "    <tr style=\"text-align: right;\">\n",
       "      <th></th>\n",
       "      <th>TIME</th>\n",
       "      <th>PUBS</th>\n",
       "    </tr>\n",
       "  </thead>\n",
       "  <tbody>\n",
       "    <tr>\n",
       "      <th>0</th>\n",
       "      <td>6</td>\n",
       "      <td>10</td>\n",
       "    </tr>\n",
       "    <tr>\n",
       "      <th>1</th>\n",
       "      <td>15</td>\n",
       "      <td>15</td>\n",
       "    </tr>\n",
       "  </tbody>\n",
       "</table>\n",
       "</div>"
      ],
      "text/plain": [
       "   TIME  PUBS\n",
       "0     6    10\n",
       "1    15    15"
      ]
     },
     "metadata": {},
     "output_type": "display_data"
    }
   ],
   "source": [
    "#Cell_15.\n",
    "X_test = pd.DataFrame([[6, 10],\n",
    "                       [15, 15],\n",
    "                        ],\n",
    "                        columns=X.columns)  # example\n",
    "print('X for prediction:')\n",
    "display(X_test)"
   ]
  },
  {
   "cell_type": "code",
   "execution_count": 17,
   "id": "b1ff6f9e",
   "metadata": {},
   "outputs": [
    {
     "name": "stdout",
     "output_type": "stream",
     "text": [
      "Predicted y:\n",
      "0    50197.601742\n",
      "1    59652.406421\n",
      "dtype: float64\n"
     ]
    }
   ],
   "source": [
    "#Cell_16.\n",
    "X_test_c = sm.add_constant(X_test)\n",
    "y_test = results.predict(X_test_c)\n",
    "print('Predicted y:')\n",
    "print(y_test)"
   ]
  },
  {
   "cell_type": "code",
   "execution_count": 18,
   "id": "b762d6c6",
   "metadata": {},
   "outputs": [
    {
     "name": "stdout",
     "output_type": "stream",
     "text": [
      "Predicted y:\n",
      "0    48223.406923\n",
      "1    49344.996861\n",
      "2    46274.595766\n",
      "3    53015.940221\n",
      "4    53268.002837\n",
      "dtype: float64\n"
     ]
    }
   ],
   "source": [
    "#Cell_17.\n",
    "y_pred = results.predict(X_dumm_c)\n",
    "print('Predicted y:')\n",
    "print(y_pred.head())"
   ]
  },
  {
   "cell_type": "code",
   "execution_count": 19,
   "id": "2e6aaee8",
   "metadata": {},
   "outputs": [],
   "source": [
    "#Cell_18.\n",
    "y_min = np.append(y_pred, y).min()\n",
    "y_max = np.append(y_pred, y).max()\n",
    "y_margin = (y_max - y_min) * 0.1\n",
    "y_min -= y_margin\n",
    "y_max += y_margin"
   ]
  },
  {
   "cell_type": "code",
   "execution_count": 20,
   "id": "b7dbfd6b",
   "metadata": {},
   "outputs": [
    {
     "data": {
      "image/png": "[encoded data removed]",
      "text/plain": [
       "<Figure size 640x480 with 1 Axes>"
      ]
     },
     "metadata": {},
     "output_type": "display_data"
    }
   ],
   "source": [
    "#Cell_19.\n",
    "plt.scatter(y_pred, y, alpha=0.3)\n",
    "plt.plot([y_min,y_max], [y_min,y_max])\n",
    "plt.gca().set_aspect('equal', adjustable='box')\n",
    "plt.xlim(y_min, y_max)\n",
    "plt.ylim(y_min, y_max)\n",
    "plt.xlabel('Pred')\n",
    "plt.ylabel('True')\n",
    "plt.show()"
   ]
  },
  {
   "cell_type": "code",
   "execution_count": 21,
   "id": "0ab10074",
   "metadata": {},
   "outputs": [
    {
     "name": "stdout",
     "output_type": "stream",
     "text": [
      "MSE, RMSE: 27277290.61730825 5222.766567376743\n"
     ]
    }
   ],
   "source": [
    "#Cell_20.\n",
    "mse = mean_squared_error(y, y_pred)\n",
    "print('MSE, RMSE:', mse, np.sqrt(mse))"
   ]
  },
  {
   "cell_type": "markdown",
   "id": "e981987f",
   "metadata": {},
   "source": [
    "# 以上がCS3の内容。ここから変数選択等を行う。"
   ]
  },
  {
   "cell_type": "code",
   "execution_count": 22,
   "id": "098109e5",
   "metadata": {},
   "outputs": [
    {
     "data": {
      "text/html": [
       "<div>\n",
       "<style scoped>\n",
       "    .dataframe tbody tr th:only-of-type {\n",
       "        vertical-align: middle;\n",
       "    }\n",
       "\n",
       "    .dataframe tbody tr th {\n",
       "        vertical-align: top;\n",
       "    }\n",
       "\n",
       "    .dataframe thead th {\n",
       "        text-align: right;\n",
       "    }\n",
       "</style>\n",
       "<table border=\"1\" class=\"dataframe\">\n",
       "  <thead>\n",
       "    <tr style=\"text-align: right;\">\n",
       "      <th></th>\n",
       "      <th>TIME</th>\n",
       "      <th>PUBS</th>\n",
       "      <th>SALARY</th>\n",
       "    </tr>\n",
       "  </thead>\n",
       "  <tbody>\n",
       "    <tr>\n",
       "      <th>0</th>\n",
       "      <td>-1.055290</td>\n",
       "      <td>-0.144776</td>\n",
       "      <td>-0.153446</td>\n",
       "    </tr>\n",
       "    <tr>\n",
       "      <th>1</th>\n",
       "      <td>-0.376889</td>\n",
       "      <td>-1.268036</td>\n",
       "      <td>0.192253</td>\n",
       "    </tr>\n",
       "    <tr>\n",
       "      <th>2</th>\n",
       "      <td>-1.055290</td>\n",
       "      <td>-1.342920</td>\n",
       "      <td>0.049775</td>\n",
       "    </tr>\n",
       "    <tr>\n",
       "      <th>3</th>\n",
       "      <td>0.075378</td>\n",
       "      <td>-0.219660</td>\n",
       "      <td>1.156799</td>\n",
       "    </tr>\n",
       "    <tr>\n",
       "      <th>4</th>\n",
       "      <td>0.301511</td>\n",
       "      <td>-0.668964</td>\n",
       "      <td>-0.015691</td>\n",
       "    </tr>\n",
       "  </tbody>\n",
       "</table>\n",
       "</div>"
      ],
      "text/plain": [
       "       TIME      PUBS    SALARY\n",
       "0 -1.055290 -0.144776 -0.153446\n",
       "1 -0.376889 -1.268036  0.192253\n",
       "2 -1.055290 -1.342920  0.049775\n",
       "3  0.075378 -0.219660  1.156799\n",
       "4  0.301511 -0.668964 -0.015691"
      ]
     },
     "metadata": {},
     "output_type": "display_data"
    }
   ],
   "source": [
    "#Cell_21.\n",
    "#標準化して変数選択\n",
    "d_scaled=pd.concat([X_scaled,y_scaled],axis=1)\n",
    "display(d_scaled.head())"
   ]
  },
  {
   "cell_type": "code",
   "execution_count": 23,
   "id": "ddf10544",
   "metadata": {},
   "outputs": [],
   "source": [
    "#Cell_22.\n",
    "# forward method for variable selection based on AIC.\n",
    "# Stepwise feature selection method (forward); 変数増加法による変数選択\n",
    "def step_aic_forward(model, exog, endog, **kwargs):\n",
    "    '''\n",
    "    This function calculates the best subset of explanatory (exogenous) variables based on AIC.\n",
    "    Both exog and endog can be either str or list.\n",
    "\n",
    "    Arguments:\n",
    "        model: model from statsmodels.formula.api\n",
    "        exog (str or list): explanatory (exogenous) variables\n",
    "        endog (str or list): objective (endogenous) variables\n",
    "        kwargs: additional keyword argments for model (data, family, ...)\n",
    "\n",
    "    Return values:\n",
    "        model: a model with the smallest AIC\n",
    "    '''\n",
    "    \n",
    "    # Convert exog, endog into 1-d list\n",
    "    exog = np.r_[[exog]].flatten()\n",
    "    endog = np.r_[[endog]].flatten()\n",
    "    remaining = set(exog)\n",
    "    selected = []  # Selected exogenous variables\n",
    "\n",
    "    # First, calculate AIC with a constant (no exogs)\n",
    "    formula_head = 'Q(\"' + '\") + Q(\"'.join(endog) + '\") ~ '\n",
    "    formula = formula_head + '1'\n",
    "    aic = model(formula=formula, **kwargs).fit().aic\n",
    "    print('AIC: {:.3f}, formula: {}'.format(aic, formula))\n",
    "\n",
    "    current_score, best_new_score = aic, aic\n",
    "\n",
    "    # Break loop if all exogs are selected or no remaining exogs can improve AIC\n",
    "    while True:\n",
    "        score_with_candidates = []\n",
    "        for candidate in remaining:\n",
    "            # Calculate AIC for adding an exog one by one\n",
    "            formula_tail = 'Q(\"' + '\") + Q(\"'.join(selected + [candidate]) + '\")'\n",
    "            formula = formula_head + formula_tail\n",
    "            aic = model(formula=formula, **kwargs).fit().aic\n",
    "            print('AIC: {:.3f}, formula: {}'.format(aic, formula))\n",
    "\n",
    "            score_with_candidates.append((aic, candidate))\n",
    "\n",
    "        # Select best_candidate with minimum AIC\n",
    "        score_with_candidates.sort()\n",
    "        best_score, best_candidate = score_with_candidates[0]\n",
    "\n",
    "        # select best_candidate if AIC is improved\n",
    "        improved = False\n",
    "        if best_score < current_score:\n",
    "            remaining.remove(best_candidate)\n",
    "            selected.append(best_candidate)\n",
    "            current_score = best_score\n",
    "            improved = True\n",
    "            \n",
    "        if not remaining or not improved: break\n",
    "\n",
    "    formula = formula_head + 'Q(\"' + '\") + Q(\"'.join(selected) + '\")'\n",
    "    print('The best formula: {}'.format(formula))\n",
    "    aic = model(formula=formula, **kwargs).fit().aic\n",
    "    print('Minimum AIC: {:.3f}'.format(aic))\n",
    "    \n",
    "    ret = model(formula, **kwargs).fit()\n",
    "    ret.model.exog_names_org = [re.sub(r'Q\\(\\\"(.*)\\\"\\)',r'\\1',x) for x in list(ret.model.exog_names)]\n",
    "    ret.model.endog_names_org = re.sub(r'Q\\(\\\"(.*)\\\"\\)',r'\\1',ret.model.endog_names)\n",
    "    return ret"
   ]
  },
  {
   "cell_type": "code",
   "execution_count": 24,
   "id": "562a4e4e",
   "metadata": {},
   "outputs": [
    {
     "name": "stdout",
     "output_type": "stream",
     "text": [
      "AIC: 44.568, formula: Q(\"SALARY\") ~ 1\n",
      "AIC: 36.032, formula: Q(\"SALARY\") ~ Q(\"TIME\")\n",
      "AIC: 40.209, formula: Q(\"SALARY\") ~ Q(\"PUBS\")\n",
      "AIC: 37.227, formula: Q(\"SALARY\") ~ Q(\"TIME\") + Q(\"PUBS\")\n",
      "The best formula: Q(\"SALARY\") ~ Q(\"TIME\")\n",
      "Minimum AIC: 36.032\n"
     ]
    }
   ],
   "source": [
    "#Cell_23.\n",
    "#変数選択を実行\n",
    "\n",
    "header_y = y_scaled.name\n",
    "header_x = X_scaled.columns\n",
    "model = step_aic_forward(smf.ols, header_x,header_y, data=d_scaled)"
   ]
  },
  {
   "cell_type": "code",
   "execution_count": 25,
   "id": "22c675e4",
   "metadata": {},
   "outputs": [
    {
     "name": "stdout",
     "output_type": "stream",
     "text": [
      "                                 OLS Regression Results                                \n",
      "=======================================================================================\n",
      "Dep. Variable:                 SALARY   R-squared (uncentered):                   0.505\n",
      "Model:                            OLS   Adj. R-squared (uncentered):              0.469\n",
      "Method:                 Least Squares   F-statistic:                              14.26\n",
      "Date:                Fri, 15 Sep 2023   Prob (F-statistic):                     0.00204\n",
      "Time:                        16:35:27   Log-Likelihood:                         -16.016\n",
      "No. Observations:                  15   AIC:                                      34.03\n",
      "Df Residuals:                      14   BIC:                                      34.74\n",
      "Df Model:                           1                                                  \n",
      "Covariance Type:            nonrobust                                                  \n",
      "==============================================================================\n",
      "                 coef    std err          t      P>|t|      [0.025      0.975]\n",
      "------------------------------------------------------------------------------\n",
      "TIME           0.7104      0.188      3.776      0.002       0.307       1.114\n",
      "==============================================================================\n",
      "Omnibus:                        2.083   Durbin-Watson:                   1.540\n",
      "Prob(Omnibus):                  0.353   Jarque-Bera (JB):                0.920\n",
      "Skew:                          -0.604   Prob(JB):                        0.631\n",
      "Kurtosis:                       3.104   Cond. No.                         1.00\n",
      "==============================================================================\n",
      "\n",
      "Notes:\n",
      "[1] R² is computed without centering (uncentered) since the model does not contain a constant.\n",
      "[2] Standard Errors assume that the covariance matrix of the errors is correctly specified.\n"
     ]
    },
    {
     "name": "stderr",
     "output_type": "stream",
     "text": [
      "C:\\Users\\honda\\miniconda3\\envs\\ds2023\\lib\\site-packages\\scipy\\stats\\stats.py:1541: UserWarning: kurtosistest only valid for n>=20 ... continuing anyway, n=15\n",
      "  warnings.warn(\"kurtosistest only valid for n>=20 ... continuing \"\n"
     ]
    }
   ],
   "source": [
    "#Cell_24.\n",
    "#選択された説明変数のみで標準化重回帰分析\n",
    "#reasonなし\n",
    "X_scaled2 = X_scaled[['TIME']]\n",
    "\n",
    "import statsmodels.api as sm\n",
    "mod2 = sm.OLS(y_scaled,X_scaled2)\n",
    "res2 = mod2.fit()\n",
    "print(res2.summary())"
   ]
  },
  {
   "cell_type": "code",
   "execution_count": 28,
   "id": "0f49cb35",
   "metadata": {},
   "outputs": [],
   "source": [
    "#VIFチェックは不要。"
   ]
  },
  {
   "cell_type": "code",
   "execution_count": 27,
   "id": "b330195f",
   "metadata": {},
   "outputs": [
    {
     "name": "stdout",
     "output_type": "stream",
     "text": [
      "                            OLS Regression Results                            \n",
      "==============================================================================\n",
      "Dep. Variable:                 SALARY   R-squared:                       0.505\n",
      "Model:                            OLS   Adj. R-squared:                  0.466\n",
      "Method:                 Least Squares   F-statistic:                     13.24\n",
      "Date:                Fri, 15 Sep 2023   Prob (F-statistic):            0.00300\n",
      "Time:                        16:36:19   Log-Likelihood:                -150.10\n",
      "No. Observations:                  15   AIC:                             304.2\n",
      "Df Residuals:                      13   BIC:                             305.6\n",
      "Df Model:                           1                                         \n",
      "Covariance Type:            nonrobust                                         \n",
      "==============================================================================\n",
      "                 coef    std err          t      P>|t|      [0.025      0.975]\n",
      "------------------------------------------------------------------------------\n",
      "const       4.366e+04   2978.022     14.660      0.000    3.72e+04    5.01e+04\n",
      "TIME        1224.3920    336.476      3.639      0.003     497.479    1951.305\n",
      "==============================================================================\n",
      "Omnibus:                        2.083   Durbin-Watson:                   1.540\n",
      "Prob(Omnibus):                  0.353   Jarque-Bera (JB):                0.920\n",
      "Skew:                          -0.604   Prob(JB):                        0.631\n",
      "Kurtosis:                       3.104   Cond. No.                         17.9\n",
      "==============================================================================\n",
      "\n",
      "Notes:\n",
      "[1] Standard Errors assume that the covariance matrix of the errors is correctly specified.\n"
     ]
    },
    {
     "name": "stderr",
     "output_type": "stream",
     "text": [
      "C:\\Users\\honda\\miniconda3\\envs\\ds2023\\lib\\site-packages\\scipy\\stats\\stats.py:1541: UserWarning: kurtosistest only valid for n>=20 ... continuing anyway, n=15\n",
      "  warnings.warn(\"kurtosistest only valid for n>=20 ... continuing \"\n"
     ]
    }
   ],
   "source": [
    "#Cell_27.\n",
    "#標準化する前のデータフレームで重回帰分析。これが最終モデル。\n",
    "X_final = X[['TIME']]\n",
    "\n",
    "mod_final = sm.OLS(y, sm.add_constant(X_final))\n",
    "res_final = mod_final.fit()\n",
    "print(res_final.summary())"
   ]
  },
  {
   "cell_type": "code",
   "execution_count": 30,
   "id": "d738d792",
   "metadata": {},
   "outputs": [],
   "source": [
    "#以下では、最終モデルについて、信頼区間、予測区間を算出。"
   ]
  },
  {
   "cell_type": "code",
   "execution_count": 28,
   "id": "a8bc9998",
   "metadata": {},
   "outputs": [],
   "source": [
    "#Cell_28.\n",
    "#Variance-covariance matrix.\n",
    "Sigma = np.asmatrix(X_final.cov())"
   ]
  },
  {
   "cell_type": "code",
   "execution_count": 29,
   "id": "1bb65309",
   "metadata": {},
   "outputs": [],
   "source": [
    "#Cell_29.\n",
    "def Mahala2(vec_x, vec_mean, mat):\n",
    "    length = mat.shape[0]\n",
    "    vec_x = np.array(vec_x, dtype='float64')\n",
    "    vec = np.asmatrix((vec_x - vec_mean).values.reshape(length, 1))\n",
    "    inv = np.linalg.inv(mat)\n",
    "    mahala2 = vec.T.dot(inv.dot(vec))\n",
    "    return mahala2[0, 0]"
   ]
  },
  {
   "cell_type": "code",
   "execution_count": 30,
   "id": "c2f206ab",
   "metadata": {},
   "outputs": [
    {
     "name": "stdout",
     "output_type": "stream",
     "text": [
      "TIME    7.666667\n",
      "dtype: float64\n"
     ]
    }
   ],
   "source": [
    "#Cell_30.\n",
    "import scipy.stats as ss\n",
    "n = len(X_final) # 標本数. Sample size.\n",
    "dfm = res_final.df_model # 独立変数の数（モデルの自由度）．　Number of IVs (Model degrees of freedom). \n",
    "t_0025 = ss.t.isf(q=0.05/2, df=n-dfm-1) # 自由度 n-dfm-1のt分布の上側2.5パーセント点(= ss.t.ppf(q=0.975, df=n-dfm-1))\n",
    "vec_mean = X_final.mean() # 独立変数の平均を求める　Find average of independent variables\n",
    "print(vec_mean)"
   ]
  },
  {
   "cell_type": "code",
   "execution_count": 31,
   "id": "0862c670",
   "metadata": {},
   "outputs": [
    {
     "data": {
      "text/html": [
       "<div>\n",
       "<style scoped>\n",
       "    .dataframe tbody tr th:only-of-type {\n",
       "        vertical-align: middle;\n",
       "    }\n",
       "\n",
       "    .dataframe tbody tr th {\n",
       "        vertical-align: top;\n",
       "    }\n",
       "\n",
       "    .dataframe thead th {\n",
       "        text-align: right;\n",
       "    }\n",
       "</style>\n",
       "<table border=\"1\" class=\"dataframe\">\n",
       "  <thead>\n",
       "    <tr style=\"text-align: right;\">\n",
       "      <th></th>\n",
       "      <th>TIME</th>\n",
       "    </tr>\n",
       "  </thead>\n",
       "  <tbody>\n",
       "    <tr>\n",
       "      <th>0</th>\n",
       "      <td>3</td>\n",
       "    </tr>\n",
       "    <tr>\n",
       "      <th>1</th>\n",
       "      <td>6</td>\n",
       "    </tr>\n",
       "    <tr>\n",
       "      <th>2</th>\n",
       "      <td>3</td>\n",
       "    </tr>\n",
       "    <tr>\n",
       "      <th>3</th>\n",
       "      <td>8</td>\n",
       "    </tr>\n",
       "    <tr>\n",
       "      <th>4</th>\n",
       "      <td>9</td>\n",
       "    </tr>\n",
       "  </tbody>\n",
       "</table>\n",
       "</div>"
      ],
      "text/plain": [
       "   TIME\n",
       "0     3\n",
       "1     6\n",
       "2     3\n",
       "3     8\n",
       "4     9"
      ]
     },
     "metadata": {},
     "output_type": "display_data"
    }
   ],
   "source": [
    "#Cell_31.\n",
    "display(X_final.head())"
   ]
  },
  {
   "cell_type": "code",
   "execution_count": 32,
   "id": "37ae8f60",
   "metadata": {},
   "outputs": [
    {
     "name": "stdout",
     "output_type": "stream",
     "text": [
      "const    1.0\n",
      "TIME     3.0\n",
      "Name: 0, dtype: float64\n",
      "47331.770454545425\n",
      "理論値（theoretical value）: 47331.770454545425\n",
      "理論値の信頼区間（CI of theoretical value）：(42658.37379064684,52005.16711844401)\n"
     ]
    }
   ],
   "source": [
    "#Cell_32.\n",
    "#観測値に対応する従属変数の信頼区間を求める Find CI of Y on observed values\n",
    "X = sm.add_constant(X_final).iloc[0,:] \n",
    "print(X)\n",
    "hat_y=X.dot(res_final.params) # Xとresults.paramsの内積を求め従属変数の推定値を求める　Obtain estimated value of dependent variable\n",
    "print(hat_y)\n",
    "\n",
    "D2_0 = Mahala2(X_final.iloc[0,:], vec_mean, Sigma) # マハラノビス距離の二乗を求める Squared Mahalanobis distance\n",
    "\n",
    "Ve = res_final.scale #  残差変動の不偏分散． A scale factor for the covariance matrix.\n",
    "Se_o = np.sqrt((1/n + D2_0 / (n-1)) * Ve) #観測値の場合　In case of observed value\n",
    "\n",
    "ci_low = hat_y - t_0025 * Se_o# 下側信頼\n",
    "ci_up = hat_y + t_0025 * Se_o # 上側信頼\n",
    "\n",
    "print(\"理論値（theoretical value）:\", hat_y)\n",
    "print(\"理論値の信頼区間（CI of theoretical value）：({0},{1})\".format(ci_low,ci_up))"
   ]
  },
  {
   "cell_type": "code",
   "execution_count": 33,
   "id": "52e3f593",
   "metadata": {},
   "outputs": [
    {
     "name": "stdout",
     "output_type": "stream",
     "text": [
      "予測値（Predicted value）: 51004.94659090906\n",
      "予測値の信頼区間（CI of predicted value）：(38089.87579629801,63920.01738552011)\n"
     ]
    }
   ],
   "source": [
    "#Cell_33.\n",
    "#予測値（未観測値に対応する従属変数）の信頼区間を求める Find prediction interval of Y on unobserved values\n",
    "X_test2 = X_test[['TIME']] #未観測値の設定\n",
    "X = sm.add_constant(X_test2).iloc[0,:]\n",
    "#print(X)\n",
    "hat_y=X.dot(res_final.params) # Xとresults.paramsの内積を求め従属変数の推定値を求める　Obtain estimated value of dependent variable\n",
    "\n",
    "D2_0 = Mahala2(X_test2.iloc[0,:], vec_mean, Sigma) # マハラノビス距離の二乗を求める Squared Mahalanobis distance\n",
    "Se_p = np.sqrt((1 + 1/n + D2_0 / (n-1)) * Ve) #未観測値の場合　In case of unobserved value\n",
    "\n",
    "pi_low = hat_y - t_0025 * Se_p# 下側信頼\n",
    "pi_up = hat_y + t_0025 * Se_p # 上側信頼\n",
    "\n",
    "print(\"予測値（Predicted value）:\", hat_y)\n",
    "print(\"予測値の信頼区間（CI of predicted value）：({0},{1})\".format(pi_low,pi_up))"
   ]
  },
  {
   "cell_type": "code",
   "execution_count": 34,
   "id": "3aad75be",
   "metadata": {},
   "outputs": [
    {
     "data": {
      "image/png": "[encoded data removed]",
      "text/plain": [
       "<Figure size 640x480 with 1 Axes>"
      ]
     },
     "metadata": {},
     "output_type": "display_data"
    }
   ],
   "source": [
    "#Cell_34.\n",
    "x_axis = np.linspace(0, 50, 2000) \n",
    "\n",
    "#従属変数の予測値が入る変数\n",
    "hat_y = []\n",
    "\n",
    "for x in x_axis:\n",
    "    X = np.array([1,x])\n",
    "    hat_y.append(X.dot(res_final.params))# Xとresults.paramsの内積を求め従属変数の推定値を求める Obtain estimated value of dependent variable\n",
    "plt.plot(x_axis, hat_y, label=\"Predicted value\") # 予測値をプロット\n",
    "\n",
    "D2 = []\n",
    "for x in x_axis:\n",
    "    D2_0 = Mahala2([x], vec_mean, Sigma) # マハラノビス距離の二乗を求める Squared Mahalanobis distance\n",
    "    D2.append(D2_0)\n",
    "D2 = np.array(D2)\n",
    "\n",
    "Se_o = np.sqrt((1/n + D2 / (n-1)) * Ve) #観測値の場合　In case of observation value\n",
    "Se_p = np.sqrt((1 + 1/n + D2 / (n-1)) * Ve) #未観測値の場合　In case of unobserved value\n",
    "\n",
    "# 観測値に対応する従属変数の信頼区間をプロット\n",
    "plt.plot(x_axis, hat_y - t_0025 * Se_o, \"--g\", label=\"95% theoritical confidence interval\")\n",
    "plt.plot(x_axis, hat_y + t_0025 * Se_o, \"--g\")\n",
    "\n",
    "# 予測値の信頼区間をプロット\n",
    "plt.plot(x_axis, hat_y - t_0025 * Se_p, \"--r\", label=\"95% prediction interval\")\n",
    "plt.plot(x_axis, hat_y + t_0025 * Se_p, \"--r\")\n",
    "\n",
    "plt.xlabel(\"Age\")\n",
    "plt.ylabel(\"G3\")\n",
    "plt.legend()\n",
    "plt.show()"
   ]
  }
 ],
 "metadata": {
  "kernelspec": {
   "display_name": "Python 3 (ipykernel)",
   "language": "python",
   "name": "python3"
  },
  "language_info": {
   "codemirror_mode": {
    "name": "ipython",
    "version": 3
   },
   "file_extension": ".py",
   "mimetype": "text/x-python",
   "name": "python",
   "nbconvert_exporter": "python",
   "pygments_lexer": "ipython3",
   "version": "3.8.16"
  }
 },
 "nbformat": 4,
 "nbformat_minor": 5
}
