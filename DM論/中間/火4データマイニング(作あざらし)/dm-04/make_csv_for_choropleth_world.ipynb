{
 "cells": [
  {
   "cell_type": "markdown",
   "metadata": {},
   "source": [
    "### Make CSV for choropleth map of world population  "
   ]
  },
  {
   "cell_type": "markdown",
   "metadata": {},
   "source": [
    "Sample data: \n",
    "Population of world countries (世界各国の人口):  \n",
    "world_country_population.csv  \n",
    "https://data.worldbank.org/indicator/SP.POP.TOTL  "
   ]
  },
  {
   "cell_type": "markdown",
   "metadata": {},
   "source": [
    "#### Import libraries  "
   ]
  },
  {
   "cell_type": "code",
   "execution_count": null,
   "metadata": {},
   "outputs": [],
   "source": [
    "import pandas as pd"
   ]
  },
  {
   "cell_type": "markdown",
   "metadata": {},
   "source": [
    "#### Parameters  "
   ]
  },
  {
   "cell_type": "code",
   "execution_count": null,
   "metadata": {},
   "outputs": [],
   "source": [
    "csv_in = 'world_country_population.csv'\n",
    "csv_out = 'world_country_population2019.csv'\n",
    "\n",
    "pd.options.display.max_rows = 999\n",
    "pd.options.display.max_columns = 999"
   ]
  },
  {
   "cell_type": "markdown",
   "metadata": {},
   "source": [
    "#### Read CSV file  "
   ]
  },
  {
   "cell_type": "code",
   "execution_count": null,
   "metadata": {},
   "outputs": [],
   "source": [
    "df_pop = pd.read_csv(csv_in, sep=',', skiprows=4, header=0)\n",
    "print(df_pop.shape)\n",
    "print(df_pop.info())\n",
    "display(df_pop.head())\n",
    "display(df_pop.tail())"
   ]
  },
  {
   "cell_type": "markdown",
   "metadata": {},
   "source": [
    "#### Pick up columns and drop rows including NaN  "
   ]
  },
  {
   "cell_type": "code",
   "execution_count": null,
   "metadata": {},
   "outputs": [],
   "source": [
    "df_pop = df_pop[['Country Name', 'Country Code', '2019']]\n",
    "df_pop = df_pop.dropna(axis=0)\n",
    "print(df_pop.shape)"
   ]
  },
  {
   "cell_type": "markdown",
   "metadata": {},
   "source": [
    "#### Convert values in Mega"
   ]
  },
  {
   "cell_type": "code",
   "execution_count": null,
   "metadata": {},
   "outputs": [],
   "source": [
    "df_popM = df_pop.copy()\n",
    "df_popM['2019'] /= 1000000\n",
    "\n",
    "# find the line corresponding to max population\n",
    "display(df_popM.loc[df_popM['2019'].idxmax(), ['Country Name', '2019']])"
   ]
  },
  {
   "cell_type": "markdown",
   "metadata": {},
   "source": [
    "#### Cleanup data\n",
    "This data includes area/world data, so remove them  \n",
    "地域ごとの合計値が含まれているようなので、多すぎるデータは削除  "
   ]
  },
  {
   "cell_type": "code",
   "execution_count": null,
   "metadata": {},
   "outputs": [],
   "source": [
    "df_popM = df_popM.drop(df_popM.index[df_popM['2019']>1500.0])\n",
    "\n",
    "# find the line corresponding to max population\n",
    "display(df_popM.loc[df_popM['2019'].idxmax(), ['Country Name','2019']])\n",
    "display(df_popM.head())"
   ]
  },
  {
   "cell_type": "markdown",
   "metadata": {},
   "source": [
    "#### Data seems to be OK, so write them to a new CSV file  \n",
    "This cleaned CSV file will be useful for the analysis.  \n",
    "解析のために、きれいにしたCSVファイルを保存しておく。　　"
   ]
  },
  {
   "cell_type": "code",
   "execution_count": null,
   "metadata": {},
   "outputs": [],
   "source": [
    "df_popM.columns = ['Country Name', 'Country Code', '2019(M)']\n",
    "df_popM.to_csv(csv_out, index=False)"
   ]
  }
 ],
 "metadata": {
  "kernelspec": {
   "display_name": "Python 3 (ipykernel)",
   "language": "python",
   "name": "python3"
  },
  "language_info": {
   "codemirror_mode": {
    "name": "ipython",
    "version": 3
   },
   "file_extension": ".py",
   "mimetype": "text/x-python",
   "name": "python",
   "nbconvert_exporter": "python",
   "pygments_lexer": "ipython3",
   "version": "3.8.16"
  }
 },
 "nbformat": 4,
 "nbformat_minor": 4
}
