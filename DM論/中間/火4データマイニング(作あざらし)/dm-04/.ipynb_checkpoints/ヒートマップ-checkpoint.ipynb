{
 "cells": [
  {
   "cell_type": "markdown",
   "metadata": {},
   "source": [
    "### Example of displaying heatmap using folium"
   ]
  },
  {
   "cell_type": "markdown",
   "metadata": {},
   "source": [
    "#### Import libraries  "
   ]
  },
  {
   "cell_type": "code",
   "execution_count": 1,
   "metadata": {},
   "outputs": [],
   "source": [
    "import pandas as pd\n",
    "import folium"
   ]
  },
  {
   "cell_type": "markdown",
   "metadata": {},
   "source": [
    "#### Parameters"
   ]
  },
  {
   "cell_type": "code",
   "execution_count": 2,
   "metadata": {},
   "outputs": [],
   "source": [
    "csv_in = 'pop_move_H27_H28-utf8.csv'\n",
    "\n",
    "pd.options.display.max_rows = 999\n",
    "pd.options.display.max_columns = 999"
   ]
  },
  {
   "cell_type": "markdown",
   "metadata": {},
   "source": [
    "#### Read CSV file"
   ]
  },
  {
   "cell_type": "code",
   "execution_count": 3,
   "metadata": {},
   "outputs": [
    {
     "name": "stdout",
     "output_type": "stream",
     "text": [
      "(69, 3)\n",
      "<class 'pandas.core.frame.DataFrame'>\n",
      "RangeIndex: 69 entries, 0 to 68\n",
      "Data columns (total 3 columns):\n",
      " #   Column  Non-Null Count  Dtype \n",
      "---  ------  --------------  ----- \n",
      " 0   都道府県    69 non-null     object\n",
      " 1   転入      69 non-null     int64 \n",
      " 2   転出      69 non-null     int64 \n",
      "dtypes: int64(2), object(1)\n",
      "memory usage: 1.7+ KB\n",
      "None\n"
     ]
    },
    {
     "data": {
      "text/html": [
       "<div>\n",
       "<style scoped>\n",
       "    .dataframe tbody tr th:only-of-type {\n",
       "        vertical-align: middle;\n",
       "    }\n",
       "\n",
       "    .dataframe tbody tr th {\n",
       "        vertical-align: top;\n",
       "    }\n",
       "\n",
       "    .dataframe thead th {\n",
       "        text-align: right;\n",
       "    }\n",
       "</style>\n",
       "<table border=\"1\" class=\"dataframe\">\n",
       "  <thead>\n",
       "    <tr style=\"text-align: right;\">\n",
       "      <th></th>\n",
       "      <th>都道府県</th>\n",
       "      <th>転入</th>\n",
       "      <th>転出</th>\n",
       "    </tr>\n",
       "  </thead>\n",
       "  <tbody>\n",
       "    <tr>\n",
       "      <th>0</th>\n",
       "      <td>北海道</td>\n",
       "      <td>48544</td>\n",
       "      <td>55418</td>\n",
       "    </tr>\n",
       "    <tr>\n",
       "      <th>1</th>\n",
       "      <td>青森県</td>\n",
       "      <td>17061</td>\n",
       "      <td>23384</td>\n",
       "    </tr>\n",
       "    <tr>\n",
       "      <th>2</th>\n",
       "      <td>岩手県</td>\n",
       "      <td>17113</td>\n",
       "      <td>20983</td>\n",
       "    </tr>\n",
       "    <tr>\n",
       "      <th>3</th>\n",
       "      <td>宮城県</td>\n",
       "      <td>47124</td>\n",
       "      <td>47607</td>\n",
       "    </tr>\n",
       "    <tr>\n",
       "      <th>4</th>\n",
       "      <td>秋田県</td>\n",
       "      <td>11353</td>\n",
       "      <td>15751</td>\n",
       "    </tr>\n",
       "  </tbody>\n",
       "</table>\n",
       "</div>"
      ],
      "text/plain": [
       "  都道府県     転入     転出\n",
       "0  北海道  48544  55418\n",
       "1  青森県  17061  23384\n",
       "2  岩手県  17113  20983\n",
       "3  宮城県  47124  47607\n",
       "4  秋田県  11353  15751"
      ]
     },
     "metadata": {},
     "output_type": "display_data"
    }
   ],
   "source": [
    "df = pd.read_csv(csv_in, sep=',', skiprows=0, header=0)\n",
    "print(df.shape)\n",
    "print(df.info())\n",
    "display(df.head())\n",
    "#display(df)"
   ]
  },
  {
   "cell_type": "markdown",
   "metadata": {},
   "source": [
    "#### Calculation of increase/decrease of population  "
   ]
  },
  {
   "cell_type": "code",
   "execution_count": 4,
   "metadata": {},
   "outputs": [
    {
     "data": {
      "text/html": [
       "<div>\n",
       "<style scoped>\n",
       "    .dataframe tbody tr th:only-of-type {\n",
       "        vertical-align: middle;\n",
       "    }\n",
       "\n",
       "    .dataframe tbody tr th {\n",
       "        vertical-align: top;\n",
       "    }\n",
       "\n",
       "    .dataframe thead th {\n",
       "        text-align: right;\n",
       "    }\n",
       "</style>\n",
       "<table border=\"1\" class=\"dataframe\">\n",
       "  <thead>\n",
       "    <tr style=\"text-align: right;\">\n",
       "      <th></th>\n",
       "      <th>都道府県</th>\n",
       "      <th>転入</th>\n",
       "      <th>転出</th>\n",
       "      <th>増減</th>\n",
       "    </tr>\n",
       "  </thead>\n",
       "  <tbody>\n",
       "    <tr>\n",
       "      <th>0</th>\n",
       "      <td>北海道</td>\n",
       "      <td>48544</td>\n",
       "      <td>55418</td>\n",
       "      <td>-6874</td>\n",
       "    </tr>\n",
       "    <tr>\n",
       "      <th>1</th>\n",
       "      <td>青森県</td>\n",
       "      <td>17061</td>\n",
       "      <td>23384</td>\n",
       "      <td>-6323</td>\n",
       "    </tr>\n",
       "    <tr>\n",
       "      <th>2</th>\n",
       "      <td>岩手県</td>\n",
       "      <td>17113</td>\n",
       "      <td>20983</td>\n",
       "      <td>-3870</td>\n",
       "    </tr>\n",
       "    <tr>\n",
       "      <th>3</th>\n",
       "      <td>宮城県</td>\n",
       "      <td>47124</td>\n",
       "      <td>47607</td>\n",
       "      <td>-483</td>\n",
       "    </tr>\n",
       "    <tr>\n",
       "      <th>4</th>\n",
       "      <td>秋田県</td>\n",
       "      <td>11353</td>\n",
       "      <td>15751</td>\n",
       "      <td>-4398</td>\n",
       "    </tr>\n",
       "  </tbody>\n",
       "</table>\n",
       "</div>"
      ],
      "text/plain": [
       "  都道府県     転入     転出    増減\n",
       "0  北海道  48544  55418 -6874\n",
       "1  青森県  17061  23384 -6323\n",
       "2  岩手県  17113  20983 -3870\n",
       "3  宮城県  47124  47607  -483\n",
       "4  秋田県  11353  15751 -4398"
      ]
     },
     "metadata": {},
     "output_type": "display_data"
    }
   ],
   "source": [
    "df['増減'] = df['転入'] - df['転出']\n",
    "display(df.head())"
   ]
  },
  {
   "cell_type": "markdown",
   "metadata": {},
   "source": [
    "#### Drop lines other than Prefs  "
   ]
  },
  {
   "cell_type": "code",
   "execution_count": 5,
   "metadata": {},
   "outputs": [
    {
     "data": {
      "text/plain": [
       "0     False\n",
       "1     False\n",
       "2     False\n",
       "3     False\n",
       "4     False\n",
       "5     False\n",
       "6     False\n",
       "7     False\n",
       "8     False\n",
       "9     False\n",
       "10    False\n",
       "11    False\n",
       "12    False\n",
       "13    False\n",
       "14    False\n",
       "15    False\n",
       "16    False\n",
       "17    False\n",
       "18    False\n",
       "19    False\n",
       "20    False\n",
       "21    False\n",
       "22    False\n",
       "23    False\n",
       "24    False\n",
       "25    False\n",
       "26    False\n",
       "27    False\n",
       "28    False\n",
       "29    False\n",
       "30    False\n",
       "31    False\n",
       "32    False\n",
       "33    False\n",
       "34    False\n",
       "35    False\n",
       "36    False\n",
       "37    False\n",
       "38    False\n",
       "39    False\n",
       "40    False\n",
       "41    False\n",
       "42    False\n",
       "43    False\n",
       "44    False\n",
       "45    False\n",
       "46    False\n",
       "47     True\n",
       "48     True\n",
       "49     True\n",
       "50     True\n",
       "51     True\n",
       "52     True\n",
       "53     True\n",
       "54     True\n",
       "55     True\n",
       "56     True\n",
       "57     True\n",
       "58     True\n",
       "59     True\n",
       "60     True\n",
       "61     True\n",
       "62     True\n",
       "63     True\n",
       "64     True\n",
       "65     True\n",
       "66     True\n",
       "67     True\n",
       "68     True\n",
       "Name: 都道府県, dtype: bool"
      ]
     },
     "execution_count": 5,
     "metadata": {},
     "output_type": "execute_result"
    }
   ],
   "source": [
    "df['都道府県'].str.match(r'^(.*市|.*計|.*区部)$')  # debug"
   ]
  },
  {
   "cell_type": "code",
   "execution_count": 6,
   "metadata": {},
   "outputs": [
    {
     "name": "stdout",
     "output_type": "stream",
     "text": [
      "<class 'pandas.core.frame.DataFrame'>\n",
      "RangeIndex: 47 entries, 0 to 46\n",
      "Data columns (total 4 columns):\n",
      " #   Column  Non-Null Count  Dtype \n",
      "---  ------  --------------  ----- \n",
      " 0   都道府県    47 non-null     object\n",
      " 1   転入      47 non-null     int64 \n",
      " 2   転出      47 non-null     int64 \n",
      " 3   増減      47 non-null     int64 \n",
      "dtypes: int64(3), object(1)\n",
      "memory usage: 1.6+ KB\n",
      "None\n"
     ]
    },
    {
     "data": {
      "text/html": [
       "<div>\n",
       "<style scoped>\n",
       "    .dataframe tbody tr th:only-of-type {\n",
       "        vertical-align: middle;\n",
       "    }\n",
       "\n",
       "    .dataframe tbody tr th {\n",
       "        vertical-align: top;\n",
       "    }\n",
       "\n",
       "    .dataframe thead th {\n",
       "        text-align: right;\n",
       "    }\n",
       "</style>\n",
       "<table border=\"1\" class=\"dataframe\">\n",
       "  <thead>\n",
       "    <tr style=\"text-align: right;\">\n",
       "      <th></th>\n",
       "      <th>都道府県</th>\n",
       "      <th>転入</th>\n",
       "      <th>転出</th>\n",
       "      <th>増減</th>\n",
       "    </tr>\n",
       "  </thead>\n",
       "  <tbody>\n",
       "    <tr>\n",
       "      <th>0</th>\n",
       "      <td>北海道</td>\n",
       "      <td>48544</td>\n",
       "      <td>55418</td>\n",
       "      <td>-6874</td>\n",
       "    </tr>\n",
       "    <tr>\n",
       "      <th>1</th>\n",
       "      <td>青森県</td>\n",
       "      <td>17061</td>\n",
       "      <td>23384</td>\n",
       "      <td>-6323</td>\n",
       "    </tr>\n",
       "    <tr>\n",
       "      <th>2</th>\n",
       "      <td>岩手県</td>\n",
       "      <td>17113</td>\n",
       "      <td>20983</td>\n",
       "      <td>-3870</td>\n",
       "    </tr>\n",
       "    <tr>\n",
       "      <th>3</th>\n",
       "      <td>宮城県</td>\n",
       "      <td>47124</td>\n",
       "      <td>47607</td>\n",
       "      <td>-483</td>\n",
       "    </tr>\n",
       "    <tr>\n",
       "      <th>4</th>\n",
       "      <td>秋田県</td>\n",
       "      <td>11353</td>\n",
       "      <td>15751</td>\n",
       "      <td>-4398</td>\n",
       "    </tr>\n",
       "  </tbody>\n",
       "</table>\n",
       "</div>"
      ],
      "text/plain": [
       "  都道府県     転入     転出    増減\n",
       "0  北海道  48544  55418 -6874\n",
       "1  青森県  17061  23384 -6323\n",
       "2  岩手県  17113  20983 -3870\n",
       "3  宮城県  47124  47607  -483\n",
       "4  秋田県  11353  15751 -4398"
      ]
     },
     "metadata": {},
     "output_type": "display_data"
    }
   ],
   "source": [
    "df2 = df.drop(df.index[df['都道府県'].str.match(r'^(.*市|.*計|.*区部)$') ]).reset_index(drop=True)\n",
    "print(df2.info())\n",
    "display(df2.head())"
   ]
  },
  {
   "cell_type": "markdown",
   "metadata": {},
   "source": [
    "#### Check data  "
   ]
  },
  {
   "cell_type": "code",
   "execution_count": 7,
   "metadata": {},
   "outputs": [
    {
     "name": "stdout",
     "output_type": "stream",
     "text": [
      "都道府県      北海道\n",
      "転入      48544\n",
      "転出      55418\n",
      "増減      -6874\n",
      "Name: 0, dtype: object\n",
      "都道府県       東京都\n",
      "転入      413444\n",
      "転出      339267\n",
      "増減       74177\n",
      "Name: 12, dtype: object\n"
     ]
    }
   ],
   "source": [
    "print(df2.loc[df2['増減'].idxmin()])\n",
    "print(df2.loc[df2['増減'].idxmax()])"
   ]
  },
  {
   "cell_type": "markdown",
   "metadata": {},
   "source": [
    "#### Parameters2 (for lat/lon)   "
   ]
  },
  {
   "cell_type": "code",
   "execution_count": 8,
   "metadata": {},
   "outputs": [],
   "source": [
    "csv_in2 = 'h3010pref_pos_utf8.csv'"
   ]
  },
  {
   "cell_type": "markdown",
   "metadata": {},
   "source": [
    "#### Read CSV file"
   ]
  },
  {
   "cell_type": "code",
   "execution_count": 9,
   "metadata": {},
   "outputs": [
    {
     "name": "stdout",
     "output_type": "stream",
     "text": [
      "(1963, 3)\n"
     ]
    },
    {
     "data": {
      "text/html": [
       "<div>\n",
       "<style scoped>\n",
       "    .dataframe tbody tr th:only-of-type {\n",
       "        vertical-align: middle;\n",
       "    }\n",
       "\n",
       "    .dataframe tbody tr th {\n",
       "        vertical-align: top;\n",
       "    }\n",
       "\n",
       "    .dataframe thead th {\n",
       "        text-align: right;\n",
       "    }\n",
       "</style>\n",
       "<table border=\"1\" class=\"dataframe\">\n",
       "  <thead>\n",
       "    <tr style=\"text-align: right;\">\n",
       "      <th></th>\n",
       "      <th>name</th>\n",
       "      <th>lat</th>\n",
       "      <th>lon</th>\n",
       "    </tr>\n",
       "  </thead>\n",
       "  <tbody>\n",
       "    <tr>\n",
       "      <th>0</th>\n",
       "      <td>北海道</td>\n",
       "      <td>43.064278</td>\n",
       "      <td>141.346785</td>\n",
       "    </tr>\n",
       "    <tr>\n",
       "      <th>1</th>\n",
       "      <td>札幌市</td>\n",
       "      <td>43.061945</td>\n",
       "      <td>141.354395</td>\n",
       "    </tr>\n",
       "    <tr>\n",
       "      <th>2</th>\n",
       "      <td>札幌市中央区</td>\n",
       "      <td>43.055390</td>\n",
       "      <td>141.340980</td>\n",
       "    </tr>\n",
       "    <tr>\n",
       "      <th>3</th>\n",
       "      <td>札幌市北区</td>\n",
       "      <td>43.090691</td>\n",
       "      <td>141.340922</td>\n",
       "    </tr>\n",
       "    <tr>\n",
       "      <th>4</th>\n",
       "      <td>札幌市東区</td>\n",
       "      <td>43.076111</td>\n",
       "      <td>141.363616</td>\n",
       "    </tr>\n",
       "  </tbody>\n",
       "</table>\n",
       "</div>"
      ],
      "text/plain": [
       "     name        lat         lon\n",
       "0     北海道  43.064278  141.346785\n",
       "1     札幌市  43.061945  141.354395\n",
       "2  札幌市中央区  43.055390  141.340980\n",
       "3   札幌市北区  43.090691  141.340922\n",
       "4   札幌市東区  43.076111  141.363616"
      ]
     },
     "metadata": {},
     "output_type": "display_data"
    }
   ],
   "source": [
    "df_pos = pd.read_csv(csv_in2, sep=',', skiprows=0, header=0)\n",
    "print(df_pos.shape)\n",
    "display(df_pos.head())"
   ]
  },
  {
   "cell_type": "markdown",
   "metadata": {},
   "source": [
    "#### Merge DataFrames to add lat/lon to pref data  "
   ]
  },
  {
   "cell_type": "code",
   "execution_count": 10,
   "metadata": {},
   "outputs": [
    {
     "name": "stdout",
     "output_type": "stream",
     "text": [
      "(47, 7)\n"
     ]
    },
    {
     "data": {
      "text/html": [
       "<div>\n",
       "<style scoped>\n",
       "    .dataframe tbody tr th:only-of-type {\n",
       "        vertical-align: middle;\n",
       "    }\n",
       "\n",
       "    .dataframe tbody tr th {\n",
       "        vertical-align: top;\n",
       "    }\n",
       "\n",
       "    .dataframe thead th {\n",
       "        text-align: right;\n",
       "    }\n",
       "</style>\n",
       "<table border=\"1\" class=\"dataframe\">\n",
       "  <thead>\n",
       "    <tr style=\"text-align: right;\">\n",
       "      <th></th>\n",
       "      <th>都道府県</th>\n",
       "      <th>転入</th>\n",
       "      <th>転出</th>\n",
       "      <th>増減</th>\n",
       "      <th>name</th>\n",
       "      <th>lat</th>\n",
       "      <th>lon</th>\n",
       "    </tr>\n",
       "  </thead>\n",
       "  <tbody>\n",
       "    <tr>\n",
       "      <th>0</th>\n",
       "      <td>北海道</td>\n",
       "      <td>48544</td>\n",
       "      <td>55418</td>\n",
       "      <td>-6874</td>\n",
       "      <td>北海道</td>\n",
       "      <td>43.064278</td>\n",
       "      <td>141.346785</td>\n",
       "    </tr>\n",
       "    <tr>\n",
       "      <th>1</th>\n",
       "      <td>青森県</td>\n",
       "      <td>17061</td>\n",
       "      <td>23384</td>\n",
       "      <td>-6323</td>\n",
       "      <td>青森県</td>\n",
       "      <td>40.824338</td>\n",
       "      <td>140.740087</td>\n",
       "    </tr>\n",
       "    <tr>\n",
       "      <th>2</th>\n",
       "      <td>岩手県</td>\n",
       "      <td>17113</td>\n",
       "      <td>20983</td>\n",
       "      <td>-3870</td>\n",
       "      <td>岩手県</td>\n",
       "      <td>39.703647</td>\n",
       "      <td>141.152592</td>\n",
       "    </tr>\n",
       "    <tr>\n",
       "      <th>3</th>\n",
       "      <td>宮城県</td>\n",
       "      <td>47124</td>\n",
       "      <td>47607</td>\n",
       "      <td>-483</td>\n",
       "      <td>宮城県</td>\n",
       "      <td>38.268803</td>\n",
       "      <td>140.871846</td>\n",
       "    </tr>\n",
       "    <tr>\n",
       "      <th>4</th>\n",
       "      <td>秋田県</td>\n",
       "      <td>11353</td>\n",
       "      <td>15751</td>\n",
       "      <td>-4398</td>\n",
       "      <td>秋田県</td>\n",
       "      <td>39.718058</td>\n",
       "      <td>140.103250</td>\n",
       "    </tr>\n",
       "  </tbody>\n",
       "</table>\n",
       "</div>"
      ],
      "text/plain": [
       "  都道府県     転入     転出    増減 name        lat         lon\n",
       "0  北海道  48544  55418 -6874  北海道  43.064278  141.346785\n",
       "1  青森県  17061  23384 -6323  青森県  40.824338  140.740087\n",
       "2  岩手県  17113  20983 -3870  岩手県  39.703647  141.152592\n",
       "3  宮城県  47124  47607  -483  宮城県  38.268803  140.871846\n",
       "4  秋田県  11353  15751 -4398  秋田県  39.718058  140.103250"
      ]
     },
     "metadata": {},
     "output_type": "display_data"
    }
   ],
   "source": [
    "df_merged = pd.merge(df2, df_pos, left_on='都道府県', right_on='name', how='left')\n",
    "print(df_merged.shape)\n",
    "display(df_merged.head())"
   ]
  },
  {
   "cell_type": "markdown",
   "metadata": {},
   "source": [
    "#### Make data for heatmap  \n",
    "[ [lat2, lon2, value2], [lat2, lon2, value2], ... ]  "
   ]
  },
  {
   "cell_type": "code",
   "execution_count": 11,
   "metadata": {},
   "outputs": [
    {
     "name": "stdout",
     "output_type": "stream",
     "text": [
      "(47, 3)\n"
     ]
    },
    {
     "data": {
      "text/html": [
       "<div>\n",
       "<style scoped>\n",
       "    .dataframe tbody tr th:only-of-type {\n",
       "        vertical-align: middle;\n",
       "    }\n",
       "\n",
       "    .dataframe tbody tr th {\n",
       "        vertical-align: top;\n",
       "    }\n",
       "\n",
       "    .dataframe thead th {\n",
       "        text-align: right;\n",
       "    }\n",
       "</style>\n",
       "<table border=\"1\" class=\"dataframe\">\n",
       "  <thead>\n",
       "    <tr style=\"text-align: right;\">\n",
       "      <th></th>\n",
       "      <th>lat</th>\n",
       "      <th>lon</th>\n",
       "      <th>増減</th>\n",
       "    </tr>\n",
       "  </thead>\n",
       "  <tbody>\n",
       "    <tr>\n",
       "      <th>0</th>\n",
       "      <td>43.064278</td>\n",
       "      <td>141.346785</td>\n",
       "      <td>-6874</td>\n",
       "    </tr>\n",
       "    <tr>\n",
       "      <th>1</th>\n",
       "      <td>40.824338</td>\n",
       "      <td>140.740087</td>\n",
       "      <td>-6323</td>\n",
       "    </tr>\n",
       "    <tr>\n",
       "      <th>2</th>\n",
       "      <td>39.703647</td>\n",
       "      <td>141.152592</td>\n",
       "      <td>-3870</td>\n",
       "    </tr>\n",
       "    <tr>\n",
       "      <th>3</th>\n",
       "      <td>38.268803</td>\n",
       "      <td>140.871846</td>\n",
       "      <td>-483</td>\n",
       "    </tr>\n",
       "    <tr>\n",
       "      <th>4</th>\n",
       "      <td>39.718058</td>\n",
       "      <td>140.103250</td>\n",
       "      <td>-4398</td>\n",
       "    </tr>\n",
       "  </tbody>\n",
       "</table>\n",
       "</div>"
      ],
      "text/plain": [
       "         lat         lon    増減\n",
       "0  43.064278  141.346785 -6874\n",
       "1  40.824338  140.740087 -6323\n",
       "2  39.703647  141.152592 -3870\n",
       "3  38.268803  140.871846  -483\n",
       "4  39.718058  140.103250 -4398"
      ]
     },
     "metadata": {},
     "output_type": "display_data"
    }
   ],
   "source": [
    "df_heat = df_merged[['lat', 'lon', '増減']]\n",
    "print(df_heat.shape)\n",
    "display(df_heat.head())"
   ]
  },
  {
   "cell_type": "markdown",
   "metadata": {},
   "source": [
    "#### Make map  "
   ]
  },
  {
   "cell_type": "code",
   "execution_count": 12,
   "metadata": {},
   "outputs": [
    {
     "data": {
      "text/html": [
       "<div style=\"width:100%;\"><div style=\"position:relative;width:100%;height:0;padding-bottom:60%;\"><span style=\"color:#565656\">Make this Notebook Trusted to load map: File -> Trust Notebook</span><iframe srcdoc=\"&lt;!DOCTYPE html&gt;\n",
       "&lt;html&gt;\n",
       "&lt;head&gt;\n",
       "    \n",
       "    &lt;meta http-equiv=&quot;content-type&quot; content=&quot;text/html; charset=UTF-8&quot; /&gt;\n",
       "    \n",
       "        &lt;script&gt;\n",
       "            L_NO_TOUCH = false;\n",
       "            L_DISABLE_3D = false;\n",
       "        &lt;/script&gt;\n",
       "    \n",
       "    &lt;style&gt;html, body {width: 100%;height: 100%;margin: 0;padding: 0;}&lt;/style&gt;\n",
       "    &lt;style&gt;#map {position:absolute;top:0;bottom:0;right:0;left:0;}&lt;/style&gt;\n",
       "    &lt;script src=&quot;https://cdn.jsdelivr.net/npm/leaflet@1.9.3/dist/leaflet.js&quot;&gt;&lt;/script&gt;\n",
       "    &lt;script src=&quot;https://code.jquery.com/jquery-1.12.4.min.js&quot;&gt;&lt;/script&gt;\n",
       "    &lt;script src=&quot;https://cdn.jsdelivr.net/npm/bootstrap@5.2.2/dist/js/bootstrap.bundle.min.js&quot;&gt;&lt;/script&gt;\n",
       "    &lt;script src=&quot;https://cdnjs.cloudflare.com/ajax/libs/Leaflet.awesome-markers/2.0.2/leaflet.awesome-markers.js&quot;&gt;&lt;/script&gt;\n",
       "    &lt;link rel=&quot;stylesheet&quot; href=&quot;https://cdn.jsdelivr.net/npm/leaflet@1.9.3/dist/leaflet.css&quot;/&gt;\n",
       "    &lt;link rel=&quot;stylesheet&quot; href=&quot;https://cdn.jsdelivr.net/npm/bootstrap@5.2.2/dist/css/bootstrap.min.css&quot;/&gt;\n",
       "    &lt;link rel=&quot;stylesheet&quot; href=&quot;https://netdna.bootstrapcdn.com/bootstrap/3.0.0/css/bootstrap.min.css&quot;/&gt;\n",
       "    &lt;link rel=&quot;stylesheet&quot; href=&quot;https://cdn.jsdelivr.net/npm/@fortawesome/fontawesome-free@6.2.0/css/all.min.css&quot;/&gt;\n",
       "    &lt;link rel=&quot;stylesheet&quot; href=&quot;https://cdnjs.cloudflare.com/ajax/libs/Leaflet.awesome-markers/2.0.2/leaflet.awesome-markers.css&quot;/&gt;\n",
       "    &lt;link rel=&quot;stylesheet&quot; href=&quot;https://cdn.jsdelivr.net/gh/python-visualization/folium/folium/templates/leaflet.awesome.rotate.min.css&quot;/&gt;\n",
       "    \n",
       "            &lt;meta name=&quot;viewport&quot; content=&quot;width=device-width,\n",
       "                initial-scale=1.0, maximum-scale=1.0, user-scalable=no&quot; /&gt;\n",
       "            &lt;style&gt;\n",
       "                #map_fc5929773100b492a3f64b31b450d58f {\n",
       "                    position: relative;\n",
       "                    width: 100.0%;\n",
       "                    height: 100.0%;\n",
       "                    left: 0.0%;\n",
       "                    top: 0.0%;\n",
       "                }\n",
       "                .leaflet-container { font-size: 1rem; }\n",
       "            &lt;/style&gt;\n",
       "        \n",
       "    &lt;script src=&quot;https://cdn.jsdelivr.net/gh/python-visualization/folium@main/folium/templates/leaflet_heat.min.js&quot;&gt;&lt;/script&gt;\n",
       "&lt;/head&gt;\n",
       "&lt;body&gt;\n",
       "    \n",
       "    \n",
       "            &lt;div class=&quot;folium-map&quot; id=&quot;map_fc5929773100b492a3f64b31b450d58f&quot; &gt;&lt;/div&gt;\n",
       "        \n",
       "&lt;/body&gt;\n",
       "&lt;script&gt;\n",
       "    \n",
       "    \n",
       "            var map_fc5929773100b492a3f64b31b450d58f = L.map(\n",
       "                &quot;map_fc5929773100b492a3f64b31b450d58f&quot;,\n",
       "                {\n",
       "                    center: [35.0, 140.0],\n",
       "                    crs: L.CRS.EPSG3857,\n",
       "                    zoom: 4,\n",
       "                    zoomControl: true,\n",
       "                    preferCanvas: false,\n",
       "                }\n",
       "            );\n",
       "\n",
       "            \n",
       "\n",
       "        \n",
       "    \n",
       "            var tile_layer_87d657a0fd894d48edfc60433d91b5d0 = L.tileLayer(\n",
       "                &quot;https://{s}.tile.openstreetmap.org/{z}/{x}/{y}.png&quot;,\n",
       "                {&quot;attribution&quot;: &quot;Data by \\u0026copy; \\u003ca target=\\&quot;_blank\\&quot; href=\\&quot;http://openstreetmap.org\\&quot;\\u003eOpenStreetMap\\u003c/a\\u003e, under \\u003ca target=\\&quot;_blank\\&quot; href=\\&quot;http://www.openstreetmap.org/copyright\\&quot;\\u003eODbL\\u003c/a\\u003e.&quot;, &quot;detectRetina&quot;: false, &quot;maxNativeZoom&quot;: 18, &quot;maxZoom&quot;: 18, &quot;minZoom&quot;: 0, &quot;noWrap&quot;: false, &quot;opacity&quot;: 1, &quot;subdomains&quot;: &quot;abc&quot;, &quot;tms&quot;: false}\n",
       "            ).addTo(map_fc5929773100b492a3f64b31b450d58f);\n",
       "        \n",
       "    \n",
       "            var heat_map_abfc78184bc6c988124ac3767c9d9f10 = L.heatLayer(\n",
       "                [[43.064278, 141.346785, -6874.0], [40.824338, 140.74008700000002, -6323.0], [39.703647, 141.152592, -3870.0], [38.268803000000005, 140.871846, -483.0], [39.718058, 140.10325, -4398.0], [38.240457, 140.363278, -3639.0], [37.749957, 140.467734, -5839.0], [36.34145, 140.44673500000002, -3709.0], [36.565689, 139.883528, -2988.0], [36.391192, 139.060947, -2736.0], [35.856907, 139.648854, 15560.0], [35.604588, 140.123184, 16075.0], [35.689568, 139.69171699999998, 74177.0], [35.44771, 139.642536, 12056.0], [37.902238, 139.02353100000002, -6189.0], [36.69519, 137.211341, -1004.0], [36.594652, 136.625725, -811.0], [36.065244, 136.221791, -1820.0], [35.663934999999995, 138.568379, -2011.0], [36.65131, 138.18099099999998, -2680.0], [35.391199, 136.72216799999998, -5031.0], [34.976906, 138.383023, -6390.0], [35.180198, 136.906739, 6265.0], [34.730268, 136.508594, -3597.0], [35.004394, 135.868292, -706.0], [35.021279, 135.755635, -750.0], [34.686394, 135.519994, 1794.0], [34.691303999999995, 135.182995, -6760.0], [34.685231, 135.832883, -3619.0], [34.225994, 135.16745, -3894.0], [35.503704, 134.238174, -1310.0], [35.472212, 133.05053, -1252.0], [34.661759, 133.934894, -1973.0], [34.396271, 132.45936899999998, -2136.0], [34.185859, 131.471401, -3801.0], [34.065728, 134.559484, -1748.0], [34.34016, 134.04339, -1101.0], [33.841646000000004, 132.76610300000002, -3647.0], [33.559753, 133.531115, -2265.0], [33.606261, 130.418114, 5732.0], [33.249322, 130.298799, -2300.0], [32.749990000000004, 129.867628, -5573.0], [32.790374, 130.74113400000002, -6791.0], [33.238128, 131.612605, -2608.0], [31.910975, 131.42386299999998, -4288.0], [31.560185, 130.55814099999998, -4473.0], [26.212365, 127.680975, -272.0]],\n",
       "                {&quot;blur&quot;: 15, &quot;maxZoom&quot;: 18, &quot;minOpacity&quot;: 0.5, &quot;radius&quot;: 12}\n",
       "            ).addTo(map_fc5929773100b492a3f64b31b450d58f);\n",
       "        \n",
       "&lt;/script&gt;\n",
       "&lt;/html&gt;\" style=\"position:absolute;width:100%;height:100%;left:0;top:0;border:none !important;\" allowfullscreen webkitallowfullscreen mozallowfullscreen></iframe></div></div>"
      ],
      "text/plain": [
       "<folium.folium.Map at 0x222839847f0>"
      ]
     },
     "metadata": {},
     "output_type": "display_data"
    }
   ],
   "source": [
    "from folium.plugins import HeatMap\n",
    "\n",
    "m = folium.Map(location=[35, 140], zoom_start=4)\n",
    "m.add_child(HeatMap(df_heat, radius=12))\n",
    "display(m)"
   ]
  },
  {
   "cell_type": "markdown",
   "metadata": {},
   "source": [
    "#### Add color bar  "
   ]
  },
  {
   "cell_type": "code",
   "execution_count": null,
   "metadata": {},
   "outputs": [],
   "source": [
    "### Add color bar  \n",
    "\n",
    "from folium.plugins import HeatMap\n",
    "import branca.colormap as cm\n",
    "import numpy as np\n",
    "\n",
    "m = folium.Map(location=[35, 140], zoom_start=4)\n",
    "m.add_child(HeatMap(df_heat, radius=12,\n",
    "                    gradient={.4:\"blue\",.6:\"cyan\",.7:\"lime\",.8:\"yellow\",1:\"red\"}))\n",
    "\n",
    "min = df_heat['増減'].min()\n",
    "max = df_heat['増減'].max()\n",
    "colors = ['blue', 'cyan', 'lime', 'yellow', 'red']\n",
    "index = np.array([.4, .6, .7, .8, 1.])*(max-min)+min\n",
    "colormap = cm.LinearColormap(colors, index=index, vmin=min, vmax=max).to_step(100)\n",
    "colormap.caption = 'Increase/Decrease of Population'\n",
    "m.add_child(colormap)\n",
    "\n",
    "display(m)"
   ]
  },
  {
   "cell_type": "code",
   "execution_count": null,
   "metadata": {},
   "outputs": [],
   "source": []
  }
 ],
 "metadata": {
  "kernelspec": {
   "display_name": "Python 3 (ipykernel)",
   "language": "python",
   "name": "python3"
  },
  "language_info": {
   "codemirror_mode": {
    "name": "ipython",
    "version": 3
   },
   "file_extension": ".py",
   "mimetype": "text/x-python",
   "name": "python",
   "nbconvert_exporter": "python",
   "pygments_lexer": "ipython3",
   "version": "3.8.16"
  }
 },
 "nbformat": 4,
 "nbformat_minor": 4
}
