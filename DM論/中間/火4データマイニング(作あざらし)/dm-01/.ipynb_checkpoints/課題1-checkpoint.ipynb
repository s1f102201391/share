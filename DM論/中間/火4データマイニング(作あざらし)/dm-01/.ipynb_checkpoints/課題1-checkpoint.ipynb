{
 "cells": [
  {
   "cell_type": "code",
   "execution_count": 16,
   "id": "77cea0fb-f20b-4cd1-8509-6c998cccac26",
   "metadata": {},
   "outputs": [
    {
     "data": {
      "text/html": [
       "<div>\n",
       "<style scoped>\n",
       "    .dataframe tbody tr th:only-of-type {\n",
       "        vertical-align: middle;\n",
       "    }\n",
       "\n",
       "    .dataframe tbody tr th {\n",
       "        vertical-align: top;\n",
       "    }\n",
       "\n",
       "    .dataframe thead th {\n",
       "        text-align: right;\n",
       "    }\n",
       "</style>\n",
       "<table border=\"1\" class=\"dataframe\">\n",
       "  <thead>\n",
       "    <tr style=\"text-align: right;\">\n",
       "      <th></th>\n",
       "      <th>TIME</th>\n",
       "      <th>PUBS</th>\n",
       "      <th>SALARY</th>\n",
       "    </tr>\n",
       "  </thead>\n",
       "  <tbody>\n",
       "    <tr>\n",
       "      <th>0</th>\n",
       "      <td>3</td>\n",
       "      <td>18</td>\n",
       "      <td>51876</td>\n",
       "    </tr>\n",
       "    <tr>\n",
       "      <th>1</th>\n",
       "      <td>6</td>\n",
       "      <td>3</td>\n",
       "      <td>54511</td>\n",
       "    </tr>\n",
       "    <tr>\n",
       "      <th>2</th>\n",
       "      <td>3</td>\n",
       "      <td>2</td>\n",
       "      <td>53425</td>\n",
       "    </tr>\n",
       "    <tr>\n",
       "      <th>3</th>\n",
       "      <td>8</td>\n",
       "      <td>17</td>\n",
       "      <td>61863</td>\n",
       "    </tr>\n",
       "    <tr>\n",
       "      <th>4</th>\n",
       "      <td>9</td>\n",
       "      <td>11</td>\n",
       "      <td>52926</td>\n",
       "    </tr>\n",
       "  </tbody>\n",
       "</table>\n",
       "</div>"
      ],
      "text/plain": [
       "   TIME  PUBS  SALARY\n",
       "0     3    18   51876\n",
       "1     6     3   54511\n",
       "2     3     2   53425\n",
       "3     8    17   61863\n",
       "4     9    11   52926"
      ]
     },
     "metadata": {},
     "output_type": "display_data"
    },
    {
     "data": {
      "text/html": [
       "<div>\n",
       "<style scoped>\n",
       "    .dataframe tbody tr th:only-of-type {\n",
       "        vertical-align: middle;\n",
       "    }\n",
       "\n",
       "    .dataframe tbody tr th {\n",
       "        vertical-align: top;\n",
       "    }\n",
       "\n",
       "    .dataframe thead th {\n",
       "        text-align: right;\n",
       "    }\n",
       "</style>\n",
       "<table border=\"1\" class=\"dataframe\">\n",
       "  <thead>\n",
       "    <tr style=\"text-align: right;\">\n",
       "      <th></th>\n",
       "      <th>TIME</th>\n",
       "      <th>PUBS</th>\n",
       "      <th>SALARY</th>\n",
       "    </tr>\n",
       "  </thead>\n",
       "  <tbody>\n",
       "    <tr>\n",
       "      <th>TIME</th>\n",
       "      <td>1.000000</td>\n",
       "      <td>0.656655</td>\n",
       "      <td>0.710351</td>\n",
       "    </tr>\n",
       "    <tr>\n",
       "      <th>PUBS</th>\n",
       "      <td>0.656655</td>\n",
       "      <td>1.000000</td>\n",
       "      <td>0.587834</td>\n",
       "    </tr>\n",
       "    <tr>\n",
       "      <th>SALARY</th>\n",
       "      <td>0.710351</td>\n",
       "      <td>0.587834</td>\n",
       "      <td>1.000000</td>\n",
       "    </tr>\n",
       "  </tbody>\n",
       "</table>\n",
       "</div>"
      ],
      "text/plain": [
       "            TIME      PUBS    SALARY\n",
       "TIME    1.000000  0.656655  0.710351\n",
       "PUBS    0.656655  1.000000  0.587834\n",
       "SALARY  0.710351  0.587834  1.000000"
      ]
     },
     "execution_count": 16,
     "metadata": {},
     "output_type": "execute_result"
    }
   ],
   "source": [
    "import pandas as pd \n",
    "import numpy as np\n",
    "df = pd.read_csv('salary_1.csv',sep=\",\")\n",
    "display(df.head())\n",
    "df.corr()\n",
    "#相関係数"
   ]
  },
  {
   "cell_type": "code",
   "execution_count": 21,
   "id": "7c3110df-3691-4f57-93b5-d45918b17609",
   "metadata": {},
   "outputs": [
    {
     "name": "stdout",
     "output_type": "stream",
     "text": [
      "Correlation of x and y is 0.5878335406973414:\n",
      "Partial correlation of x and y is 0.2286551118979977:\n"
     ]
    }
   ],
   "source": [
    "import numpy as np\n",
    "import pandas as pd\n",
    "\n",
    "df = pd.read_csv('salary_1.csv',sep=\",\")\n",
    "y=df['PUBS']\n",
    "x=df['SALARY']\n",
    "z=df['TIME']\n",
    "y=np.array(y)\n",
    "x=np.array(x)\n",
    "z=np.array(z)\n",
    "\n",
    "import math\n",
    "def partial_corr(z,x,y):\n",
    "    correlation_matrix = np.corrcoef((z,x,y))\n",
    "    r_zx = correlation_matrix[0,1]\n",
    "    r_zy = correlation_matrix[0,2]\n",
    "    r_xy = correlation_matrix[1,2]\n",
    "    r_xy_z = (r_xy-r_zx*r_zy)/(math.sqrt(1-r_zx**2)*math.sqrt(1-r_zy**2))\n",
    "    #x,yの相関からzの影響を取り除く\n",
    "    return r_xy_z\n",
    "#偏相関係数を求めるコード\n",
    "\n",
    "print(\"Correlation of x and y is {0}:\".format(np.corrcoef(x,y)[0,1]))\n",
    "print(\"Partial correlation of x and y is {0}:\".format(partial_corr(z,x,y) ))"
   ]
  },
  {
   "cell_type": "code",
   "execution_count": null,
   "id": "b5c5708f-6196-48fc-8672-2a46b1c9c08f",
   "metadata": {},
   "outputs": [],
   "source": []
  }
 ],
 "metadata": {
  "kernelspec": {
   "display_name": "Python 3 (ipykernel)",
   "language": "python",
   "name": "python3"
  },
  "language_info": {
   "codemirror_mode": {
    "name": "ipython",
    "version": 3
   },
   "file_extension": ".py",
   "mimetype": "text/x-python",
   "name": "python",
   "nbconvert_exporter": "python",
   "pygments_lexer": "ipython3",
   "version": "3.8.16"
  }
 },
 "nbformat": 4,
 "nbformat_minor": 5
}
