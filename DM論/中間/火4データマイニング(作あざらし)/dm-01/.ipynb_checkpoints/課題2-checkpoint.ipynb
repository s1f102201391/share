{
 "cells": [
  {
   "cell_type": "code",
   "execution_count": 1,
   "id": "1346472b-b563-4c02-807d-d45decfefa97",
   "metadata": {},
   "outputs": [],
   "source": [
    "import numpy as np\n",
    "import pandas as pd\n",
    "import matplotlib.pyplot as plt\n",
    "import seaborn as sns\n",
    "import statsmodels.api as sm\n",
    "import statsmodels.formula.api as smf\n",
    "from sklearn.preprocessing import scale\n",
    "from sklearn.metrics import mean_squared_error\n",
    "import re"
   ]
  },
  {
   "cell_type": "code",
   "execution_count": 2,
   "id": "7619eec5-87b7-4467-91a6-4f56195a0d71",
   "metadata": {},
   "outputs": [],
   "source": [
    "pd.options.display.max_rows = 999\n",
    "pd.options.display.max_columns = 999"
   ]
  },
  {
   "cell_type": "code",
   "execution_count": 6,
   "id": "94594ab0-9ef5-4f63-82ac-fcfe08f31087",
   "metadata": {},
   "outputs": [
    {
     "name": "stdout",
     "output_type": "stream",
     "text": [
      "(15, 3)\n",
      "<class 'pandas.core.frame.DataFrame'>\n",
      "RangeIndex: 15 entries, 0 to 14\n",
      "Data columns (total 3 columns):\n",
      " #   Column  Non-Null Count  Dtype\n",
      "---  ------  --------------  -----\n",
      " 0   TIME    15 non-null     int64\n",
      " 1   PUBS    15 non-null     int64\n",
      " 2   SALARY  15 non-null     int64\n",
      "dtypes: int64(3)\n",
      "memory usage: 488.0 bytes\n",
      "None\n"
     ]
    },
    {
     "data": {
      "text/html": [
       "<div>\n",
       "<style scoped>\n",
       "    .dataframe tbody tr th:only-of-type {\n",
       "        vertical-align: middle;\n",
       "    }\n",
       "\n",
       "    .dataframe tbody tr th {\n",
       "        vertical-align: top;\n",
       "    }\n",
       "\n",
       "    .dataframe thead th {\n",
       "        text-align: right;\n",
       "    }\n",
       "</style>\n",
       "<table border=\"1\" class=\"dataframe\">\n",
       "  <thead>\n",
       "    <tr style=\"text-align: right;\">\n",
       "      <th></th>\n",
       "      <th>TIME</th>\n",
       "      <th>PUBS</th>\n",
       "      <th>SALARY</th>\n",
       "    </tr>\n",
       "  </thead>\n",
       "  <tbody>\n",
       "    <tr>\n",
       "      <th>0</th>\n",
       "      <td>3</td>\n",
       "      <td>18</td>\n",
       "      <td>51876</td>\n",
       "    </tr>\n",
       "    <tr>\n",
       "      <th>1</th>\n",
       "      <td>6</td>\n",
       "      <td>3</td>\n",
       "      <td>54511</td>\n",
       "    </tr>\n",
       "    <tr>\n",
       "      <th>2</th>\n",
       "      <td>3</td>\n",
       "      <td>2</td>\n",
       "      <td>53425</td>\n",
       "    </tr>\n",
       "    <tr>\n",
       "      <th>3</th>\n",
       "      <td>8</td>\n",
       "      <td>17</td>\n",
       "      <td>61863</td>\n",
       "    </tr>\n",
       "    <tr>\n",
       "      <th>4</th>\n",
       "      <td>9</td>\n",
       "      <td>11</td>\n",
       "      <td>52926</td>\n",
       "    </tr>\n",
       "  </tbody>\n",
       "</table>\n",
       "</div>"
      ],
      "text/plain": [
       "   TIME  PUBS  SALARY\n",
       "0     3    18   51876\n",
       "1     6     3   54511\n",
       "2     3     2   53425\n",
       "3     8    17   61863\n",
       "4     9    11   52926"
      ]
     },
     "metadata": {},
     "output_type": "display_data"
    }
   ],
   "source": [
    "csv_in = 'salary_1.csv'\n",
    "df = pd.read_csv(csv_in, sep=',')\n",
    "print(df.shape)\n",
    "print(df.info())\n",
    "display(df.head())"
   ]
  },
  {
   "cell_type": "code",
   "execution_count": 8,
   "id": "910ea825-ff59-4aa8-a045-58ac9f2b8d84",
   "metadata": {},
   "outputs": [
    {
     "name": "stdout",
     "output_type": "stream",
     "text": [
      "X: (15, 2)\n"
     ]
    },
    {
     "data": {
      "text/html": [
       "<div>\n",
       "<style scoped>\n",
       "    .dataframe tbody tr th:only-of-type {\n",
       "        vertical-align: middle;\n",
       "    }\n",
       "\n",
       "    .dataframe tbody tr th {\n",
       "        vertical-align: top;\n",
       "    }\n",
       "\n",
       "    .dataframe thead th {\n",
       "        text-align: right;\n",
       "    }\n",
       "</style>\n",
       "<table border=\"1\" class=\"dataframe\">\n",
       "  <thead>\n",
       "    <tr style=\"text-align: right;\">\n",
       "      <th></th>\n",
       "      <th>TIME</th>\n",
       "      <th>PUBS</th>\n",
       "    </tr>\n",
       "  </thead>\n",
       "  <tbody>\n",
       "    <tr>\n",
       "      <th>0</th>\n",
       "      <td>3</td>\n",
       "      <td>18</td>\n",
       "    </tr>\n",
       "    <tr>\n",
       "      <th>1</th>\n",
       "      <td>6</td>\n",
       "      <td>3</td>\n",
       "    </tr>\n",
       "    <tr>\n",
       "      <th>2</th>\n",
       "      <td>3</td>\n",
       "      <td>2</td>\n",
       "    </tr>\n",
       "    <tr>\n",
       "      <th>3</th>\n",
       "      <td>8</td>\n",
       "      <td>17</td>\n",
       "    </tr>\n",
       "    <tr>\n",
       "      <th>4</th>\n",
       "      <td>9</td>\n",
       "      <td>11</td>\n",
       "    </tr>\n",
       "  </tbody>\n",
       "</table>\n",
       "</div>"
      ],
      "text/plain": [
       "   TIME  PUBS\n",
       "0     3    18\n",
       "1     6     3\n",
       "2     3     2\n",
       "3     8    17\n",
       "4     9    11"
      ]
     },
     "metadata": {},
     "output_type": "display_data"
    },
    {
     "name": "stdout",
     "output_type": "stream",
     "text": [
      "y: (15,)\n",
      "0    51876\n",
      "1    54511\n",
      "2    53425\n",
      "3    61863\n",
      "4    52926\n",
      "Name: SALARY, dtype: int64\n"
     ]
    }
   ],
   "source": [
    "X = df.drop(columns='SALARY')  #説明変数, 2D\n",
    "y = df['SALARY']  #目的変数, 1D\n",
    "print('X:', X.shape)\n",
    "display(X.head())\n",
    "print('y:', y.shape)\n",
    "print(y.head())"
   ]
  },
  {
   "cell_type": "code",
   "execution_count": 10,
   "id": "5b3f5232-c044-4d35-b13d-c669096761da",
   "metadata": {},
   "outputs": [],
   "source": [
    "#標準化\n",
    "X_scaled_ar = scale(X)\n",
    "y_scaled_ar = scale(y)"
   ]
  },
  {
   "cell_type": "code",
   "execution_count": 12,
   "id": "4bc77b6e-5b9a-4786-948e-928ea7b00a32",
   "metadata": {},
   "outputs": [
    {
     "name": "stdout",
     "output_type": "stream",
     "text": [
      "                                 OLS Regression Results                                \n",
      "=======================================================================================\n",
      "Dep. Variable:                 SALARY   R-squared (uncentered):                   0.530\n",
      "Model:                            OLS   Adj. R-squared (uncentered):              0.458\n",
      "Method:                 Least Squares   F-statistic:                              7.345\n",
      "Date:                Sun, 01 Oct 2023   Prob (F-statistic):                     0.00734\n",
      "Time:                        20:23:19   Log-Likelihood:                         -15.613\n",
      "No. Observations:                  15   AIC:                                      35.23\n",
      "Df Residuals:                      13   BIC:                                      36.64\n",
      "Df Model:                           2                                                  \n",
      "Covariance Type:            nonrobust                                                  \n",
      "==============================================================================\n",
      "                 coef    std err          t      P>|t|      [0.025      0.975]\n",
      "------------------------------------------------------------------------------\n",
      "TIME           0.5702      0.252      2.263      0.041       0.026       1.115\n",
      "PUBS           0.2134      0.252      0.847      0.412      -0.331       0.758\n",
      "==============================================================================\n",
      "Omnibus:                        0.781   Durbin-Watson:                   1.207\n",
      "Prob(Omnibus):                  0.677   Jarque-Bera (JB):                0.307\n",
      "Skew:                          -0.345   Prob(JB):                        0.858\n",
      "Kurtosis:                       2.874   Cond. No.                         2.20\n",
      "==============================================================================\n",
      "\n",
      "Notes:\n",
      "[1] R² is computed without centering (uncentered) since the model does not contain a constant.\n",
      "[2] Standard Errors assume that the covariance matrix of the errors is correctly specified.\n"
     ]
    },
    {
     "name": "stderr",
     "output_type": "stream",
     "text": [
      "C:\\Users\\iniad\\miniconda3\\envs\\ds2023\\lib\\site-packages\\scipy\\stats\\stats.py:1541: UserWarning: kurtosistest only valid for n>=20 ... continuing anyway, n=15\n",
      "  warnings.warn(\"kurtosistest only valid for n>=20 ... continuing \"\n"
     ]
    }
   ],
   "source": [
    "X_scaled = pd.DataFrame(X_scaled_ar, columns=X.columns)\n",
    "y_scaled = pd.Series(y_scaled_ar, name=y.name)\n",
    "model = sm.OLS(y_scaled, X_scaled)\n",
    "results_scaled = model.fit()\n",
    "print(results_scaled.summary())"
   ]
  },
  {
   "cell_type": "code",
   "execution_count": 13,
   "id": "770bfb9b-9868-4176-b11e-018444b01923",
   "metadata": {},
   "outputs": [
    {
     "name": "stdout",
     "output_type": "stream",
     "text": [
      "TIME    0.570226\n",
      "PUBS    0.213392\n",
      "dtype: float64\n"
     ]
    }
   ],
   "source": [
    "print(results_scaled.params.sort_values(key=np.abs, ascending=False))"
   ]
  },
  {
   "cell_type": "code",
   "execution_count": 14,
   "id": "4aae5b2c-ba31-475a-8b50-e55873588d9c",
   "metadata": {},
   "outputs": [
    {
     "data": {
      "text/html": [
       "<div>\n",
       "<style scoped>\n",
       "    .dataframe tbody tr th:only-of-type {\n",
       "        vertical-align: middle;\n",
       "    }\n",
       "\n",
       "    .dataframe tbody tr th {\n",
       "        vertical-align: top;\n",
       "    }\n",
       "\n",
       "    .dataframe thead th {\n",
       "        text-align: right;\n",
       "    }\n",
       "</style>\n",
       "<table border=\"1\" class=\"dataframe\">\n",
       "  <thead>\n",
       "    <tr style=\"text-align: right;\">\n",
       "      <th></th>\n",
       "      <th>TIME</th>\n",
       "      <th>PUBS</th>\n",
       "      <th>SALARY</th>\n",
       "    </tr>\n",
       "  </thead>\n",
       "  <tbody>\n",
       "    <tr>\n",
       "      <th>0</th>\n",
       "      <td>-1.055290</td>\n",
       "      <td>-0.144776</td>\n",
       "      <td>-0.153446</td>\n",
       "    </tr>\n",
       "    <tr>\n",
       "      <th>1</th>\n",
       "      <td>-0.376889</td>\n",
       "      <td>-1.268036</td>\n",
       "      <td>0.192253</td>\n",
       "    </tr>\n",
       "    <tr>\n",
       "      <th>2</th>\n",
       "      <td>-1.055290</td>\n",
       "      <td>-1.342920</td>\n",
       "      <td>0.049775</td>\n",
       "    </tr>\n",
       "    <tr>\n",
       "      <th>3</th>\n",
       "      <td>0.075378</td>\n",
       "      <td>-0.219660</td>\n",
       "      <td>1.156799</td>\n",
       "    </tr>\n",
       "    <tr>\n",
       "      <th>4</th>\n",
       "      <td>0.301511</td>\n",
       "      <td>-0.668964</td>\n",
       "      <td>-0.015691</td>\n",
       "    </tr>\n",
       "  </tbody>\n",
       "</table>\n",
       "</div>"
      ],
      "text/plain": [
       "       TIME      PUBS    SALARY\n",
       "0 -1.055290 -0.144776 -0.153446\n",
       "1 -0.376889 -1.268036  0.192253\n",
       "2 -1.055290 -1.342920  0.049775\n",
       "3  0.075378 -0.219660  1.156799\n",
       "4  0.301511 -0.668964 -0.015691"
      ]
     },
     "metadata": {},
     "output_type": "display_data"
    }
   ],
   "source": [
    "#変数選択\n",
    "d_scaled=pd.concat([X_scaled,y_scaled],axis=1)\n",
    "display(d_scaled.head())"
   ]
  },
  {
   "cell_type": "code",
   "execution_count": 15,
   "id": "36d0e9a0-8809-46e6-9a3e-be3c93939dbe",
   "metadata": {},
   "outputs": [],
   "source": [
    "#Cell_22.\n",
    "# forward method for variable selection based on AIC.\n",
    "# Stepwise feature selection method (forward); 変数増加法による変数選択\n",
    "def step_aic_forward(model, exog, endog, **kwargs):\n",
    "    '''\n",
    "    This function calculates the best subset of explanatory (exogenous) variables based on AIC.\n",
    "    Both exog and endog can be either str or list.\n",
    "\n",
    "    Arguments:\n",
    "        model: model from statsmodels.formula.api\n",
    "        exog (str or list): explanatory (exogenous) variables\n",
    "        endog (str or list): objective (endogenous) variables\n",
    "        kwargs: additional keyword argments for model (data, family, ...)\n",
    "\n",
    "    Return values:\n",
    "        model: a model with the smallest AIC\n",
    "    '''\n",
    "    \n",
    "    # Convert exog, endog into 1-d list\n",
    "    exog = np.r_[[exog]].flatten()\n",
    "    endog = np.r_[[endog]].flatten()\n",
    "    remaining = set(exog)\n",
    "    selected = []  # Selected exogenous variables\n",
    "\n",
    "    # First, calculate AIC with a constant (no exogs)\n",
    "    formula_head = 'Q(\"' + '\") + Q(\"'.join(endog) + '\") ~ '\n",
    "    formula = formula_head + '1'\n",
    "    aic = model(formula=formula, **kwargs).fit().aic\n",
    "    print('AIC: {:.3f}, formula: {}'.format(aic, formula))\n",
    "\n",
    "    current_score, best_new_score = aic, aic\n",
    "\n",
    "    # Break loop if all exogs are selected or no remaining exogs can improve AIC\n",
    "    while True:\n",
    "        score_with_candidates = []\n",
    "        for candidate in remaining:\n",
    "            # Calculate AIC for adding an exog one by one\n",
    "            formula_tail = 'Q(\"' + '\") + Q(\"'.join(selected + [candidate]) + '\")'\n",
    "            formula = formula_head + formula_tail\n",
    "            aic = model(formula=formula, **kwargs).fit().aic\n",
    "            print('AIC: {:.3f}, formula: {}'.format(aic, formula))\n",
    "\n",
    "            score_with_candidates.append((aic, candidate))\n",
    "\n",
    "        # Select best_candidate with minimum AIC\n",
    "        score_with_candidates.sort()\n",
    "        best_score, best_candidate = score_with_candidates[0]\n",
    "\n",
    "        # select best_candidate if AIC is improved\n",
    "        improved = False\n",
    "        if best_score < current_score:\n",
    "            remaining.remove(best_candidate)\n",
    "            selected.append(best_candidate)\n",
    "            current_score = best_score\n",
    "            improved = True\n",
    "            \n",
    "        if not remaining or not improved: break\n",
    "\n",
    "    formula = formula_head + 'Q(\"' + '\") + Q(\"'.join(selected) + '\")'\n",
    "    print('The best formula: {}'.format(formula))\n",
    "    aic = model(formula=formula, **kwargs).fit().aic\n",
    "    print('Minimum AIC: {:.3f}'.format(aic))\n",
    "    \n",
    "    ret = model(formula, **kwargs).fit()\n",
    "    ret.model.exog_names_org = [re.sub(r'Q\\(\\\"(.*)\\\"\\)',r'\\1',x) for x in list(ret.model.exog_names)]\n",
    "    ret.model.endog_names_org = re.sub(r'Q\\(\\\"(.*)\\\"\\)',r'\\1',ret.model.endog_names)\n",
    "    return ret"
   ]
  },
  {
   "cell_type": "code",
   "execution_count": 16,
   "id": "37f4fbc1-22f8-4d8f-8c2b-5a1f099c49fb",
   "metadata": {},
   "outputs": [
    {
     "name": "stdout",
     "output_type": "stream",
     "text": [
      "AIC: 44.568, formula: Q(\"SALARY\") ~ 1\n",
      "AIC: 40.209, formula: Q(\"SALARY\") ~ Q(\"PUBS\")\n",
      "AIC: 36.032, formula: Q(\"SALARY\") ~ Q(\"TIME\")\n",
      "AIC: 37.227, formula: Q(\"SALARY\") ~ Q(\"TIME\") + Q(\"PUBS\")\n",
      "The best formula: Q(\"SALARY\") ~ Q(\"TIME\")\n",
      "Minimum AIC: 36.032\n"
     ]
    }
   ],
   "source": [
    "#Cell_23.\n",
    "#変数選択を実行\n",
    "\n",
    "header_y = y_scaled.name\n",
    "header_x = X_scaled.columns\n",
    "model = step_aic_forward(smf.ols, header_x,header_y, data=d_scaled)"
   ]
  },
  {
   "cell_type": "code",
   "execution_count": null,
   "id": "43d028be-2fef-45f2-b695-a5b3a6d40ca4",
   "metadata": {},
   "outputs": [],
   "source": []
  }
 ],
 "metadata": {
  "kernelspec": {
   "display_name": "Python 3 (ipykernel)",
   "language": "python",
   "name": "python3"
  },
  "language_info": {
   "codemirror_mode": {
    "name": "ipython",
    "version": 3
   },
   "file_extension": ".py",
   "mimetype": "text/x-python",
   "name": "python",
   "nbconvert_exporter": "python",
   "pygments_lexer": "ipython3",
   "version": "3.8.16"
  }
 },
 "nbformat": 4,
 "nbformat_minor": 5
}
