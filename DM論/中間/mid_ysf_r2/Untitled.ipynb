{
 "cells": [
  {
   "cell_type": "code",
   "execution_count": 39,
   "id": "158277f3-7435-4fc0-9ece-217aa4f1a61b",
   "metadata": {},
   "outputs": [],
   "source": [
    "import numpy as np\n",
    "import pandas as pd\n",
    "import matplotlib.pyplot as plt\n",
    "import seaborn as sns\n",
    "import statsmodels.api as sm\n",
    "from sklearn.preprocessing import scale\n",
    "from sklearn.metrics import mean_squared_error"
   ]
  },
  {
   "cell_type": "code",
   "execution_count": 40,
   "id": "577c5a07-74e8-4b0c-9d50-9a2282f4fcd6",
   "metadata": {},
   "outputs": [
    {
     "name": "stdout",
     "output_type": "stream",
     "text": [
      "(43, 8)\n",
      "<class 'pandas.core.frame.DataFrame'>\n",
      "RangeIndex: 43 entries, 0 to 42\n",
      "Data columns (total 8 columns):\n",
      " #   Column  Non-Null Count  Dtype  \n",
      "---  ------  --------------  -----  \n",
      " 0   スコア     43 non-null     float64\n",
      " 1   ブランド    43 non-null     object \n",
      " 2   名称      43 non-null     object \n",
      " 3   量       43 non-null     int64  \n",
      " 4   口コミ数    43 non-null     int64  \n",
      " 5   単価      43 non-null     int64  \n",
      " 6   注目人数    43 non-null     int64  \n",
      " 7   所持人数    43 non-null     int64  \n",
      "dtypes: float64(1), int64(5), object(2)\n",
      "memory usage: 2.8+ KB\n",
      "None\n"
     ]
    },
    {
     "data": {
      "text/html": [
       "<div>\n",
       "<style scoped>\n",
       "    .dataframe tbody tr th:only-of-type {\n",
       "        vertical-align: middle;\n",
       "    }\n",
       "\n",
       "    .dataframe tbody tr th {\n",
       "        vertical-align: top;\n",
       "    }\n",
       "\n",
       "    .dataframe thead th {\n",
       "        text-align: right;\n",
       "    }\n",
       "</style>\n",
       "<table border=\"1\" class=\"dataframe\">\n",
       "  <thead>\n",
       "    <tr style=\"text-align: right;\">\n",
       "      <th></th>\n",
       "      <th>スコア</th>\n",
       "      <th>ブランド</th>\n",
       "      <th>名称</th>\n",
       "      <th>量</th>\n",
       "      <th>口コミ数</th>\n",
       "      <th>単価</th>\n",
       "      <th>注目人数</th>\n",
       "      <th>所持人数</th>\n",
       "    </tr>\n",
       "  </thead>\n",
       "  <tbody>\n",
       "    <tr>\n",
       "      <th>0</th>\n",
       "      <td>5.1</td>\n",
       "      <td>イプサ</td>\n",
       "      <td>ザ・タイムRアクア</td>\n",
       "      <td>200</td>\n",
       "      <td>5530</td>\n",
       "      <td>4000</td>\n",
       "      <td>15731</td>\n",
       "      <td>32758</td>\n",
       "    </tr>\n",
       "    <tr>\n",
       "      <th>1</th>\n",
       "      <td>5.3</td>\n",
       "      <td>アルビオン</td>\n",
       "      <td>フローラドリップ</td>\n",
       "      <td>80</td>\n",
       "      <td>1561</td>\n",
       "      <td>7000</td>\n",
       "      <td>5584</td>\n",
       "      <td>9737</td>\n",
       "    </tr>\n",
       "    <tr>\n",
       "      <th>2</th>\n",
       "      <td>5.0</td>\n",
       "      <td>エリクシール</td>\n",
       "      <td>エリクシールルフレバランシングおしろいミルクC</td>\n",
       "      <td>35</td>\n",
       "      <td>1113</td>\n",
       "      <td>1800</td>\n",
       "      <td>1754</td>\n",
       "      <td>3883</td>\n",
       "    </tr>\n",
       "    <tr>\n",
       "      <th>3</th>\n",
       "      <td>5.3</td>\n",
       "      <td>キュレル</td>\n",
       "      <td>ディープモイスチャースプレー</td>\n",
       "      <td>60</td>\n",
       "      <td>1110</td>\n",
       "      <td>900</td>\n",
       "      <td>1921</td>\n",
       "      <td>3622</td>\n",
       "    </tr>\n",
       "    <tr>\n",
       "      <th>4</th>\n",
       "      <td>5.6</td>\n",
       "      <td>エリクシール</td>\n",
       "      <td>デザインタイム美容液</td>\n",
       "      <td>40</td>\n",
       "      <td>949</td>\n",
       "      <td>4000</td>\n",
       "      <td>729</td>\n",
       "      <td>1877</td>\n",
       "    </tr>\n",
       "  </tbody>\n",
       "</table>\n",
       "</div>"
      ],
      "text/plain": [
       "   スコア    ブランド                       名称    量  口コミ数    単価   注目人数   所持人数\n",
       "0  5.1     イプサ                ザ・タイムRアクア  200  5530  4000  15731  32758\n",
       "1  5.3   アルビオン                 フローラドリップ   80  1561  7000   5584   9737\n",
       "2  5.0  エリクシール  エリクシールルフレバランシングおしろいミルクC   35  1113  1800   1754   3883\n",
       "3  5.3    キュレル           ディープモイスチャースプレー   60  1110   900   1921   3622\n",
       "4  5.6  エリクシール               デザインタイム美容液   40   949  4000    729   1877"
      ]
     },
     "metadata": {},
     "output_type": "display_data"
    }
   ],
   "source": [
    "csv_in = 'cosmetics.csv'\n",
    "df = pd.read_csv(csv_in, sep=',', skiprows=0, header=0)\n",
    "print(df.shape)\n",
    "print(df.info())\n",
    "display(df.head())"
   ]
  },
  {
   "cell_type": "code",
   "execution_count": null,
   "id": "71a175df-6186-4021-a847-f05f646840f4",
   "metadata": {},
   "outputs": [],
   "source": []
  },
  {
   "cell_type": "code",
   "execution_count": 84,
   "id": "fbff1b59-3730-4883-ad5c-2e9743262a93",
   "metadata": {},
   "outputs": [],
   "source": [
    "X = df[['量']]\n",
    "y = df['スコア']"
   ]
  },
  {
   "cell_type": "code",
   "execution_count": 89,
   "id": "ba07b386-f88e-47e7-92df-5dde782061b1",
   "metadata": {},
   "outputs": [],
   "source": [
    "X_dumm = pd.get_dummies(df)"
   ]
  },
  {
   "cell_type": "code",
   "execution_count": 94,
   "id": "fe91ff7c-b804-4f7a-bf4b-7175dee52821",
   "metadata": {},
   "outputs": [
    {
     "name": "stdout",
     "output_type": "stream",
     "text": [
      "                            OLS Regression Results                            \n",
      "==============================================================================\n",
      "Dep. Variable:                    スコア   R-squared:                       1.000\n",
      "Model:                            OLS   Adj. R-squared:                    nan\n",
      "Method:                 Least Squares   F-statistic:                       nan\n",
      "Date:                Tue, 14 Nov 2023   Prob (F-statistic):                nan\n",
      "Time:                        19:22:00   Log-Likelihood:                 1053.2\n",
      "No. Observations:                  43   AIC:                            -2020.\n",
      "Df Residuals:                       0   BIC:                            -1945.\n",
      "Df Model:                          42                                         \n",
      "Covariance Type:            nonrobust                                         \n",
      "===================================================================================================\n",
      "                                      coef    std err          t      P>|t|      [0.025      0.975]\n",
      "---------------------------------------------------------------------------------------------------\n",
      "const                               0.1348        inf          0        nan         nan         nan\n",
      "スコア                                 0.9654        inf          0        nan         nan         nan\n",
      "量                                6.133e-06        inf          0        nan         nan         nan\n",
      "口コミ数                             6.602e-07        inf          0        nan         nan         nan\n",
      "単価                               3.868e-06        inf          0        nan         nan         nan\n",
      "注目人数                            -7.468e-07        inf         -0        nan         nan         nan\n",
      "所持人数                             1.715e-06        inf          0        nan         nan         nan\n",
      "ブランド_DHCプチ                         -0.0005        inf         -0        nan         nan         nan\n",
      "ブランド_MEDIHEAL                       0.0099        inf          0        nan         nan         nan\n",
      "ブランド_Norganic                      -0.0011        inf         -0        nan         nan         nan\n",
      "ブランド_SHIRO                         -0.0046        inf         -0        nan         nan         nan\n",
      "ブランド_SK-Ⅱ                          -0.0003        inf         -0        nan         nan         nan\n",
      "ブランド_SOFINA                         0.0067        inf          0        nan         nan         nan\n",
      "ブランド_WHOMEE                         0.0186        inf          0        nan         nan         nan\n",
      "ブランド_あきゅらいず                         0.0031        inf          0        nan         nan         nan\n",
      "ブランド_アスタリフト                         0.0101        inf          0        nan         nan         nan\n",
      "ブランド_アユーラ                           0.0088        inf          0        nan         nan         nan\n",
      "ブランド_アルビオン                         -0.0006        inf         -0        nan         nan         nan\n",
      "ブランド_イプサ                           -0.0116        inf         -0        nan         nan         nan\n",
      "ブランド_エテュセ                           0.0189        inf          0        nan         nan         nan\n",
      "ブランド_エリクシール                         0.0231        inf          0        nan         nan         nan\n",
      "ブランド_オバジ                            0.0113        inf          0        nan         nan         nan\n",
      "ブランド_オルビス                           0.0071        inf          0        nan         nan         nan\n",
      "ブランド_オルラーヌ                         -0.0035        inf         -0        nan         nan         nan\n",
      "ブランド_オードムーゲ                         0.0072        inf          0        nan         nan         nan\n",
      "ブランド_キュレル                           0.0196        inf          0        nan         nan         nan\n",
      "ブランド_キールズ                           0.0082        inf          0        nan         nan         nan\n",
      "ブランド_コスメデコルテ                        0.0083        inf          0        nan         nan         nan\n",
      "ブランド_コーセーコスメニエンス                    0.0085        inf          0        nan         nan         nan\n",
      "ブランド_タカミ                            0.0058        inf          0        nan         nan         nan\n",
      "ブランド_ドクターシーラボ                       0.0217        inf          0        nan         nan         nan\n",
      "ブランド_ナチュリエ                         -0.0139        inf         -0        nan         nan         nan\n",
      "ブランド_ハーバー                           0.0131        inf          0        nan         nan         nan\n",
      "ブランド_ブランネージュ                       -0.0510        inf         -0        nan         nan         nan\n",
      "ブランド_プライマリー                        -0.0234        inf         -0        nan         nan         nan\n",
      "ブランド_ベネフィーク                         0.0118        inf          0        nan         nan         nan\n",
      "ブランド_メラノCC                          0.0033        inf          0        nan         nan         nan\n",
      "ブランド_ランコム                          -0.0059        inf         -0        nan         nan         nan\n",
      "ブランド_無印良品                           0.0038        inf          0        nan         nan         nan\n",
      "ブランド_肌ラボ                            0.0197        inf          0        nan         nan         nan\n",
      "ブランド_肌色化粧品                         -0.0237        inf         -0        nan         nan         nan\n",
      "ブランド_菊正宗                            0.0071        inf          0        nan         nan         nan\n",
      "名称_VC100エッセンスローションEX                0.0217        inf          0        nan         nan         nan\n",
      "名称_アスタリフト スパークル タイト セラム             0.0101        inf          0        nan         nan         nan\n",
      "名称_アルビオン 薬用スキンコンディショナー エッセンシャル     -0.0086        inf         -0        nan         nan         nan\n",
      "名称_エリクシール ホワイト クリアローション T II        0.0227        inf          0        nan         nan         nan\n",
      "名称_エリクシール ルフレ バランシング おしろいミルク       -0.0183        inf         -0        nan         nan         nan\n",
      "名称_エリクシールルフレバランシングおしろいミルクC          0.0018        inf          0        nan         nan         nan\n",
      "名称_オバジC25セラム ネオ                    -0.0174        inf         -0        nan         nan         nan\n",
      "名称_オバジXリフトローション                     0.0287        inf          0        nan         nan         nan\n",
      "名称_オルビスユーローション                      0.0071        inf          0        nan         nan         nan\n",
      "名称_オードムーゲ 薬用ローション                   0.0072        inf          0        nan         nan         nan\n",
      "名称_キールズ ハーバル トナー CL アルコールフリー        0.0069        inf          0        nan         nan         nan\n",
      "名称_キールズDSクリアリーホワイトブライトニングエッセンス      0.0013        inf          0        nan         nan         nan\n",
      "名称_クラリフィック デュアル エッセンス ローション        -0.0059        inf         -0        nan         nan         nan\n",
      "名称_ザ・タイムRアクア                       -0.0116        inf         -0        nan         nan         nan\n",
      "名称_タカミスキンピール                        0.0058        inf          0        nan         nan         nan\n",
      "名称_ティーツリーケアソリューションアンプルマスクJEX        0.0099        inf          0        nan         nan         nan\n",
      "名称_ディープモイスチャースプレー                   0.0196        inf          0        nan         nan         nan\n",
      "名称_デザインタイム美容液                       0.0168        inf          0        nan         nan         nan\n",
      "名称_ハトムギ化粧水                         -0.0139        inf         -0        nan         nan         nan\n",
      "名称_フェイシャルトリートメントエッセンス              -0.0003        inf         -0        nan         nan         nan\n",
      "名称_フェイスエディション(スキンベース) フォードライスキン     0.0189        inf          0        nan         nan         nan\n",
      "名称_フローラドリップ                         0.0080        inf          0        nan         nan         nan\n",
      "名称_プロP セラム                          0.0192        inf          0        nan         nan         nan\n",
      "名称_ベースケア セラム                        0.0067        inf          0        nan         nan         nan\n",
      "名称_メイク キープ ミスト                      0.0085        inf          0        nan         nan         nan\n",
      "名称_モイスチュア リポソーム                     0.0083        inf          0        nan         nan         nan\n",
      "名称_モイスチュア＆バランシング ローション             -0.0011        inf         -0        nan         nan         nan\n",
      "名称_モイストエイジングケアクリーム                  0.0186        inf          0        nan         nan         nan\n",
      "名称_リズムコンセントレートウォーター                 0.0088        inf          0        nan         nan         nan\n",
      "名称_リセットクリア                          0.0118        inf          0        nan         nan         nan\n",
      "名称_リフレッシャーローション                    -0.0234        inf         -0        nan         nan         nan\n",
      "名称_ヴィヴィファイイングローション                 -0.0035        inf         -0        nan         nan         nan\n",
      "名称_化粧水                             -0.0077        inf         -0        nan         nan         nan\n",
      "名称_化粧水・敏感肌用・高保湿タイプ                  0.0115        inf          0        nan         nan         nan\n",
      "名称_和漢粧エッセンスローション                   -0.0237        inf         -0        nan         nan         nan\n",
      "名称_日本酒の化粧水                          0.0071        inf          0        nan         nan         nan\n",
      "名称_極潤プレミアム ヒアルロン液                   0.0197        inf          0        nan         nan         nan\n",
      "名称_秀くりーむ                            0.0031        inf          0        nan         nan         nan\n",
      "名称_薬用しみ対策 美白化粧水                     0.0033        inf          0        nan         nan         nan\n",
      "名称_薬用トーニングローション                    -0.0005        inf         -0        nan         nan         nan\n",
      "名称_酒かす化粧水                          -0.0046        inf         -0        nan         nan         nan\n",
      "名称_高品位「スクワラン」                       0.0131        inf          0        nan         nan         nan\n",
      "==============================================================================\n",
      "Omnibus:                       23.434   Durbin-Watson:                   1.930\n",
      "Prob(Omnibus):                  0.000   Jarque-Bera (JB):               40.519\n",
      "Skew:                          -1.549   Prob(JB):                     1.59e-09\n",
      "Kurtosis:                       6.609   Cond. No.                     8.74e+04\n",
      "==============================================================================\n",
      "\n",
      "Notes:\n",
      "[1] Standard Errors assume that the covariance matrix of the errors is correctly specified.\n",
      "[2] The input rank is higher than the number of observations.\n",
      "[3] The condition number is large, 8.74e+04. This might indicate that there are\n",
      "strong multicollinearity or other numerical problems.\n"
     ]
    },
    {
     "name": "stderr",
     "output_type": "stream",
     "text": [
      "C:\\Users\\iniad\\miniconda3\\envs\\ds2023\\lib\\site-packages\\statsmodels\\regression\\linear_model.py:1765: RuntimeWarning: divide by zero encountered in true_divide\n",
      "  return 1 - (np.divide(self.nobs - self.k_constant, self.df_resid)\n",
      "C:\\Users\\iniad\\miniconda3\\envs\\ds2023\\lib\\site-packages\\statsmodels\\regression\\linear_model.py:1765: RuntimeWarning: invalid value encountered in double_scalars\n",
      "  return 1 - (np.divide(self.nobs - self.k_constant, self.df_resid)\n",
      "C:\\Users\\iniad\\miniconda3\\envs\\ds2023\\lib\\site-packages\\statsmodels\\regression\\linear_model.py:1687: RuntimeWarning: divide by zero encountered in double_scalars\n",
      "  return np.dot(wresid, wresid) / self.df_resid\n"
     ]
    }
   ],
   "source": [
    "X_dumm_c = sm.add_constant(df_dumm)\n",
    "model = sm.OLS(y, X_dumm_c)\n",
    "results = model.fit()\n",
    "print(results.summary())"
   ]
  },
  {
   "cell_type": "code",
   "execution_count": 92,
   "id": "9f67ea08-5fb9-4f6b-ac26-eb867dcd1230",
   "metadata": {},
   "outputs": [
    {
     "name": "stdout",
     "output_type": "stream",
     "text": [
      "const              1.407727e-01\n",
      "スコア                9.637870e-01\n",
      "量                  1.337331e-05\n",
      "口コミ数               7.639303e-07\n",
      "単価                 4.433894e-06\n",
      "                       ...     \n",
      "名称_秀くりーむ           2.524119e-03\n",
      "名称_薬用しみ対策 美白化粧水    3.024512e-03\n",
      "名称_薬用トーニングローション   -8.438293e-04\n",
      "名称_酒かす化粧水         -5.122927e-03\n",
      "名称_高品位「スクワラン」      1.396916e-02\n",
      "Length: 86, dtype: float64\n"
     ]
    }
   ],
   "source": [
    "print(results.params)"
   ]
  },
  {
   "cell_type": "code",
   "execution_count": 88,
   "id": "8b3322d8-f051-4112-8e84-b3358d67588d",
   "metadata": {},
   "outputs": [
    {
     "name": "stdout",
     "output_type": "stream",
     "text": [
      "Adj2 R2: 0.050470158804635346\n"
     ]
    }
   ],
   "source": [
    "print('Adj2 R2:', results.rsquared_adj)"
   ]
  },
  {
   "cell_type": "code",
   "execution_count": null,
   "id": "08f6bf37-5001-4ee5-81ab-c3448a3560d6",
   "metadata": {},
   "outputs": [],
   "source": []
  }
 ],
 "metadata": {
  "kernelspec": {
   "display_name": "Python 3 (ipykernel)",
   "language": "python",
   "name": "python3"
  },
  "language_info": {
   "codemirror_mode": {
    "name": "ipython",
    "version": 3
   },
   "file_extension": ".py",
   "mimetype": "text/x-python",
   "name": "python",
   "nbconvert_exporter": "python",
   "pygments_lexer": "ipython3",
   "version": "3.8.16"
  }
 },
 "nbformat": 4,
 "nbformat_minor": 5
}
