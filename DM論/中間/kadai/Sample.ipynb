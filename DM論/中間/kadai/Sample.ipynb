{
 "cells": [
  {
   "cell_type": "markdown",
   "metadata": {},
   "source": [
    "#### Import libraries  "
   ]
  },
  {
   "cell_type": "code",
   "execution_count": 1,
   "metadata": {},
   "outputs": [],
   "source": [
    "import pandas as pd\n",
    "from sklearn.feature_extraction.text import CountVectorizer\n",
    "from sklearn.naive_bayes import MultinomialNB"
   ]
  },
  {
   "cell_type": "markdown",
   "metadata": {},
   "source": [
    "#### Make DataFrame  "
   ]
  },
  {
   "cell_type": "code",
   "execution_count": 5,
   "metadata": {},
   "outputs": [
    {
     "name": "stdout",
     "output_type": "stream",
     "text": [
      "(3, 2)\n",
      "<class 'pandas.core.frame.DataFrame'>\n",
      "RangeIndex: 3 entries, 0 to 2\n",
      "Data columns (total 2 columns):\n",
      " #   Column    Non-Null Count  Dtype \n",
      "---  ------    --------------  ----- \n",
      " 0   category  3 non-null      object\n",
      " 1   text      3 non-null      object\n",
      "dtypes: object(2)\n",
      "memory usage: 176.0+ bytes\n",
      "None\n"
     ]
    },
    {
     "data": {
      "text/html": [
       "<div>\n",
       "<style scoped>\n",
       "    .dataframe tbody tr th:only-of-type {\n",
       "        vertical-align: middle;\n",
       "    }\n",
       "\n",
       "    .dataframe tbody tr th {\n",
       "        vertical-align: top;\n",
       "    }\n",
       "\n",
       "    .dataframe thead th {\n",
       "        text-align: right;\n",
       "    }\n",
       "</style>\n",
       "<table border=\"1\" class=\"dataframe\">\n",
       "  <thead>\n",
       "    <tr style=\"text-align: right;\">\n",
       "      <th></th>\n",
       "      <th>category</th>\n",
       "      <th>text</th>\n",
       "    </tr>\n",
       "  </thead>\n",
       "  <tbody>\n",
       "    <tr>\n",
       "      <th>0</th>\n",
       "      <td>chihuahua</td>\n",
       "      <td>19 世紀 半ば アメリカ 品種 改良 進める られる （ この 時期 、 ロング コート ...</td>\n",
       "    </tr>\n",
       "    <tr>\n",
       "      <th>1</th>\n",
       "      <td>poodle</td>\n",
       "      <td>飼う 、 知能 高い さ 全 犬 種 人気 ランキング 不動 1 位 獲得 する いる 。 ...</td>\n",
       "    </tr>\n",
       "    <tr>\n",
       "      <th>2</th>\n",
       "      <td>french_bulldog</td>\n",
       "      <td>がっしり する 体つき 、 極めて 鼻 短い 中型 犬 。 特徴 的 の コウモリ 羽 広げ...</td>\n",
       "    </tr>\n",
       "  </tbody>\n",
       "</table>\n",
       "</div>"
      ],
      "text/plain": [
       "         category                                               text\n",
       "0       chihuahua  19 世紀 半ば アメリカ 品種 改良 進める られる （ この 時期 、 ロング コート ...\n",
       "1          poodle  飼う 、 知能 高い さ 全 犬 種 人気 ランキング 不動 1 位 獲得 する いる 。 ...\n",
       "2  french_bulldog  がっしり する 体つき 、 極めて 鼻 短い 中型 犬 。 特徴 的 の コウモリ 羽 広げ..."
      ]
     },
     "metadata": {},
     "output_type": "display_data"
    }
   ],
   "source": [
    "df = pd.read_csv(\"dogs.csv\", delimiter=',', skiprows=0, header=0,\n",
    "                 encoding='shift-jis')\n",
    "print(df.shape)\n",
    "print(df.info())\n",
    "display(df.head())"
   ]
  },
  {
   "cell_type": "markdown",
   "metadata": {},
   "source": [
    "#### Obtain X_train (data) and y_train (true category)  "
   ]
  },
  {
   "cell_type": "code",
   "execution_count": 7,
   "metadata": {},
   "outputs": [
    {
     "name": "stdout",
     "output_type": "stream",
     "text": [
      "0    19 世紀 半ば アメリカ 品種 改良 進める られる （ この 時期 、 ロング コート ...\n",
      "1    飼う 、 知能 高い さ 全 犬 種 人気 ランキング 不動 1 位 獲得 する いる 。 ...\n",
      "2    がっしり する 体つき 、 極めて 鼻 短い 中型 犬 。 特徴 的 の コウモリ 羽 広げ...\n",
      "Name: text, dtype: object\n",
      "0         chihuahua\n",
      "1            poodle\n",
      "2    french_bulldog\n",
      "Name: category, dtype: object\n"
     ]
    }
   ],
   "source": [
    "X_train = df['text']\n",
    "y_train = df['category']\n",
    "print(X_train)\n",
    "print(y_train)"
   ]
  },
  {
   "cell_type": "markdown",
   "metadata": {},
   "source": [
    "#### Specify X_test and y_test  "
   ]
  },
  {
   "cell_type": "code",
   "execution_count": 8,
   "metadata": {},
   "outputs": [
    {
     "name": "stdout",
     "output_type": "stream",
     "text": [
      "['毛 人気 知能 小型 鼻 日本 食事 犬 雑種']\n"
     ]
    }
   ],
   "source": [
    "X_test = ['毛 人気 知能 小型 鼻 日本 食事 犬 雑種']\n",
    "print(X_test)"
   ]
  },
  {
   "cell_type": "markdown",
   "metadata": {},
   "source": [
    "#### Collect words  "
   ]
  },
  {
   "cell_type": "code",
   "execution_count": 9,
   "metadata": {},
   "outputs": [
    {
     "name": "stdout",
     "output_type": "stream",
     "text": [
      "Vocabulary size: 707\n",
      "['11' '12' '13' '15' '156' '16' '163' '1632' '17' '173' '18' '1850' '19'\n",
      " '1904' '1949' '1970' '1998' '2000' '2002' '2006' '2008' '2013' '2019'\n",
      " '2228' '27' '28' '33' '641' '68' '72' '72941' '74240' '85' '86' '90'\n",
      " '913' '980' 'bobo' 'britain' 'bulldog' 'chihuahua' 'cm' 'de' 'dj' 'dna'\n",
      " 'jkc' 'kg' 'of' 'pra' 'pudel' 'toy' 'あいだ' 'あまり' 'ある' 'いく' 'いる' 'うえ' 'おる'\n",
      " 'かかる' 'かかわる' 'かく' 'かつ' 'かなり' 'かわいらしい' 'がかる' 'がっしり' 'きわめて' 'こうした' 'こと'\n",
      " 'この' 'これ' 'これら' 'こん' 'ごと' 'ごろ' 'さらに' 'しかし' 'しまう' 'しれる' 'しわ' 'すぎ' 'すぐ'\n",
      " 'する' 'ずんぐり' 'せる' 'その' 'その他' 'その後' 'それ' 'ただし' 'たち' 'たとえば' 'たまる' 'ため' 'たるみ'\n",
      " 'だぶつく' 'つきあい' 'つぶれる' 'てんかん' 'できあがる' 'できる' 'とおり' 'どうし' 'どんどん' 'ない' 'ならでは'\n",
      " 'なる' 'にくい' 'はしゃぐ' 'ひとつ' 'ほとんど' 'また' 'または' 'まとう' 'まもなく' 'まれ' 'みる' 'むく'\n",
      " 'もち' 'もともと' 'もの' 'やく' 'やすい' 'やはり' 'やや' 'ゆえ' 'よう' 'よって' 'より' 'られる' 'れる'\n",
      " 'わかる' 'わずか' 'アップルドーム' 'アドバイス' 'アプリコット' 'アメリカ' 'アメリカンケネルクラブ' 'イア' 'イギリス'\n",
      " 'イビキ' 'ウォーター' 'ウサギ' 'オレンジフォーン' 'カニシュ' 'カニッシュ' 'カフェオレ' 'カモ' 'カラー'\n",
      " 'カンバーランド' 'ギジェット' 'クリーム' 'グレー' 'ケネルクラブ' 'ケース' 'ゲーテ' 'コウモリ' 'コース' 'コート'\n",
      " 'ゴージャス' 'サイズ' 'サーカス' 'ショードッグ' 'シルバー' 'シングル' 'ジャパンケネルクラブ' 'ジョージ' 'スタンダード'\n",
      " 'スタンダードファントムプードル' 'スタート' 'スペイン' 'スムース' 'ソリッド' 'ソング' 'タコ' 'タレント' 'タン'\n",
      " 'ダックスフント' 'チワワ' 'テリア' 'デコ' 'デンタルケア' 'トイ' 'トラブル' 'トリミング' 'ドイツ' 'ドッグ'\n",
      " 'ハイキング' 'ハイブリッド' 'バチャバチャ' 'バット' 'パイド' 'パピヨン' 'パーセス' 'パーティ' 'ヒット' 'ビスケット'\n",
      " 'ファウスト' 'ファントムプードル' 'フクロウ' 'フランス' 'フランス語' 'フレンチ' 'ブラウン' 'ブラック' 'ブラッシング'\n",
      " 'ブル' 'ブルドッグ' 'ブルー' 'ブーム' 'プデル' 'プードル' 'プール' 'ヘルニア' 'ベル' 'ベルク' 'ベージュ'\n",
      " 'ベース' 'ペット' 'ペルテス' 'ペールフォーン' 'ホワイト' 'ボストン' 'ボーイ' 'ポメラニアン' 'ポンド' 'マズル'\n",
      " 'マン' 'ミディアム' 'ミニチュア' 'ヨーロッパ' 'ランキング' 'リス' 'リンゴ' 'ルイ' 'ルパート' 'ルーツ' 'レッグ'\n",
      " 'レッド' 'レッドフォーン' 'レンブラント' 'ロング' 'ヶ月' '一つ' '一方' '一般' '三原色' '上向き' '上流' '下がる'\n",
      " '下痢' '不動' '不明' '不自然' '与える' '世界' '世紀' '中型' '中間色' '丸み' '主人' '予防' '二色' '交尾'\n",
      " '交配' '交雑' '人工' '人懐っこい' '人気' '人為' '人間' '今日' '仔犬' '付ける' '以上' '以下' '以外' '伴う'\n",
      " '伸びる' '低い' '低下' '住宅' '体つき' '体格' '体温' '体臭' '体調' '体重' '体高' '何らかの' '作り上げる'\n",
      " '作る' '作中' '作出' '作業' '使う' '例えば' '供給' '価値' '保冷' '個体' '個性' '偏食' '健全' '健康'\n",
      " '傷つく' '傾向' '僅か' '優先' '先天' '先祖' '光景' '入る' '全土' '全米' '公園' '内訳' '出る' '出典'\n",
      " '出演' '出産' '分娩' '分野' '初めて' '初代' '利口' '前後' '前述' '割合' '加える' '加味' '劣性' '動物'\n",
      " '医師' '半ば' '単色' '博す' '占める' '危険' '原産' '原産地' '参照' '反る' '反面' '取引' '受け継ぐ' '受精'\n",
      " '古く' '可愛い' '可愛がる' '可能' '各地' '合計' '同様' '同種' '向く' '周り' '呼ぶ' '呼吸' '品種' '唸る'\n",
      " '問題' '噛み付く' '噛む' '回収' '困難' '国外' '均一' '基本' '報告' '場合' '場所' '変わる' '変化' '変更'\n",
      " '外側' '外耳' '外見' '外観' '多い' '多く' '多数' '多様' '多種' '大きい' '大きな' '大型' '大変' '大戦'\n",
      " '大胆' '太い' '失う' '失格' '女性' '好き' '好む' '好奇' '始まる' '婦人' '子供' '季節' '学的' '安定'\n",
      " '完全' '定期' '実情' '家庭' '寒い' '対峙' '対策' '対象' '寿命' '小さい' '小さな' '小型' '少ない'\n",
      " '少なくとも' '尻尾' '屋外' '巻く' '希少' '帝王切開' '帯びる' '平均' '年代' '年度' '年齢' '幼児' '幼少'\n",
      " '広げる' '広まる' '弊害' '引き' '弱い' '張る' '強い' '彼ら' '後半' '後述' '徐々に' '得る' '得意' '必要'\n",
      " '必須' '応える' '忠誠' '怠る' '急増' '急速' '性格' '性能' '性質' '怪我' '恒温動物' '患う' '愛情' '愛想'\n",
      " '愛犬' '愛玩' '感染' '成立' '成長' '抜ける' '抜け毛' '押し倒す' '担う' '持ち合わせる' '持つ' '挙げる' '振る'\n",
      " '振る舞う' '改良' '放す' '敏感' '救助' '散歩' '数値' '斜視' '断る' '日本' '旺盛' '明らか' '時に' '時代'\n",
      " '時期' '暑い' '最も' '最近' '有名' '有意' '本来' '東方' '根元' '極めて' '楽しむ' '概して' '様々' '模様'\n",
      " '機敏' '欠く' '次ぐ' '次第に' '毎日' '毛色' '気に入る' '気道' '水中' '水辺' '求める' '汚れ' '沈静' '治療'\n",
      " '法則' '法律' '注意' '泳ぎ' '活動' '活発' '活躍' '涵養' '深い' '混同' '混血' '減税' '渡る' '激しい'\n",
      " '濃淡' '無い' '無謀' '爆発' '特に' '特定' '特徴' '特有' '狂犬病' '狩猟' '独特' '独立' '猛禽' '献身'\n",
      " '獣医' '獲る' '獲得' '獲物' '王朝' '現代' '現在' '理由' '甘えん坊' '甘やかす' '生える' '生まれる' '生後'\n",
      " '生涯' '生産' '用いる' '由来' '甲状腺' '異常' '疾患' '病気' '症候群' '痙攣' '発作' '発症' '発行' '登場'\n",
      " '登録' '白内障' '白斑' '白目' '皮膚' '盛ん' '眼球' '知る' '知性' '知能' '短い' '研究' '社会' '神経'\n",
      " '神経質' '禁物' '移入' '突出' '立てる' '管理' '範囲' '純白' '細心' '結果' '絡む' '統計' '網膜' '総勢'\n",
      " '繁殖' '罹る' '罹患' '美的' '美食' '考慮' '聴覚' '肥満' '肩幅' '脆弱' '脊髄' '脱臼' '膝蓋骨' '自然'\n",
      " '自由' '自画' '臭い' '良い' '若い' '苦労' '茶褐色' '萎縮' '血統' '行う' '行く' '衣装' '被害' '要素'\n",
      " '見た目' '見る' '見受ける' '規定' '親交' '観点' '解析' '言う' '計画' '訓練' '許容' '評判' '詰まる' '話題'\n",
      " '認める' '認可' '語源' '調査' '調節' '豊富' '賛美' '賞賛' '起因' '起源' '身体' '輸入' '輸送' '近年'\n",
      " '退色' '通り' '通常' '連れる' '進める' '進行' '運動' '過ぎる' '過度' '過程' '適す' '適宜' '適応' '選択'\n",
      " '遺伝' '遺伝子' '邦題' '部分' '部屋' '配分' '重ねる' '重んじる' '野良' '鑑みる' '鑑定' '長い' '長寿'\n",
      " '長時間' '長毛' '関係' '関節' '防止' '除外' '陽気' '階級' '障害' '集中' '集団' '難しい' '非常' '頑固'\n",
      " '頭数' '頭部' '顕著' '飛行機' '食事' '食欲' '飼い主' '飼う' '飼育' '骨格' '高い' '高まる' '高額' '麻酔'\n",
      " '鼻水']\n"
     ]
    }
   ],
   "source": [
    "vectorizer = CountVectorizer()\n",
    "vectorizer.fit(X_train)\n",
    "vocab = vectorizer. get_feature_names_out()\n",
    "print('Vocabulary size:', len(vocab))\n",
    "print(vocab)"
   ]
  },
  {
   "cell_type": "markdown",
   "metadata": {},
   "source": [
    "#### Make BoW (word frequency vectors)     "
   ]
  },
  {
   "cell_type": "code",
   "execution_count": 10,
   "metadata": {},
   "outputs": [
    {
     "name": "stdout",
     "output_type": "stream",
     "text": [
      "X_train_bow:\n",
      "<3x707 sparse matrix of type '<class 'numpy.int64'>'\n",
      "\twith 861 stored elements in Compressed Sparse Row format>\n",
      "X_test_bow:\n",
      "<1x707 sparse matrix of type '<class 'numpy.int64'>'\n",
      "\twith 5 stored elements in Compressed Sparse Row format>\n"
     ]
    }
   ],
   "source": [
    "X_train_bow = vectorizer.transform(X_train)\n",
    "X_test_bow = vectorizer.transform(X_test)\n",
    "print('X_train_bow:')\n",
    "print(repr(X_train_bow))\n",
    "print('X_test_bow:')\n",
    "print(repr(X_test_bow))"
   ]
  },
  {
   "cell_type": "markdown",
   "metadata": {},
   "source": [
    "#### Display BoW  "
   ]
  },
  {
   "cell_type": "code",
   "execution_count": 11,
   "metadata": {},
   "outputs": [
    {
     "data": {
      "text/html": [
       "<div>\n",
       "<style scoped>\n",
       "    .dataframe tbody tr th:only-of-type {\n",
       "        vertical-align: middle;\n",
       "    }\n",
       "\n",
       "    .dataframe tbody tr th {\n",
       "        vertical-align: top;\n",
       "    }\n",
       "\n",
       "    .dataframe thead th {\n",
       "        text-align: right;\n",
       "    }\n",
       "</style>\n",
       "<table border=\"1\" class=\"dataframe\">\n",
       "  <thead>\n",
       "    <tr style=\"text-align: right;\">\n",
       "      <th></th>\n",
       "      <th>11</th>\n",
       "      <th>12</th>\n",
       "      <th>13</th>\n",
       "      <th>15</th>\n",
       "      <th>156</th>\n",
       "      <th>16</th>\n",
       "      <th>163</th>\n",
       "      <th>1632</th>\n",
       "      <th>17</th>\n",
       "      <th>173</th>\n",
       "      <th>...</th>\n",
       "      <th>食欲</th>\n",
       "      <th>飼い主</th>\n",
       "      <th>飼う</th>\n",
       "      <th>飼育</th>\n",
       "      <th>骨格</th>\n",
       "      <th>高い</th>\n",
       "      <th>高まる</th>\n",
       "      <th>高額</th>\n",
       "      <th>麻酔</th>\n",
       "      <th>鼻水</th>\n",
       "    </tr>\n",
       "    <tr>\n",
       "      <th>category</th>\n",
       "      <th></th>\n",
       "      <th></th>\n",
       "      <th></th>\n",
       "      <th></th>\n",
       "      <th></th>\n",
       "      <th></th>\n",
       "      <th></th>\n",
       "      <th></th>\n",
       "      <th></th>\n",
       "      <th></th>\n",
       "      <th></th>\n",
       "      <th></th>\n",
       "      <th></th>\n",
       "      <th></th>\n",
       "      <th></th>\n",
       "      <th></th>\n",
       "      <th></th>\n",
       "      <th></th>\n",
       "      <th></th>\n",
       "      <th></th>\n",
       "      <th></th>\n",
       "    </tr>\n",
       "  </thead>\n",
       "  <tbody>\n",
       "    <tr>\n",
       "      <th>chihuahua</th>\n",
       "      <td>0</td>\n",
       "      <td>0</td>\n",
       "      <td>0</td>\n",
       "      <td>2</td>\n",
       "      <td>0</td>\n",
       "      <td>0</td>\n",
       "      <td>0</td>\n",
       "      <td>0</td>\n",
       "      <td>0</td>\n",
       "      <td>0</td>\n",
       "      <td>...</td>\n",
       "      <td>0</td>\n",
       "      <td>1</td>\n",
       "      <td>1</td>\n",
       "      <td>2</td>\n",
       "      <td>1</td>\n",
       "      <td>4</td>\n",
       "      <td>0</td>\n",
       "      <td>1</td>\n",
       "      <td>0</td>\n",
       "      <td>0</td>\n",
       "    </tr>\n",
       "    <tr>\n",
       "      <th>poodle</th>\n",
       "      <td>0</td>\n",
       "      <td>2</td>\n",
       "      <td>1</td>\n",
       "      <td>0</td>\n",
       "      <td>1</td>\n",
       "      <td>2</td>\n",
       "      <td>1</td>\n",
       "      <td>1</td>\n",
       "      <td>1</td>\n",
       "      <td>1</td>\n",
       "      <td>...</td>\n",
       "      <td>0</td>\n",
       "      <td>0</td>\n",
       "      <td>1</td>\n",
       "      <td>2</td>\n",
       "      <td>0</td>\n",
       "      <td>3</td>\n",
       "      <td>1</td>\n",
       "      <td>0</td>\n",
       "      <td>0</td>\n",
       "      <td>0</td>\n",
       "    </tr>\n",
       "    <tr>\n",
       "      <th>french_bulldog</th>\n",
       "      <td>1</td>\n",
       "      <td>1</td>\n",
       "      <td>0</td>\n",
       "      <td>0</td>\n",
       "      <td>0</td>\n",
       "      <td>0</td>\n",
       "      <td>0</td>\n",
       "      <td>0</td>\n",
       "      <td>1</td>\n",
       "      <td>0</td>\n",
       "      <td>...</td>\n",
       "      <td>1</td>\n",
       "      <td>0</td>\n",
       "      <td>0</td>\n",
       "      <td>1</td>\n",
       "      <td>0</td>\n",
       "      <td>2</td>\n",
       "      <td>0</td>\n",
       "      <td>0</td>\n",
       "      <td>1</td>\n",
       "      <td>1</td>\n",
       "    </tr>\n",
       "  </tbody>\n",
       "</table>\n",
       "<p>3 rows × 707 columns</p>\n",
       "</div>"
      ],
      "text/plain": [
       "                11  12  13  15  156  16  163  1632  17  173  ...  食欲  飼い主  飼う  \\\n",
       "category                                                     ...                \n",
       "chihuahua        0   0   0   2    0   0    0     0   0    0  ...   0    1   1   \n",
       "poodle           0   2   1   0    1   2    1     1   1    1  ...   0    0   1   \n",
       "french_bulldog   1   1   0   0    0   0    0     0   1    0  ...   1    0   0   \n",
       "\n",
       "                飼育  骨格  高い  高まる  高額  麻酔  鼻水  \n",
       "category                                     \n",
       "chihuahua        2   1   4    0   1   0   0  \n",
       "poodle           2   0   3    1   0   0   0  \n",
       "french_bulldog   1   0   2    0   0   1   1  \n",
       "\n",
       "[3 rows x 707 columns]"
      ]
     },
     "metadata": {},
     "output_type": "display_data"
    }
   ],
   "source": [
    "Xbow = pd.DataFrame(X_train_bow.toarray(), \n",
    "                    index=y_train, columns=vocab)\n",
    "display(Xbow)"
   ]
  },
  {
   "cell_type": "markdown",
   "metadata": {},
   "source": [
    "#### Training of naive Bayes classifier  "
   ]
  },
  {
   "cell_type": "code",
   "execution_count": 12,
   "metadata": {},
   "outputs": [
    {
     "name": "stdout",
     "output_type": "stream",
     "text": [
      "['chihuahua' 'french_bulldog' 'poodle']\n",
      "Train accuracy: 1.0\n"
     ]
    }
   ],
   "source": [
    "model = MultinomialNB(alpha=1.0, class_prior=[15/50,10/50,25/50])\n",
    "model.fit(X_train_bow, y_train)\n",
    "print(model.classes_)\n",
    "train_score = model.score(X_train_bow, y_train)\n",
    "print('Train accuracy:', train_score)"
   ]
  },
  {
   "cell_type": "markdown",
   "metadata": {},
   "source": [
    "#### Prediction using naive Bayes classifier after training  "
   ]
  },
  {
   "cell_type": "code",
   "execution_count": 13,
   "metadata": {},
   "outputs": [
    {
     "name": "stdout",
     "output_type": "stream",
     "text": [
      "Prediction:\n"
     ]
    },
    {
     "data": {
      "text/html": [
       "<div>\n",
       "<style scoped>\n",
       "    .dataframe tbody tr th:only-of-type {\n",
       "        vertical-align: middle;\n",
       "    }\n",
       "\n",
       "    .dataframe tbody tr th {\n",
       "        vertical-align: top;\n",
       "    }\n",
       "\n",
       "    .dataframe thead th {\n",
       "        text-align: right;\n",
       "    }\n",
       "</style>\n",
       "<table border=\"1\" class=\"dataframe\">\n",
       "  <thead>\n",
       "    <tr style=\"text-align: right;\">\n",
       "      <th></th>\n",
       "      <th>chihuahua</th>\n",
       "      <th>french_bulldog</th>\n",
       "      <th>poodle</th>\n",
       "    </tr>\n",
       "  </thead>\n",
       "  <tbody>\n",
       "    <tr>\n",
       "      <th>0</th>\n",
       "      <td>0.492259</td>\n",
       "      <td>0.009958</td>\n",
       "      <td>0.497783</td>\n",
       "    </tr>\n",
       "  </tbody>\n",
       "</table>\n",
       "</div>"
      ],
      "text/plain": [
       "   chihuahua  french_bulldog    poodle\n",
       "0   0.492259        0.009958  0.497783"
      ]
     },
     "metadata": {},
     "output_type": "display_data"
    },
    {
     "name": "stdout",
     "output_type": "stream",
     "text": [
      "['poodle']\n"
     ]
    }
   ],
   "source": [
    "proba = model.predict_proba(X_test_bow)\n",
    "results = pd.DataFrame(proba, columns=model.classes_)\n",
    "print('Prediction:')\n",
    "display(results)\n",
    "print(model.predict(X_test_bow))"
   ]
  },
  {
   "cell_type": "code",
   "execution_count": null,
   "metadata": {},
   "outputs": [],
   "source": []
  }
 ],
 "metadata": {
  "kernelspec": {
   "display_name": "Python 3 (ipykernel)",
   "language": "python",
   "name": "python3"
  },
  "language_info": {
   "codemirror_mode": {
    "name": "ipython",
    "version": 3
   },
   "file_extension": ".py",
   "mimetype": "text/x-python",
   "name": "python",
   "nbconvert_exporter": "python",
   "pygments_lexer": "ipython3",
   "version": "3.8.16"
  }
 },
 "nbformat": 4,
 "nbformat_minor": 4
}
